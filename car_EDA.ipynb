{
 "cells": [
  {
   "attachments": {},
   "cell_type": "markdown",
   "metadata": {},
   "source": [
    "## <p style=\"background-color:#343541; font-family:newtimeroman; color:#FFF9ED; font-size:175%; text-align:center; border-radius:10px 10px;\">Datenbereinigung für Auto-Projekt</p>"
   ]
  },
  {
   "cell_type": "markdown",
   "metadata": {},
   "source": [
    "<p align=\"center\">\n",
    "  <img src=\"https://www.embedded.com/wp-content/uploads/2023/03/Figure-1-Cerebrum-X.jpg\" width=1300 height=350/>\n",
    "</p>"
   ]
  },
  {
   "attachments": {},
   "cell_type": "markdown",
   "metadata": {},
   "source": [
    "<style>\n",
    ".my-anchor2 {\n",
    "  background-color: #343541;\n",
    "  font-family: newtimeroman;\n",
    "  color: White;\n",
    "  font-size: 100%;\n",
    "  text-align: center;\n",
    "  border-radius: 10px;\n",
    "}\n",
    "</style>\n",
    "## <a class=\"my-anchor2\" id=\"content\">  Content  </a>\n",
    "\n",
    "* [Ziel](#ziel)\n",
    "* [Info](#info)\n",
    "***\n",
    "* [Import Libraries](#lr)\n",
    "* [Datensatz erkunden](#ed)\n",
    "    * [Reinigungsprozess und Überprüfung der Spalten](#cp)\n",
    "        * [Spalte Color](#color)\n",
    "        * [Spalte Schadstoff](#sstoff)\n",
    "        * [Spalte Brand](#brand)\n",
    "        * [Spalte Model](#model)\n",
    "        * [Spalte Price](#price)\n",
    "        * [Spalte Label](#lable)\n",
    "***\n",
    "* [Feature Engineering](#fe) \n",
    "    * [Spalte Title](#title)\n",
    "    * [Spalte Feature](#feature)\n",
    "    * [Neue Spalten erstellen](#neu)\n",
    "        * [Spalte KM](#km)\n",
    "        * [Spalte Gearbox](#gear)\n",
    "        * [Spalte Registration](#registration)\n",
    "        * [Spalte Fuel](#fuel)\n",
    "        * [Spalte KW](#kw)\n",
    "        * [Spalte PS](#ps)\n",
    "        \n",
    "        \n",
    "***\n",
    "* [Behandlung fehlender Werte](#tm)\n",
    "\n",
    "***\n",
    "* [Auswertung](#auswertung)\n",
    "***\n",
    "***"
   ]
  },
  {
   "cell_type": "markdown",
   "metadata": {},
   "source": [
    "## <a class=\"my-anchor2\" id=\"ziel\">  Ziel  </a>\n",
    "\n",
    "* <font color=\"lightgreen\" size=\"4\"> Unser Ziel in diesem Notebook ist es, den mit Web-Scraping erstellten Datensatz <Br> - zu bereinigen, <Br> - neue Spalten zu erstellen, <Br> - fehlende Daten zu bekämpfen und <Br> - die Daten für die Analyse und ML-Modellierung geeignet zu machen. </font>"
   ]
  },
  {
   "cell_type": "markdown",
   "metadata": {},
   "source": [
    "## <a class=\"my-anchor2\" id=\"info\">  Info  </a>\n",
    "\n",
    "\n",
    "| Spaltenname        | Beschreibung                                     |\n",
    "|--------------------|--------------------------------------------------|\n",
    "| Brand              | Die Marke des Autos                              |\n",
    "| Model              | Das Modell des Autos                             |\n",
    "| Color              | Die Farbe des Autos                              |\n",
    "| Schadstoff         | Umweltpaket type                                 |\n",
    "| Price              | Der Preis des Autos                              |\n",
    "| Label              | Das Etikett des Autos                            |\n",
    "| title              | Der Titel des Autos                              |\n",
    "| Features           | Spezifikationen des Fahrzeugs                    |"
   ]
  },
  {
   "cell_type": "markdown",
   "metadata": {},
   "source": [
    "***\n",
    "***"
   ]
  },
  {
   "attachments": {},
   "cell_type": "markdown",
   "metadata": {},
   "source": [
    "## <a class=\"my-anchor2\" id=\"Ir\">  Import Libraries  </a>"
   ]
  },
  {
   "cell_type": "code",
   "execution_count": 85,
   "metadata": {},
   "outputs": [],
   "source": [
    "import warnings as wr\n",
    "wr.filterwarnings(\"ignore\")\n",
    "\n",
    "import pandas as pd\n",
    "import numpy as np"
   ]
  },
  {
   "attachments": {},
   "cell_type": "markdown",
   "metadata": {},
   "source": [
    "***"
   ]
  },
  {
   "attachments": {},
   "cell_type": "markdown",
   "metadata": {},
   "source": [
    "## <a class = \"anchor\" id = \"rd\"> Datensatz erkunden  </a>\n",
    "\n",
    "* [Home](#content)"
   ]
  },
  {
   "cell_type": "code",
   "execution_count": 86,
   "metadata": {},
   "outputs": [],
   "source": [
    "cars = pd.read_csv(\"cars.csv\")"
   ]
  },
  {
   "cell_type": "code",
   "execution_count": 87,
   "metadata": {},
   "outputs": [
    {
     "name": "stdout",
     "output_type": "stream",
     "text": [
      "<class 'pandas.core.frame.DataFrame'>\n",
      "RangeIndex: 726946 entries, 0 to 726945\n",
      "Data columns (total 8 columns):\n",
      " #   Column      Non-Null Count   Dtype \n",
      "---  ------      --------------   ----- \n",
      " 0   Brand       726946 non-null  object\n",
      " 1   Model       726946 non-null  object\n",
      " 2   title       726946 non-null  object\n",
      " 3   Features    726946 non-null  object\n",
      " 4   Price       726946 non-null  object\n",
      " 5   Label       726946 non-null  object\n",
      " 6   Color       726946 non-null  object\n",
      " 7   schadstoff  726946 non-null  int64 \n",
      "dtypes: int64(1), object(7)\n",
      "memory usage: 44.4+ MB\n"
     ]
    }
   ],
   "source": [
    "cars.info()"
   ]
  },
  {
   "cell_type": "code",
   "execution_count": 88,
   "metadata": {},
   "outputs": [
    {
     "data": {
      "text/html": [
       "<div>\n",
       "<style scoped>\n",
       "    .dataframe tbody tr th:only-of-type {\n",
       "        vertical-align: middle;\n",
       "    }\n",
       "\n",
       "    .dataframe tbody tr th {\n",
       "        vertical-align: top;\n",
       "    }\n",
       "\n",
       "    .dataframe thead th {\n",
       "        text-align: right;\n",
       "    }\n",
       "</style>\n",
       "<table border=\"1\" class=\"dataframe\">\n",
       "  <thead>\n",
       "    <tr style=\"text-align: right;\">\n",
       "      <th></th>\n",
       "      <th>Brand</th>\n",
       "      <th>Model</th>\n",
       "      <th>title</th>\n",
       "      <th>Features</th>\n",
       "      <th>Price</th>\n",
       "      <th>Label</th>\n",
       "      <th>Color</th>\n",
       "      <th>schadstoff</th>\n",
       "    </tr>\n",
       "  </thead>\n",
       "  <tbody>\n",
       "    <tr>\n",
       "      <th>0</th>\n",
       "      <td>Mercedes-Benz</td>\n",
       "      <td>a-180</td>\n",
       "      <td>Mercedes-Benz A 180 Progressive LED/Sportsitze...</td>\n",
       "      <td>['14.999 km', 'Schaltgetriebe', '05/2020', 'Be...</td>\n",
       "      <td>€ 25.900,-</td>\n",
       "      <td>Guter Preis</td>\n",
       "      <td>bc_beige</td>\n",
       "      <td>4</td>\n",
       "    </tr>\n",
       "    <tr>\n",
       "      <th>1</th>\n",
       "      <td>Mercedes-Benz</td>\n",
       "      <td>a-180</td>\n",
       "      <td>Mercedes-Benz A 180 Progressive LED/Sportsitze...</td>\n",
       "      <td>['14.999 km', 'Schaltgetriebe', '05/2020', 'Be...</td>\n",
       "      <td>€ 25.900,-</td>\n",
       "      <td>Guter Preis</td>\n",
       "      <td>bc_beige</td>\n",
       "      <td>5</td>\n",
       "    </tr>\n",
       "    <tr>\n",
       "      <th>2</th>\n",
       "      <td>Mercedes-Benz</td>\n",
       "      <td>a-180</td>\n",
       "      <td>Mercedes-Benz A 180 Progressive LED/Sportsitze...</td>\n",
       "      <td>['14.999 km', 'Schaltgetriebe', '05/2020', 'Be...</td>\n",
       "      <td>€ 25.900,-</td>\n",
       "      <td>Guter Preis</td>\n",
       "      <td>bc_beige</td>\n",
       "      <td>6</td>\n",
       "    </tr>\n",
       "    <tr>\n",
       "      <th>3</th>\n",
       "      <td>Mercedes-Benz</td>\n",
       "      <td>a-180</td>\n",
       "      <td>Mercedes-Benz A 180 Progressive LED/Sportsitze...</td>\n",
       "      <td>['14.999 km', 'Schaltgetriebe', '05/2020', 'Be...</td>\n",
       "      <td>€ 25.900,-</td>\n",
       "      <td>Guter Preis</td>\n",
       "      <td>bc_beige</td>\n",
       "      <td>7</td>\n",
       "    </tr>\n",
       "    <tr>\n",
       "      <th>4</th>\n",
       "      <td>Mercedes-Benz</td>\n",
       "      <td>a-180</td>\n",
       "      <td>Mercedes-Benz A 180 Progressive LED/Sportsitze...</td>\n",
       "      <td>['14.999 km', 'Schaltgetriebe', '05/2020', 'Be...</td>\n",
       "      <td>€ 25.900,-</td>\n",
       "      <td>Guter Preis</td>\n",
       "      <td>bc_beige</td>\n",
       "      <td>8</td>\n",
       "    </tr>\n",
       "  </tbody>\n",
       "</table>\n",
       "</div>"
      ],
      "text/plain": [
       "           Brand  Model                                              title   \n",
       "0  Mercedes-Benz  a-180  Mercedes-Benz A 180 Progressive LED/Sportsitze...  \\\n",
       "1  Mercedes-Benz  a-180  Mercedes-Benz A 180 Progressive LED/Sportsitze...   \n",
       "2  Mercedes-Benz  a-180  Mercedes-Benz A 180 Progressive LED/Sportsitze...   \n",
       "3  Mercedes-Benz  a-180  Mercedes-Benz A 180 Progressive LED/Sportsitze...   \n",
       "4  Mercedes-Benz  a-180  Mercedes-Benz A 180 Progressive LED/Sportsitze...   \n",
       "\n",
       "                                            Features       Price        Label   \n",
       "0  ['14.999 km', 'Schaltgetriebe', '05/2020', 'Be...  € 25.900,-  Guter Preis  \\\n",
       "1  ['14.999 km', 'Schaltgetriebe', '05/2020', 'Be...  € 25.900,-  Guter Preis   \n",
       "2  ['14.999 km', 'Schaltgetriebe', '05/2020', 'Be...  € 25.900,-  Guter Preis   \n",
       "3  ['14.999 km', 'Schaltgetriebe', '05/2020', 'Be...  € 25.900,-  Guter Preis   \n",
       "4  ['14.999 km', 'Schaltgetriebe', '05/2020', 'Be...  € 25.900,-  Guter Preis   \n",
       "\n",
       "      Color  schadstoff  \n",
       "0  bc_beige           4  \n",
       "1  bc_beige           5  \n",
       "2  bc_beige           6  \n",
       "3  bc_beige           7  \n",
       "4  bc_beige           8  "
      ]
     },
     "execution_count": 88,
     "metadata": {},
     "output_type": "execute_result"
    }
   ],
   "source": [
    "cars.head()"
   ]
  },
  {
   "cell_type": "code",
   "execution_count": 89,
   "metadata": {},
   "outputs": [
    {
     "data": {
      "text/plain": [
       "Brand         0.0\n",
       "Model         0.0\n",
       "title         0.0\n",
       "Features      0.0\n",
       "Price         0.0\n",
       "Label         0.0\n",
       "Color         0.0\n",
       "schadstoff    0.0\n",
       "dtype: float64"
      ]
     },
     "execution_count": 89,
     "metadata": {},
     "output_type": "execute_result"
    }
   ],
   "source": [
    "# prüfen, ob Daten fehlen\n",
    "cars.isna().sum()/cars.shape[0]*100"
   ]
  },
  {
   "cell_type": "code",
   "execution_count": 90,
   "metadata": {},
   "outputs": [
    {
     "data": {
      "text/plain": [
       "26983"
      ]
     },
     "execution_count": 90,
     "metadata": {},
     "output_type": "execute_result"
    }
   ],
   "source": [
    "# prüfen, ob Daten fehlen\n",
    "cars.duplicated().sum()"
   ]
  },
  {
   "cell_type": "code",
   "execution_count": 91,
   "metadata": {},
   "outputs": [],
   "source": [
    "# doppelte Werte löschen\n",
    "cars.drop_duplicates(inplace=True)"
   ]
  },
  {
   "attachments": {},
   "cell_type": "markdown",
   "metadata": {},
   "source": [
    "* <font color=\"lightgreen\" size=\"4\"> Nach der Vereinfachung der Daten, die eine Liste enthalten, können wir die sich wiederholenden Daten erneut überprüfen und entsprechend reduzieren.</font>"
   ]
  },
  {
   "attachments": {},
   "cell_type": "markdown",
   "metadata": {},
   "source": [
    "***"
   ]
  },
  {
   "attachments": {},
   "cell_type": "markdown",
   "metadata": {},
   "source": [
    "##  <a class = \"anchor\" id = \"cp\"> Reinigungsprozess und Überprüfung der Spalten </a>\n",
    "\n",
    "* [Home](#content)\n",
    "\n",
    "\n",
    "\n",
    "<font color=\"lightgreen\" size=\"4\">In diesem Abschnitt werden wir alle Spalten in unseren Daten einzeln untersuchen und sie für die Visualisierung und die ML-Algorithmen, die wir später anwenden werden, geeignet machen.</font>\n"
   ]
  },
  {
   "cell_type": "markdown",
   "metadata": {},
   "source": [
    "###  <a class = \"anchor\" id = \"color\"> Spalte Color </a>"
   ]
  },
  {
   "cell_type": "code",
   "execution_count": 92,
   "metadata": {},
   "outputs": [
    {
     "data": {
      "text/plain": [
       "Color\n",
       "bc_violet     135354\n",
       "bc_weiss      135035\n",
       "bc_schwarz    114995\n",
       "bc_grau       105669\n",
       "bc_blau        73864\n",
       "bc_silber      59792\n",
       "bc_rot         41836\n",
       "bc_grün         8132\n",
       "bc_orange       7643\n",
       "bc_braun        6516\n",
       "bc_gelb         6110\n",
       "bc_beige        2951\n",
       "bc_gold         1332\n",
       "bc_bronze        734\n",
       "Name: count, dtype: int64"
      ]
     },
     "execution_count": 92,
     "metadata": {},
     "output_type": "execute_result"
    }
   ],
   "source": [
    "cars.Color.value_counts()"
   ]
  },
  {
   "cell_type": "markdown",
   "metadata": {},
   "source": [
    "* <font color=\"lightgreen\" size=\"4\">Hier ist etwas merkwürdig, denn es ist unmöglich, dass die Farbe Violett <Br> in der gleichen Menge wie die Farbe Weiß vorkommt. Als ich dies auf der Website überprüfte, stellte ich fest,  <Br> dass die Website nicht filtert, wenn Sie die Farbe Violett auf der Website auswählen. <Br>  Zumindest zum Zeitpunkt der Erstellung dieses Datensatzes habe ich festgestellt, dass es einen Fehler in dieser Hinsicht gibt.</font>"
   ]
  },
  {
   "cell_type": "code",
   "execution_count": 93,
   "metadata": {},
   "outputs": [
    {
     "data": {
      "text/plain": [
       "246268"
      ]
     },
     "execution_count": 93,
     "metadata": {},
     "output_type": "execute_result"
    }
   ],
   "source": [
    "# Prüfen wir, ob sich Zeilen in den Daten ohne die Farbspalte wiederholen\n",
    "cars.drop(columns=\"Color\").duplicated().sum()"
   ]
  },
  {
   "cell_type": "markdown",
   "metadata": {},
   "source": [
    "* <font color=\"lightgreen\" size=\"4\">Dies beweist, dass der erwähnte Fehler vorliegt. Es ist unwahrscheinlich,<br> dass alle Informationen von 273 Tausend Autos gleich sind. Daher entfernen wir diese sich wiederholenden Zeilen aus den Daten.</font>"
   ]
  },
  {
   "cell_type": "code",
   "execution_count": 94,
   "metadata": {},
   "outputs": [],
   "source": [
    "# Wir löschen die Farbspalte und dann die Wiederholungsdaten.\n",
    "cars.drop(columns=\"Color\", axis=1, inplace=True)\n",
    "\n",
    "cars.drop_duplicates(inplace=True)"
   ]
  },
  {
   "cell_type": "markdown",
   "metadata": {},
   "source": [
    "###  <a class = \"anchor\" id = \"sstoff\"> Spalte Schadstoff </a>\n",
    "\n",
    "* [Home](#content)"
   ]
  },
  {
   "cell_type": "code",
   "execution_count": 95,
   "metadata": {},
   "outputs": [
    {
     "data": {
      "text/plain": [
       "schadstoff\n",
       "4    88386\n",
       "5    88057\n",
       "6    87065\n",
       "7    70231\n",
       "9    69204\n",
       "8    50752\n",
       "Name: count, dtype: int64"
      ]
     },
     "execution_count": 95,
     "metadata": {},
     "output_type": "execute_result"
    }
   ],
   "source": [
    "cars.schadstoff.value_counts(dropna=0)"
   ]
  },
  {
   "cell_type": "code",
   "execution_count": 96,
   "metadata": {},
   "outputs": [
    {
     "data": {
      "text/plain": [
       "325845"
      ]
     },
     "execution_count": 96,
     "metadata": {},
     "output_type": "execute_result"
    }
   ],
   "source": [
    "cars.drop(\"schadstoff\", axis = 1).duplicated().sum()"
   ]
  },
  {
   "cell_type": "code",
   "execution_count": 97,
   "metadata": {},
   "outputs": [],
   "source": [
    "cars.drop(\"schadstoff\", axis = 1, inplace=True)\n",
    "cars.drop_duplicates(inplace=True)"
   ]
  },
  {
   "cell_type": "markdown",
   "metadata": {},
   "source": [
    "###  <a class = \"anchor\" id = \"brand\"> Spalte Brand </a>\n",
    "\n",
    "* [Home](#content)"
   ]
  },
  {
   "cell_type": "code",
   "execution_count": 98,
   "metadata": {},
   "outputs": [
    {
     "data": {
      "text/plain": [
       "Brand\n",
       "Volkswagen       23492\n",
       "Audi             22832\n",
       "Opel             18256\n",
       "BMW              17952\n",
       "Mercedes-Benz    16291\n",
       "Skoda            14830\n",
       "Ford             14197\n",
       "Name: count, dtype: int64"
      ]
     },
     "execution_count": 98,
     "metadata": {},
     "output_type": "execute_result"
    }
   ],
   "source": [
    "cars.Brand.value_counts(dropna=0)"
   ]
  },
  {
   "cell_type": "markdown",
   "metadata": {},
   "source": [
    "###  <a class = \"anchor\" id = \"model\"> Spalte Model </a>\n",
    "\n",
    "* [Home](#content)"
   ]
  },
  {
   "cell_type": "code",
   "execution_count": 99,
   "metadata": {},
   "outputs": [
    {
     "name": "stdout",
     "output_type": "stream",
     "text": [
      "Marka: Audi\n",
      "         Model  Model_Count\n",
      "0           a3         3332\n",
      "1           a4         3315\n",
      "2           a6         3049\n",
      "3           q3         2706\n",
      "4           a1         2377\n",
      "5           a5         2345\n",
      "6           q5         2235\n",
      "7           q7         1214\n",
      "8           a7          620\n",
      "9           a8          578\n",
      "10  a6-allroad          545\n",
      "11  a4-allroad          516\n",
      "------------------------------\n",
      "Marka: BMW\n",
      "   Model  Model_Count\n",
      "0    320         2123\n",
      "1    530         1903\n",
      "2     x1         1880\n",
      "3     x3         1749\n",
      "4    520         1704\n",
      "5    118         1579\n",
      "6    330         1360\n",
      "7     x5         1309\n",
      "8     x2         1250\n",
      "9    318          978\n",
      "10   420          906\n",
      "11   218          676\n",
      "12   116          535\n",
      "------------------------------\n",
      "Marka: Ford\n",
      "      Model  Model_Count\n",
      "0     focus         3654\n",
      "1      kuga         3473\n",
      "2    fiesta         2947\n",
      "3  ecosport         1932\n",
      "4    mondeo         1406\n",
      "5      edge          481\n",
      "6     s-max          178\n",
      "7     c-max           77\n",
      "8    galaxy           49\n",
      "------------------------------\n",
      "Marka: Mercedes-Benz\n",
      "     Model  Model_Count\n",
      "0     c180         4771\n",
      "1    c-220         2085\n",
      "2    c-200         1814\n",
      "3    e-220         1732\n",
      "4    a-200         1450\n",
      "5    a-180         1360\n",
      "6  cla-200         1248\n",
      "7    e-200         1227\n",
      "8    b-180          604\n",
      "------------------------------\n",
      "Marka: Opel\n",
      "          Model  Model_Count\n",
      "0         astra         3558\n",
      "1         corsa         3234\n",
      "2      insignia         2521\n",
      "3         mokka         2475\n",
      "4   grandland-x         1913\n",
      "5   crossland-x         1759\n",
      "6     crossland         1410\n",
      "7          adam          702\n",
      "8     grandland          645\n",
      "9        zafira           23\n",
      "10       antara           15\n",
      "11        agila            1\n",
      "------------------------------\n",
      "Marka: Skoda\n",
      "     Model  Model_Count\n",
      "0  octavia         3215\n",
      "1    fabia         2931\n",
      "2   superb         2499\n",
      "3    kamiq         2133\n",
      "4    karoq         2113\n",
      "5   kodiaq         1723\n",
      "6     yeti          216\n",
      "------------------------------\n",
      "Marka: Volkswagen\n",
      "            Model  Model_Count\n",
      "0            golf         4061\n",
      "1          tiguan         3520\n",
      "2           t-roc         3512\n",
      "3  passat-variant         3355\n",
      "4            polo         3335\n",
      "5    golf-variant         2454\n",
      "6        golf-gti         1081\n",
      "7           caddy         1052\n",
      "8          passat          939\n",
      "9          touran          183\n",
      "------------------------------\n"
     ]
    }
   ],
   "source": [
    "# Schauen wir uns die Gesamtzahl der Automodelle nach Marken an\n",
    "model_counts = cars.groupby([\"Brand\", \"Model\"]).size().reset_index(name=\"Model_Count\")\n",
    "\n",
    "# Drucken Sie die Anzahl der Modelle für jede Marke in einer separaten Tabelle\n",
    "for brand in model_counts[\"Brand\"].unique():\n",
    "    brand_models = model_counts[model_counts[\"Brand\"] == brand].sort_values(by=\"Model_Count\", ascending=False)\n",
    "    print(f\"Marka: {brand}\")\n",
    "    print(brand_models[[\"Model\", \"Model_Count\"]].reset_index(drop=True))\n",
    "    print(30*\"-\")"
   ]
  },
  {
   "cell_type": "code",
   "execution_count": 100,
   "metadata": {},
   "outputs": [
    {
     "data": {
      "text/plain": [
       "Brand       Model \n",
       "Ford        c-max      77\n",
       "            edge      481\n",
       "            galaxy     49\n",
       "            s-max     178\n",
       "Opel        agila       1\n",
       "            antara     15\n",
       "            zafira     23\n",
       "Skoda       yeti      216\n",
       "Volkswagen  touran    183\n",
       "Name: Model, dtype: int64"
      ]
     },
     "execution_count": 100,
     "metadata": {},
     "output_type": "execute_result"
    }
   ],
   "source": [
    "#Identify vehicles with less than 500 units.\n",
    "cars.groupby([\"Brand\", \"Model\"]).Model.count().loc[lambda x: x < 500]"
   ]
  },
  {
   "cell_type": "code",
   "execution_count": 101,
   "metadata": {},
   "outputs": [],
   "source": [
    "# Let's remove tools with low data count from the data set\n",
    "delete_car_list = cars.groupby([\"Brand\", \"Model\"]).Model.count().loc[lambda x: x < 500].index.get_level_values(\"Model\").tolist()\n",
    "cars = cars[~cars[\"Model\"].isin(delete_car_list)]"
   ]
  },
  {
   "cell_type": "markdown",
   "metadata": {},
   "source": [
    "###  <a class = \"anchor\" id = \"price\"> Spalte Price </a>\n",
    "\n",
    "* [Home](#content)"
   ]
  },
  {
   "cell_type": "code",
   "execution_count": 102,
   "metadata": {},
   "outputs": [
    {
     "data": {
      "text/plain": [
       "Price\n",
       "€ 19.990,-    765\n",
       "€ 24.990,-    755\n",
       "€ 22.990,-    710\n",
       "€ 23.990,-    708\n",
       "€ 29.990,-    695\n",
       "             ... \n",
       "€ 34.939,-      1\n",
       "€ 66.633,-      1\n",
       "€ 85.940,-      1\n",
       "€ 91.045,-      1\n",
       "€ 37.854,-      1\n",
       "Name: count, Length: 15133, dtype: int64"
      ]
     },
     "execution_count": 102,
     "metadata": {},
     "output_type": "execute_result"
    }
   ],
   "source": [
    "cars.Price.value_counts(dropna = 0)"
   ]
  },
  {
   "cell_type": "code",
   "execution_count": 103,
   "metadata": {},
   "outputs": [
    {
     "data": {
      "text/plain": [
       "Price\n",
       "19990    765\n",
       "24990    755\n",
       "22990    710\n",
       "23990    708\n",
       "29990    695\n",
       "        ... \n",
       "34939      1\n",
       "66633      1\n",
       "85940      1\n",
       "91045      1\n",
       "37854      1\n",
       "Name: count, Length: 15133, dtype: int64"
      ]
     },
     "execution_count": 103,
     "metadata": {},
     "output_type": "execute_result"
    }
   ],
   "source": [
    "# Entfernen Sie überflüssige Zeichen außer Zahlen.\n",
    "import re\n",
    "cars['Price'] = cars['Price'].apply(lambda x: re.sub(r'\\D', '', x))\n",
    "cars['Price'].value_counts(dropna=0)"
   ]
  },
  {
   "cell_type": "code",
   "execution_count": 104,
   "metadata": {},
   "outputs": [],
   "source": [
    "# Ändern wir auch den Datentyp der Daten und machen sie ganzzahlig.\n",
    "cars.Price = cars.Price.astype(\"int\")"
   ]
  },
  {
   "cell_type": "markdown",
   "metadata": {},
   "source": [
    "###  <a class = \"anchor\" id = \"label\"> Spalte Label </a>\n",
    "\n",
    "* [Home](#content)"
   ]
  },
  {
   "cell_type": "code",
   "execution_count": 105,
   "metadata": {},
   "outputs": [
    {
     "data": {
      "text/plain": [
       "Label\n",
       "Sehr guter Preis    36093\n",
       "Keine Angabe        31026\n",
       "Fairer Preis        27433\n",
       "Guter Preis         23249\n",
       "Erhöhter Preis       7608\n",
       "Hoher Preis          1218\n",
       "Name: count, dtype: int64"
      ]
     },
     "execution_count": 105,
     "metadata": {},
     "output_type": "execute_result"
    }
   ],
   "source": [
    "cars.Label.value_counts(dropna=0)"
   ]
  },
  {
   "cell_type": "markdown",
   "metadata": {},
   "source": [
    "***\n",
    "***\n",
    "\n",
    "# <a class = \"anchor\" id = \"fe\"> Feature Engineering </a>\n",
    "\n",
    "<span style=\"font-size: 25px;\">[*Home*](#content)</span>"
   ]
  },
  {
   "cell_type": "markdown",
   "metadata": {},
   "source": [
    "###  <a class = \"anchor\" id = \"title\"> Spalte Title </a>"
   ]
  },
  {
   "cell_type": "code",
   "execution_count": 106,
   "metadata": {},
   "outputs": [
    {
     "data": {
      "text/plain": [
       "title\n",
       "Ford Kuga 1.5 EcoBoost ST-LINE X                           177\n",
       "Ford Focus Turnier 1.0 EcoBoost Start-Stopp-System ST-L    117\n",
       "Skoda Superb Style                                         103\n",
       "Volkswagen Caddy Trendline 2.0 TDI 4MOTION                  87\n",
       "Skoda Superb Sportline                                      80\n",
       "                                                          ... \n",
       "BMW 320 dA M-Sport G20 LED/NAV/H-UP/HIFI/GSD/K-ZUG/18        1\n",
       "BMW 320 i Touring Aut. AHK Standhzg. ACC 19 Zoll             1\n",
       "BMW 320 d M-Paket * Navi * HUD * LED * Sitzhzg               1\n",
       "BMW 320 Touring d Advantage/NAVI/LED/KEYLESS/PDC/SHZ         1\n",
       "Skoda Kamiq Tour 1,0 TSI 81 KW 6-Gang/ Klima/ RFK/ Pan       1\n",
       "Name: count, Length: 101861, dtype: int64"
      ]
     },
     "execution_count": 106,
     "metadata": {},
     "output_type": "execute_result"
    }
   ],
   "source": [
    "cars.title.value_counts(dropna=0)"
   ]
  },
  {
   "cell_type": "code",
   "execution_count": 107,
   "metadata": {},
   "outputs": [
    {
     "data": {
      "text/plain": [
       "title\n",
       "Volkswagen Caddy Trendline 2.0 TDI 4MOTION                            87\n",
       "Volkswagen Caddy Life KO 84 TSI SG6                                   31\n",
       "Volkswagen Caddy Life KO 90 CRD SG6                                   26\n",
       "Volkswagen Caddy Basis KO 75 CRD SG6                                  21\n",
       "Volkswagen Caddy Life KO 90 CRD AG7                                   20\n",
       "                                                                      ..\n",
       "Volkswagen Caddy Life 2.0 TDI LED Navi Dig. Cockpit Bluetooth          1\n",
       "Volkswagen Caddy Life 2.0 TDI Klima Alu PDC DAB GRA SHZ MFL            1\n",
       "Volkswagen Caddy 2.0TDI Trendline NAVI AHK KLIMA PDC SHZ               1\n",
       "Volkswagen Caddy Life TSI Klima Navi Sihei APP EPH sofort verfügba     1\n",
       "Volkswagen Caddy Kasten 2.0 TDI EcoProfi BMT PDC W-LAN                 1\n",
       "Name: count, Length: 591, dtype: int64"
      ]
     },
     "execution_count": 107,
     "metadata": {},
     "output_type": "execute_result"
    }
   ],
   "source": [
    "cars[cars.title.str.contains(\"Caddy\")].title.value_counts()"
   ]
  },
  {
   "cell_type": "code",
   "execution_count": 108,
   "metadata": {},
   "outputs": [
    {
     "data": {
      "text/plain": [
       "Model\n",
       "c180     130\n",
       "c-200      1\n",
       "Name: count, dtype: int64"
      ]
     },
     "execution_count": 108,
     "metadata": {},
     "output_type": "execute_result"
    }
   ],
   "source": [
    "# Es gibt einige Unterschiede zwischen der Titelspalte und der Modellspalte, die wir überprüfen und beheben müssen.\n",
    "cars[cars.title.str.contains(\"G 63\")].Model.value_counts()"
   ]
  },
  {
   "cell_type": "code",
   "execution_count": 109,
   "metadata": {},
   "outputs": [
    {
     "data": {
      "text/plain": [
       "array(['a-180', 'a-200', 'b-180', 'c180', 'c-200', 'c-220', 'cla-200',\n",
       "       'e-200', 'e-220', 'golf', 'golf-gti', 'golf-variant', 'passat',\n",
       "       'passat-variant', 'tiguan', 'caddy', 't-roc', 'polo', '116', '118',\n",
       "       '218', '318', '320', '330', '420', '520', '530', 'x1', 'x2', 'x3',\n",
       "       'x5', 'a1', 'a3', 'a4', 'a4-allroad', 'a5', 'a6', 'a6-allroad',\n",
       "       'a7', 'a8', 'q7', 'q5', 'q3', 'ecosport', 'focus', 'fiesta',\n",
       "       'kuga', 'mondeo', 'astra', 'corsa', 'insignia', 'mokka', 'adam',\n",
       "       'grandland', 'grandland-x', 'crossland', 'crossland-x', 'octavia',\n",
       "       'fabia', 'superb', 'kodiaq', 'karoq', 'kamiq'], dtype=object)"
      ]
     },
     "execution_count": 109,
     "metadata": {},
     "output_type": "execute_result"
    }
   ],
   "source": [
    "cars.Model.unique()"
   ]
  },
  {
   "attachments": {},
   "cell_type": "markdown",
   "metadata": {},
   "source": [
    "* <font color=\"lightgreen\" size=\"4\">Die Werte in der Modellspalte und einige der Modellnamen in der Titelspalte stimmen nicht überein.<br> Lassen Sie uns einige Anpassungen vornehmen, um dieses Problem zu lösen. </font>"
   ]
  },
  {
   "cell_type": "code",
   "execution_count": 110,
   "metadata": {},
   "outputs": [
    {
     "data": {
      "text/html": [
       "<div>\n",
       "<style scoped>\n",
       "    .dataframe tbody tr th:only-of-type {\n",
       "        vertical-align: middle;\n",
       "    }\n",
       "\n",
       "    .dataframe tbody tr th {\n",
       "        vertical-align: top;\n",
       "    }\n",
       "\n",
       "    .dataframe thead th {\n",
       "        text-align: right;\n",
       "    }\n",
       "</style>\n",
       "<table border=\"1\" class=\"dataframe\">\n",
       "  <thead>\n",
       "    <tr style=\"text-align: right;\">\n",
       "      <th></th>\n",
       "      <th>Brand</th>\n",
       "      <th>Model</th>\n",
       "      <th>title</th>\n",
       "      <th>Features</th>\n",
       "      <th>Price</th>\n",
       "      <th>Label</th>\n",
       "    </tr>\n",
       "  </thead>\n",
       "  <tbody>\n",
       "    <tr>\n",
       "      <th>0</th>\n",
       "      <td>Mercedes-Benz</td>\n",
       "      <td>a-180</td>\n",
       "      <td>Mercedes-Benz A 180 Progressive LED/Sportsitze...</td>\n",
       "      <td>['14.999 km', 'Schaltgetriebe', '05/2020', 'Be...</td>\n",
       "      <td>25900</td>\n",
       "      <td>Guter Preis</td>\n",
       "    </tr>\n",
       "  </tbody>\n",
       "</table>\n",
       "</div>"
      ],
      "text/plain": [
       "           Brand  Model                                              title   \n",
       "0  Mercedes-Benz  a-180  Mercedes-Benz A 180 Progressive LED/Sportsitze...  \\\n",
       "\n",
       "                                            Features  Price        Label  \n",
       "0  ['14.999 km', 'Schaltgetriebe', '05/2020', 'Be...  25900  Guter Preis  "
      ]
     },
     "metadata": {},
     "output_type": "display_data"
    },
    {
     "data": {
      "text/html": [
       "<div>\n",
       "<style scoped>\n",
       "    .dataframe tbody tr th:only-of-type {\n",
       "        vertical-align: middle;\n",
       "    }\n",
       "\n",
       "    .dataframe tbody tr th {\n",
       "        vertical-align: top;\n",
       "    }\n",
       "\n",
       "    .dataframe thead th {\n",
       "        text-align: right;\n",
       "    }\n",
       "</style>\n",
       "<table border=\"1\" class=\"dataframe\">\n",
       "  <thead>\n",
       "    <tr style=\"text-align: right;\">\n",
       "      <th></th>\n",
       "      <th>Brand</th>\n",
       "      <th>Model</th>\n",
       "      <th>title</th>\n",
       "      <th>Features</th>\n",
       "      <th>Price</th>\n",
       "      <th>Label</th>\n",
       "    </tr>\n",
       "  </thead>\n",
       "  <tbody>\n",
       "    <tr>\n",
       "      <th>9639</th>\n",
       "      <td>Mercedes-Benz</td>\n",
       "      <td>a-200</td>\n",
       "      <td>Mercedes-Benz A 200 Urban StHz/LED/Nav/Busines...</td>\n",
       "      <td>['56.264 km', 'Schaltgetriebe', '01/2018', 'Be...</td>\n",
       "      <td>29890</td>\n",
       "      <td>Sehr guter Preis</td>\n",
       "    </tr>\n",
       "  </tbody>\n",
       "</table>\n",
       "</div>"
      ],
      "text/plain": [
       "              Brand  Model                                              title   \n",
       "9639  Mercedes-Benz  a-200  Mercedes-Benz A 200 Urban StHz/LED/Nav/Busines...  \\\n",
       "\n",
       "                                               Features  Price   \n",
       "9639  ['56.264 km', 'Schaltgetriebe', '01/2018', 'Be...  29890  \\\n",
       "\n",
       "                 Label  \n",
       "9639  Sehr guter Preis  "
      ]
     },
     "metadata": {},
     "output_type": "display_data"
    },
    {
     "data": {
      "text/html": [
       "<div>\n",
       "<style scoped>\n",
       "    .dataframe tbody tr th:only-of-type {\n",
       "        vertical-align: middle;\n",
       "    }\n",
       "\n",
       "    .dataframe tbody tr th {\n",
       "        vertical-align: top;\n",
       "    }\n",
       "\n",
       "    .dataframe thead th {\n",
       "        text-align: right;\n",
       "    }\n",
       "</style>\n",
       "<table border=\"1\" class=\"dataframe\">\n",
       "  <thead>\n",
       "    <tr style=\"text-align: right;\">\n",
       "      <th></th>\n",
       "      <th>Brand</th>\n",
       "      <th>Model</th>\n",
       "      <th>title</th>\n",
       "      <th>Features</th>\n",
       "      <th>Price</th>\n",
       "      <th>Label</th>\n",
       "    </tr>\n",
       "  </thead>\n",
       "  <tbody>\n",
       "    <tr>\n",
       "      <th>20084</th>\n",
       "      <td>Mercedes-Benz</td>\n",
       "      <td>b-180</td>\n",
       "      <td>Mercedes-Benz B 180 CDI / d 7G-DCT Taxi</td>\n",
       "      <td>['172.000 km', 'Automatik', '07/2018', 'Diesel...</td>\n",
       "      <td>15999</td>\n",
       "      <td>Fairer Preis</td>\n",
       "    </tr>\n",
       "  </tbody>\n",
       "</table>\n",
       "</div>"
      ],
      "text/plain": [
       "               Brand  Model                                    title   \n",
       "20084  Mercedes-Benz  b-180  Mercedes-Benz B 180 CDI / d 7G-DCT Taxi  \\\n",
       "\n",
       "                                                Features  Price         Label  \n",
       "20084  ['172.000 km', 'Automatik', '07/2018', 'Diesel...  15999  Fairer Preis  "
      ]
     },
     "metadata": {},
     "output_type": "display_data"
    },
    {
     "data": {
      "text/html": [
       "<div>\n",
       "<style scoped>\n",
       "    .dataframe tbody tr th:only-of-type {\n",
       "        vertical-align: middle;\n",
       "    }\n",
       "\n",
       "    .dataframe tbody tr th {\n",
       "        vertical-align: top;\n",
       "    }\n",
       "\n",
       "    .dataframe thead th {\n",
       "        text-align: right;\n",
       "    }\n",
       "</style>\n",
       "<table border=\"1\" class=\"dataframe\">\n",
       "  <thead>\n",
       "    <tr style=\"text-align: right;\">\n",
       "      <th></th>\n",
       "      <th>Brand</th>\n",
       "      <th>Model</th>\n",
       "      <th>title</th>\n",
       "      <th>Features</th>\n",
       "      <th>Price</th>\n",
       "      <th>Label</th>\n",
       "    </tr>\n",
       "  </thead>\n",
       "  <tbody>\n",
       "    <tr>\n",
       "      <th>46991</th>\n",
       "      <td>Mercedes-Benz</td>\n",
       "      <td>c-200</td>\n",
       "      <td>Mercedes-Benz C 200 T CGI HUD LED Burmester Na...</td>\n",
       "      <td>['71.250 km', 'Automatik', '03/2016', 'Benzin'...</td>\n",
       "      <td>23490</td>\n",
       "      <td>Sehr guter Preis</td>\n",
       "    </tr>\n",
       "  </tbody>\n",
       "</table>\n",
       "</div>"
      ],
      "text/plain": [
       "               Brand  Model   \n",
       "46991  Mercedes-Benz  c-200  \\\n",
       "\n",
       "                                                   title   \n",
       "46991  Mercedes-Benz C 200 T CGI HUD LED Burmester Na...  \\\n",
       "\n",
       "                                                Features  Price   \n",
       "46991  ['71.250 km', 'Automatik', '03/2016', 'Benzin'...  23490  \\\n",
       "\n",
       "                  Label  \n",
       "46991  Sehr guter Preis  "
      ]
     },
     "metadata": {},
     "output_type": "display_data"
    },
    {
     "data": {
      "text/html": [
       "<div>\n",
       "<style scoped>\n",
       "    .dataframe tbody tr th:only-of-type {\n",
       "        vertical-align: middle;\n",
       "    }\n",
       "\n",
       "    .dataframe tbody tr th {\n",
       "        vertical-align: top;\n",
       "    }\n",
       "\n",
       "    .dataframe thead th {\n",
       "        text-align: right;\n",
       "    }\n",
       "</style>\n",
       "<table border=\"1\" class=\"dataframe\">\n",
       "  <thead>\n",
       "    <tr style=\"text-align: right;\">\n",
       "      <th></th>\n",
       "      <th>Brand</th>\n",
       "      <th>Model</th>\n",
       "      <th>title</th>\n",
       "      <th>Features</th>\n",
       "      <th>Price</th>\n",
       "      <th>Label</th>\n",
       "    </tr>\n",
       "  </thead>\n",
       "  <tbody>\n",
       "    <tr>\n",
       "      <th>58444</th>\n",
       "      <td>Mercedes-Benz</td>\n",
       "      <td>c-220</td>\n",
       "      <td>Mercedes-Benz C 220 T d Automatik Business EU6...</td>\n",
       "      <td>['200.000 km', 'Automatik', '01/2019', 'Diesel...</td>\n",
       "      <td>18990</td>\n",
       "      <td>Sehr guter Preis</td>\n",
       "    </tr>\n",
       "  </tbody>\n",
       "</table>\n",
       "</div>"
      ],
      "text/plain": [
       "               Brand  Model   \n",
       "58444  Mercedes-Benz  c-220  \\\n",
       "\n",
       "                                                   title   \n",
       "58444  Mercedes-Benz C 220 T d Automatik Business EU6...  \\\n",
       "\n",
       "                                                Features  Price   \n",
       "58444  ['200.000 km', 'Automatik', '01/2019', 'Diesel...  18990  \\\n",
       "\n",
       "                  Label  \n",
       "58444  Sehr guter Preis  "
      ]
     },
     "metadata": {},
     "output_type": "display_data"
    },
    {
     "data": {
      "text/html": [
       "<div>\n",
       "<style scoped>\n",
       "    .dataframe tbody tr th:only-of-type {\n",
       "        vertical-align: middle;\n",
       "    }\n",
       "\n",
       "    .dataframe tbody tr th {\n",
       "        vertical-align: top;\n",
       "    }\n",
       "\n",
       "    .dataframe thead th {\n",
       "        text-align: right;\n",
       "    }\n",
       "</style>\n",
       "<table border=\"1\" class=\"dataframe\">\n",
       "  <thead>\n",
       "    <tr style=\"text-align: right;\">\n",
       "      <th></th>\n",
       "      <th>Brand</th>\n",
       "      <th>Model</th>\n",
       "      <th>title</th>\n",
       "      <th>Features</th>\n",
       "      <th>Price</th>\n",
       "      <th>Label</th>\n",
       "    </tr>\n",
       "  </thead>\n",
       "  <tbody>\n",
       "    <tr>\n",
       "      <th>70644</th>\n",
       "      <td>Mercedes-Benz</td>\n",
       "      <td>cla-200</td>\n",
       "      <td>Mercedes-Benz CLA 200 *Navi*Bluetooth*Tempomat...</td>\n",
       "      <td>['106.789 km', 'Automatik', '12/2016', 'Benzin...</td>\n",
       "      <td>19950</td>\n",
       "      <td>Sehr guter Preis</td>\n",
       "    </tr>\n",
       "  </tbody>\n",
       "</table>\n",
       "</div>"
      ],
      "text/plain": [
       "               Brand    Model   \n",
       "70644  Mercedes-Benz  cla-200  \\\n",
       "\n",
       "                                                   title   \n",
       "70644  Mercedes-Benz CLA 200 *Navi*Bluetooth*Tempomat...  \\\n",
       "\n",
       "                                                Features  Price   \n",
       "70644  ['106.789 km', 'Automatik', '12/2016', 'Benzin...  19950  \\\n",
       "\n",
       "                  Label  \n",
       "70644  Sehr guter Preis  "
      ]
     },
     "metadata": {},
     "output_type": "display_data"
    },
    {
     "data": {
      "text/html": [
       "<div>\n",
       "<style scoped>\n",
       "    .dataframe tbody tr th:only-of-type {\n",
       "        vertical-align: middle;\n",
       "    }\n",
       "\n",
       "    .dataframe tbody tr th {\n",
       "        vertical-align: top;\n",
       "    }\n",
       "\n",
       "    .dataframe thead th {\n",
       "        text-align: right;\n",
       "    }\n",
       "</style>\n",
       "<table border=\"1\" class=\"dataframe\">\n",
       "  <thead>\n",
       "    <tr style=\"text-align: right;\">\n",
       "      <th></th>\n",
       "      <th>Brand</th>\n",
       "      <th>Model</th>\n",
       "      <th>title</th>\n",
       "      <th>Features</th>\n",
       "      <th>Price</th>\n",
       "      <th>Label</th>\n",
       "    </tr>\n",
       "  </thead>\n",
       "  <tbody>\n",
       "    <tr>\n",
       "      <th>80385</th>\n",
       "      <td>Mercedes-Benz</td>\n",
       "      <td>e-200</td>\n",
       "      <td>Mercedes-Benz E 200 Lim. E 200 d 9G-Tronic Ava...</td>\n",
       "      <td>['130.000 km', 'Automatik', '08/2020', 'Diesel...</td>\n",
       "      <td>27700</td>\n",
       "      <td>Sehr guter Preis</td>\n",
       "    </tr>\n",
       "  </tbody>\n",
       "</table>\n",
       "</div>"
      ],
      "text/plain": [
       "               Brand  Model   \n",
       "80385  Mercedes-Benz  e-200  \\\n",
       "\n",
       "                                                   title   \n",
       "80385  Mercedes-Benz E 200 Lim. E 200 d 9G-Tronic Ava...  \\\n",
       "\n",
       "                                                Features  Price   \n",
       "80385  ['130.000 km', 'Automatik', '08/2020', 'Diesel...  27700  \\\n",
       "\n",
       "                  Label  \n",
       "80385  Sehr guter Preis  "
      ]
     },
     "metadata": {},
     "output_type": "display_data"
    },
    {
     "data": {
      "text/html": [
       "<div>\n",
       "<style scoped>\n",
       "    .dataframe tbody tr th:only-of-type {\n",
       "        vertical-align: middle;\n",
       "    }\n",
       "\n",
       "    .dataframe tbody tr th {\n",
       "        vertical-align: top;\n",
       "    }\n",
       "\n",
       "    .dataframe thead th {\n",
       "        text-align: right;\n",
       "    }\n",
       "</style>\n",
       "<table border=\"1\" class=\"dataframe\">\n",
       "  <thead>\n",
       "    <tr style=\"text-align: right;\">\n",
       "      <th></th>\n",
       "      <th>Brand</th>\n",
       "      <th>Model</th>\n",
       "      <th>title</th>\n",
       "      <th>Features</th>\n",
       "      <th>Price</th>\n",
       "      <th>Label</th>\n",
       "    </tr>\n",
       "  </thead>\n",
       "  <tbody>\n",
       "    <tr>\n",
       "      <th>89272</th>\n",
       "      <td>Mercedes-Benz</td>\n",
       "      <td>e-220</td>\n",
       "      <td>Mercedes-Benz E 220 d Avantgarde TAXI *Leder| ...</td>\n",
       "      <td>['144.359 km', 'Automatik', '12/2017', 'Diesel...</td>\n",
       "      <td>25950</td>\n",
       "      <td>Sehr guter Preis</td>\n",
       "    </tr>\n",
       "  </tbody>\n",
       "</table>\n",
       "</div>"
      ],
      "text/plain": [
       "               Brand  Model   \n",
       "89272  Mercedes-Benz  e-220  \\\n",
       "\n",
       "                                                   title   \n",
       "89272  Mercedes-Benz E 220 d Avantgarde TAXI *Leder| ...  \\\n",
       "\n",
       "                                                Features  Price   \n",
       "89272  ['144.359 km', 'Automatik', '12/2017', 'Diesel...  25950  \\\n",
       "\n",
       "                  Label  \n",
       "89272  Sehr guter Preis  "
      ]
     },
     "metadata": {},
     "output_type": "display_data"
    },
    {
     "data": {
      "text/html": [
       "<div>\n",
       "<style scoped>\n",
       "    .dataframe tbody tr th:only-of-type {\n",
       "        vertical-align: middle;\n",
       "    }\n",
       "\n",
       "    .dataframe tbody tr th {\n",
       "        vertical-align: top;\n",
       "    }\n",
       "\n",
       "    .dataframe thead th {\n",
       "        text-align: right;\n",
       "    }\n",
       "</style>\n",
       "<table border=\"1\" class=\"dataframe\">\n",
       "  <thead>\n",
       "    <tr style=\"text-align: right;\">\n",
       "      <th></th>\n",
       "      <th>Brand</th>\n",
       "      <th>Model</th>\n",
       "      <th>title</th>\n",
       "      <th>Features</th>\n",
       "      <th>Price</th>\n",
       "      <th>Label</th>\n",
       "    </tr>\n",
       "  </thead>\n",
       "  <tbody>\n",
       "    <tr>\n",
       "      <th>116425</th>\n",
       "      <td>Volkswagen</td>\n",
       "      <td>golf-gti</td>\n",
       "      <td>Volkswagen Golf GTI 2.0 TSI Nav/ActiveLight/18...</td>\n",
       "      <td>['95.935 km', 'Schaltgetriebe', '06/2017', 'Be...</td>\n",
       "      <td>21220</td>\n",
       "      <td>Fairer Preis</td>\n",
       "    </tr>\n",
       "  </tbody>\n",
       "</table>\n",
       "</div>"
      ],
      "text/plain": [
       "             Brand     Model   \n",
       "116425  Volkswagen  golf-gti  \\\n",
       "\n",
       "                                                    title   \n",
       "116425  Volkswagen Golf GTI 2.0 TSI Nav/ActiveLight/18...  \\\n",
       "\n",
       "                                                 Features  Price         Label  \n",
       "116425  ['95.935 km', 'Schaltgetriebe', '06/2017', 'Be...  21220  Fairer Preis  "
      ]
     },
     "metadata": {},
     "output_type": "display_data"
    },
    {
     "data": {
      "text/html": [
       "<div>\n",
       "<style scoped>\n",
       "    .dataframe tbody tr th:only-of-type {\n",
       "        vertical-align: middle;\n",
       "    }\n",
       "\n",
       "    .dataframe tbody tr th {\n",
       "        vertical-align: top;\n",
       "    }\n",
       "\n",
       "    .dataframe thead th {\n",
       "        text-align: right;\n",
       "    }\n",
       "</style>\n",
       "<table border=\"1\" class=\"dataframe\">\n",
       "  <thead>\n",
       "    <tr style=\"text-align: right;\">\n",
       "      <th></th>\n",
       "      <th>Brand</th>\n",
       "      <th>Model</th>\n",
       "      <th>title</th>\n",
       "      <th>Features</th>\n",
       "      <th>Price</th>\n",
       "      <th>Label</th>\n",
       "    </tr>\n",
       "  </thead>\n",
       "  <tbody>\n",
       "    <tr>\n",
       "      <th>125045</th>\n",
       "      <td>Volkswagen</td>\n",
       "      <td>golf-variant</td>\n",
       "      <td>Volkswagen Golf Variant 1.5 TSI DSG Highline E...</td>\n",
       "      <td>['80.000 km', 'Automatik', '05/2018', 'Benzin'...</td>\n",
       "      <td>20950</td>\n",
       "      <td>Sehr guter Preis</td>\n",
       "    </tr>\n",
       "  </tbody>\n",
       "</table>\n",
       "</div>"
      ],
      "text/plain": [
       "             Brand         Model   \n",
       "125045  Volkswagen  golf-variant  \\\n",
       "\n",
       "                                                    title   \n",
       "125045  Volkswagen Golf Variant 1.5 TSI DSG Highline E...  \\\n",
       "\n",
       "                                                 Features  Price   \n",
       "125045  ['80.000 km', 'Automatik', '05/2018', 'Benzin'...  20950  \\\n",
       "\n",
       "                   Label  \n",
       "125045  Sehr guter Preis  "
      ]
     },
     "metadata": {},
     "output_type": "display_data"
    },
    {
     "data": {
      "text/html": [
       "<div>\n",
       "<style scoped>\n",
       "    .dataframe tbody tr th:only-of-type {\n",
       "        vertical-align: middle;\n",
       "    }\n",
       "\n",
       "    .dataframe tbody tr th {\n",
       "        vertical-align: top;\n",
       "    }\n",
       "\n",
       "    .dataframe thead th {\n",
       "        text-align: right;\n",
       "    }\n",
       "</style>\n",
       "<table border=\"1\" class=\"dataframe\">\n",
       "  <thead>\n",
       "    <tr style=\"text-align: right;\">\n",
       "      <th></th>\n",
       "      <th>Brand</th>\n",
       "      <th>Model</th>\n",
       "      <th>title</th>\n",
       "      <th>Features</th>\n",
       "      <th>Price</th>\n",
       "      <th>Label</th>\n",
       "    </tr>\n",
       "  </thead>\n",
       "  <tbody>\n",
       "    <tr>\n",
       "      <th>143774</th>\n",
       "      <td>Volkswagen</td>\n",
       "      <td>passat-variant</td>\n",
       "      <td>Volkswagen Passat Variant Comfortline BMT/Star...</td>\n",
       "      <td>['155.000 km', 'Automatik', '01/2018', 'Diesel...</td>\n",
       "      <td>13999</td>\n",
       "      <td>Sehr guter Preis</td>\n",
       "    </tr>\n",
       "  </tbody>\n",
       "</table>\n",
       "</div>"
      ],
      "text/plain": [
       "             Brand           Model   \n",
       "143774  Volkswagen  passat-variant  \\\n",
       "\n",
       "                                                    title   \n",
       "143774  Volkswagen Passat Variant Comfortline BMT/Star...  \\\n",
       "\n",
       "                                                 Features  Price   \n",
       "143774  ['155.000 km', 'Automatik', '01/2018', 'Diesel...  13999  \\\n",
       "\n",
       "                   Label  \n",
       "143774  Sehr guter Preis  "
      ]
     },
     "metadata": {},
     "output_type": "display_data"
    },
    {
     "data": {
      "text/html": [
       "<div>\n",
       "<style scoped>\n",
       "    .dataframe tbody tr th:only-of-type {\n",
       "        vertical-align: middle;\n",
       "    }\n",
       "\n",
       "    .dataframe tbody tr th {\n",
       "        vertical-align: top;\n",
       "    }\n",
       "\n",
       "    .dataframe thead th {\n",
       "        text-align: right;\n",
       "    }\n",
       "</style>\n",
       "<table border=\"1\" class=\"dataframe\">\n",
       "  <thead>\n",
       "    <tr style=\"text-align: right;\">\n",
       "      <th></th>\n",
       "      <th>Brand</th>\n",
       "      <th>Model</th>\n",
       "      <th>title</th>\n",
       "      <th>Features</th>\n",
       "      <th>Price</th>\n",
       "      <th>Label</th>\n",
       "    </tr>\n",
       "  </thead>\n",
       "  <tbody>\n",
       "    <tr>\n",
       "      <th>182353</th>\n",
       "      <td>Volkswagen</td>\n",
       "      <td>t-roc</td>\n",
       "      <td>Volkswagen T-Roc 1.5 TSI Style EU6d-T LED ACC ...</td>\n",
       "      <td>['33.000 km', 'Schaltgetriebe', '08/2019', 'Be...</td>\n",
       "      <td>20950</td>\n",
       "      <td>Sehr guter Preis</td>\n",
       "    </tr>\n",
       "  </tbody>\n",
       "</table>\n",
       "</div>"
      ],
      "text/plain": [
       "             Brand  Model                                              title   \n",
       "182353  Volkswagen  t-roc  Volkswagen T-Roc 1.5 TSI Style EU6d-T LED ACC ...  \\\n",
       "\n",
       "                                                 Features  Price   \n",
       "182353  ['33.000 km', 'Schaltgetriebe', '08/2019', 'Be...  20950  \\\n",
       "\n",
       "                   Label  \n",
       "182353  Sehr guter Preis  "
      ]
     },
     "metadata": {},
     "output_type": "display_data"
    },
    {
     "data": {
      "text/html": [
       "<div>\n",
       "<style scoped>\n",
       "    .dataframe tbody tr th:only-of-type {\n",
       "        vertical-align: middle;\n",
       "    }\n",
       "\n",
       "    .dataframe tbody tr th {\n",
       "        vertical-align: top;\n",
       "    }\n",
       "\n",
       "    .dataframe thead th {\n",
       "        text-align: right;\n",
       "    }\n",
       "</style>\n",
       "<table border=\"1\" class=\"dataframe\">\n",
       "  <thead>\n",
       "    <tr style=\"text-align: right;\">\n",
       "      <th></th>\n",
       "      <th>Brand</th>\n",
       "      <th>Model</th>\n",
       "      <th>title</th>\n",
       "      <th>Features</th>\n",
       "      <th>Price</th>\n",
       "      <th>Label</th>\n",
       "    </tr>\n",
       "  </thead>\n",
       "  <tbody>\n",
       "    <tr>\n",
       "      <th>369282</th>\n",
       "      <td>Audi</td>\n",
       "      <td>a4-allroad</td>\n",
       "      <td>Audi A4 allroad 2.0 TDI Quattro S-Tronic EU6 L...</td>\n",
       "      <td>['250.000 km', 'Automatik', '05/2018', 'Diesel...</td>\n",
       "      <td>19950</td>\n",
       "      <td>Sehr guter Preis</td>\n",
       "    </tr>\n",
       "  </tbody>\n",
       "</table>\n",
       "</div>"
      ],
      "text/plain": [
       "       Brand       Model                                              title   \n",
       "369282  Audi  a4-allroad  Audi A4 allroad 2.0 TDI Quattro S-Tronic EU6 L...  \\\n",
       "\n",
       "                                                 Features  Price   \n",
       "369282  ['250.000 km', 'Automatik', '05/2018', 'Diesel...  19950  \\\n",
       "\n",
       "                   Label  \n",
       "369282  Sehr guter Preis  "
      ]
     },
     "metadata": {},
     "output_type": "display_data"
    },
    {
     "data": {
      "text/html": [
       "<div>\n",
       "<style scoped>\n",
       "    .dataframe tbody tr th:only-of-type {\n",
       "        vertical-align: middle;\n",
       "    }\n",
       "\n",
       "    .dataframe tbody tr th {\n",
       "        vertical-align: top;\n",
       "    }\n",
       "\n",
       "    .dataframe thead th {\n",
       "        text-align: right;\n",
       "    }\n",
       "</style>\n",
       "<table border=\"1\" class=\"dataframe\">\n",
       "  <thead>\n",
       "    <tr style=\"text-align: right;\">\n",
       "      <th></th>\n",
       "      <th>Brand</th>\n",
       "      <th>Model</th>\n",
       "      <th>title</th>\n",
       "      <th>Features</th>\n",
       "      <th>Price</th>\n",
       "      <th>Label</th>\n",
       "    </tr>\n",
       "  </thead>\n",
       "  <tbody>\n",
       "    <tr>\n",
       "      <th>399160</th>\n",
       "      <td>Audi</td>\n",
       "      <td>a6-allroad</td>\n",
       "      <td>Audi A6 allroad 3.0 TDi Navi Sitzhz Kamera Led...</td>\n",
       "      <td>['117.234 km', 'Automatik', '08/2017', 'Diesel...</td>\n",
       "      <td>27950</td>\n",
       "      <td>Guter Preis</td>\n",
       "    </tr>\n",
       "  </tbody>\n",
       "</table>\n",
       "</div>"
      ],
      "text/plain": [
       "       Brand       Model                                              title   \n",
       "399160  Audi  a6-allroad  Audi A6 allroad 3.0 TDi Navi Sitzhz Kamera Led...  \\\n",
       "\n",
       "                                                 Features  Price        Label  \n",
       "399160  ['117.234 km', 'Automatik', '08/2017', 'Diesel...  27950  Guter Preis  "
      ]
     },
     "metadata": {},
     "output_type": "display_data"
    },
    {
     "data": {
      "text/html": [
       "<div>\n",
       "<style scoped>\n",
       "    .dataframe tbody tr th:only-of-type {\n",
       "        vertical-align: middle;\n",
       "    }\n",
       "\n",
       "    .dataframe tbody tr th {\n",
       "        vertical-align: top;\n",
       "    }\n",
       "\n",
       "    .dataframe thead th {\n",
       "        text-align: right;\n",
       "    }\n",
       "</style>\n",
       "<table border=\"1\" class=\"dataframe\">\n",
       "  <thead>\n",
       "    <tr style=\"text-align: right;\">\n",
       "      <th></th>\n",
       "      <th>Brand</th>\n",
       "      <th>Model</th>\n",
       "      <th>title</th>\n",
       "      <th>Features</th>\n",
       "      <th>Price</th>\n",
       "      <th>Label</th>\n",
       "    </tr>\n",
       "  </thead>\n",
       "  <tbody>\n",
       "    <tr>\n",
       "      <th>606633</th>\n",
       "      <td>Opel</td>\n",
       "      <td>grandland-x</td>\n",
       "      <td>Opel Grandland X 1.5 D Business Edition Automa...</td>\n",
       "      <td>['147.000 km', 'Automatik', '11/2019', 'Diesel...</td>\n",
       "      <td>15950</td>\n",
       "      <td>Sehr guter Preis</td>\n",
       "    </tr>\n",
       "  </tbody>\n",
       "</table>\n",
       "</div>"
      ],
      "text/plain": [
       "       Brand        Model                                              title   \n",
       "606633  Opel  grandland-x  Opel Grandland X 1.5 D Business Edition Automa...  \\\n",
       "\n",
       "                                                 Features  Price   \n",
       "606633  ['147.000 km', 'Automatik', '11/2019', 'Diesel...  15950  \\\n",
       "\n",
       "                   Label  \n",
       "606633  Sehr guter Preis  "
      ]
     },
     "metadata": {},
     "output_type": "display_data"
    },
    {
     "data": {
      "text/html": [
       "<div>\n",
       "<style scoped>\n",
       "    .dataframe tbody tr th:only-of-type {\n",
       "        vertical-align: middle;\n",
       "    }\n",
       "\n",
       "    .dataframe tbody tr th {\n",
       "        vertical-align: top;\n",
       "    }\n",
       "\n",
       "    .dataframe thead th {\n",
       "        text-align: right;\n",
       "    }\n",
       "</style>\n",
       "<table border=\"1\" class=\"dataframe\">\n",
       "  <thead>\n",
       "    <tr style=\"text-align: right;\">\n",
       "      <th></th>\n",
       "      <th>Brand</th>\n",
       "      <th>Model</th>\n",
       "      <th>title</th>\n",
       "      <th>Features</th>\n",
       "      <th>Price</th>\n",
       "      <th>Label</th>\n",
       "    </tr>\n",
       "  </thead>\n",
       "  <tbody>\n",
       "    <tr>\n",
       "      <th>631317</th>\n",
       "      <td>Opel</td>\n",
       "      <td>crossland-x</td>\n",
       "      <td>Opel Crossland X 1.2 PDC Sitz+Lenkheizung Klim...</td>\n",
       "      <td>['47.500 km', 'Schaltgetriebe', '12/2018', 'Be...</td>\n",
       "      <td>12990</td>\n",
       "      <td>Sehr guter Preis</td>\n",
       "    </tr>\n",
       "  </tbody>\n",
       "</table>\n",
       "</div>"
      ],
      "text/plain": [
       "       Brand        Model                                              title   \n",
       "631317  Opel  crossland-x  Opel Crossland X 1.2 PDC Sitz+Lenkheizung Klim...  \\\n",
       "\n",
       "                                                 Features  Price   \n",
       "631317  ['47.500 km', 'Schaltgetriebe', '12/2018', 'Be...  12990  \\\n",
       "\n",
       "                   Label  \n",
       "631317  Sehr guter Preis  "
      ]
     },
     "metadata": {},
     "output_type": "display_data"
    }
   ],
   "source": [
    "# Einige Werkzeuge mit dem Zeichen - im Modellnamen können ohne - in der Titelspalte geschrieben werden. \n",
    "# Lass uns einige davon überprüfen.\n",
    "for m in cars.Model.unique():\n",
    "    if \"-\" in m:\n",
    "        display(cars[cars.Model==m].head(1))"
   ]
  },
  {
   "attachments": {},
   "cell_type": "markdown",
   "metadata": {},
   "source": [
    "* <font color=\"lightgreen\" size=\"4\">Mit Ausnahme des Modells t-roc, s-max, c-max sollten wir dieses Zeichen aus den anderen Modellnamen, <Br>die mit - geschrieben werden, entfernen, ersetzen Sie es durch ein Leerzeichen und vergleichen Sie dann die Spalten Modell und Titel.<Br>Dann erstellen wir eine Spalte, in der wir die beiden Spalten vergleichen und den Unterschied untersuchen</font>"
   ]
  },
  {
   "cell_type": "code",
   "execution_count": 111,
   "metadata": {},
   "outputs": [],
   "source": [
    "cars.Model = cars.Model.apply(lambda x: x if x in [\"t-roc\"] else x.replace(\"-\", \" \"))\n",
    "cars.Model = cars.Model.apply(lambda x: \"c 180\" if x == \"c180\" else x)"
   ]
  },
  {
   "cell_type": "code",
   "execution_count": 112,
   "metadata": {},
   "outputs": [],
   "source": [
    "cars[\"model_check\"] = cars.apply(lambda row: row['Model'] if row['Model'] in row['title'].lower() else row['title'], axis=1)"
   ]
  },
  {
   "cell_type": "code",
   "execution_count": 113,
   "metadata": {},
   "outputs": [
    {
     "data": {
      "text/plain": [
       "is_different\n",
       "False    121979\n",
       "True       4648\n",
       "Name: count, dtype: int64"
      ]
     },
     "execution_count": 113,
     "metadata": {},
     "output_type": "execute_result"
    }
   ],
   "source": [
    "# Erstellen wir eine Spalte mit boolschen Werten, in der wir die Unterschiede zwischen den beiden Spalten untersuchen werden. \n",
    "cars['is_different'] = cars['model_check'] != cars['Model']\n",
    "cars.is_different.value_counts()"
   ]
  },
  {
   "cell_type": "code",
   "execution_count": 114,
   "metadata": {},
   "outputs": [
    {
     "data": {
      "text/html": [
       "<div>\n",
       "<style scoped>\n",
       "    .dataframe tbody tr th:only-of-type {\n",
       "        vertical-align: middle;\n",
       "    }\n",
       "\n",
       "    .dataframe tbody tr th {\n",
       "        vertical-align: top;\n",
       "    }\n",
       "\n",
       "    .dataframe thead th {\n",
       "        text-align: right;\n",
       "    }\n",
       "</style>\n",
       "<table border=\"1\" class=\"dataframe\">\n",
       "  <thead>\n",
       "    <tr style=\"text-align: right;\">\n",
       "      <th></th>\n",
       "      <th>Brand</th>\n",
       "      <th>Model</th>\n",
       "      <th>title</th>\n",
       "      <th>Features</th>\n",
       "      <th>Price</th>\n",
       "      <th>Label</th>\n",
       "      <th>model_check</th>\n",
       "      <th>is_different</th>\n",
       "    </tr>\n",
       "  </thead>\n",
       "  <tbody>\n",
       "    <tr>\n",
       "      <th>26675</th>\n",
       "      <td>Mercedes-Benz</td>\n",
       "      <td>c 180</td>\n",
       "      <td>Mercedes-Benz E 200 Lim. E 200 d 9G-Tronic Ava...</td>\n",
       "      <td>['130.000 km', 'Automatik', '08/2020', 'Diesel...</td>\n",
       "      <td>27700</td>\n",
       "      <td>Sehr guter Preis</td>\n",
       "      <td>Mercedes-Benz E 200 Lim. E 200 d 9G-Tronic Ava...</td>\n",
       "      <td>True</td>\n",
       "    </tr>\n",
       "    <tr>\n",
       "      <th>26676</th>\n",
       "      <td>Mercedes-Benz</td>\n",
       "      <td>c 180</td>\n",
       "      <td>Mercedes-Benz G 400 AMG Manufaktur Night Super...</td>\n",
       "      <td>['3.500 km', 'Automatik', '01/2023', 'Diesel',...</td>\n",
       "      <td>181989</td>\n",
       "      <td>Keine Angabe</td>\n",
       "      <td>Mercedes-Benz G 400 AMG Manufaktur Night Super...</td>\n",
       "      <td>True</td>\n",
       "    </tr>\n",
       "    <tr>\n",
       "      <th>26677</th>\n",
       "      <td>Mercedes-Benz</td>\n",
       "      <td>c 180</td>\n",
       "      <td>Mercedes-Benz C 250 AMG Line Autom.</td>\n",
       "      <td>['182.000 km', 'Automatik', '01/2016', 'Benzin...</td>\n",
       "      <td>21700</td>\n",
       "      <td>Sehr guter Preis</td>\n",
       "      <td>Mercedes-Benz C 250 AMG Line Autom.</td>\n",
       "      <td>True</td>\n",
       "    </tr>\n",
       "    <tr>\n",
       "      <th>26678</th>\n",
       "      <td>Mercedes-Benz</td>\n",
       "      <td>c 180</td>\n",
       "      <td>Mercedes-Benz C 220 d 4MATIC 2XAMG PAKET</td>\n",
       "      <td>['209.000 km', 'Automatik', '07/2018', 'Diesel...</td>\n",
       "      <td>21999</td>\n",
       "      <td>Sehr guter Preis</td>\n",
       "      <td>Mercedes-Benz C 220 d 4MATIC 2XAMG PAKET</td>\n",
       "      <td>True</td>\n",
       "    </tr>\n",
       "    <tr>\n",
       "      <th>26679</th>\n",
       "      <td>Mercedes-Benz</td>\n",
       "      <td>c 180</td>\n",
       "      <td>Mercedes-Benz E 300 de TAXI LIMO EQ WIDESCREEN...</td>\n",
       "      <td>['184.400 km', 'Automatik', '07/2019', 'Elektr...</td>\n",
       "      <td>21999</td>\n",
       "      <td>Keine Angabe</td>\n",
       "      <td>Mercedes-Benz E 300 de TAXI LIMO EQ WIDESCREEN...</td>\n",
       "      <td>True</td>\n",
       "    </tr>\n",
       "    <tr>\n",
       "      <th>...</th>\n",
       "      <td>...</td>\n",
       "      <td>...</td>\n",
       "      <td>...</td>\n",
       "      <td>...</td>\n",
       "      <td>...</td>\n",
       "      <td>...</td>\n",
       "      <td>...</td>\n",
       "      <td>...</td>\n",
       "    </tr>\n",
       "    <tr>\n",
       "      <th>46628</th>\n",
       "      <td>Mercedes-Benz</td>\n",
       "      <td>c 180</td>\n",
       "      <td>Mercedes-Benz GLA 250 Progressive MBUX/Pano/LE...</td>\n",
       "      <td>['16.400 km', 'Automatik', '03/2021', 'Benzin'...</td>\n",
       "      <td>46990</td>\n",
       "      <td>Fairer Preis</td>\n",
       "      <td>Mercedes-Benz GLA 250 Progressive MBUX/Pano/LE...</td>\n",
       "      <td>True</td>\n",
       "    </tr>\n",
       "    <tr>\n",
       "      <th>46629</th>\n",
       "      <td>Mercedes-Benz</td>\n",
       "      <td>c 180</td>\n",
       "      <td>Mercedes-Benz EQB 250 EasyPack/KeylessGo/360°/...</td>\n",
       "      <td>['3.000 km', 'Automatik', '02/2023', 'Elektro'...</td>\n",
       "      <td>53880</td>\n",
       "      <td>Guter Preis</td>\n",
       "      <td>Mercedes-Benz EQB 250 EasyPack/KeylessGo/360°/...</td>\n",
       "      <td>True</td>\n",
       "    </tr>\n",
       "    <tr>\n",
       "      <th>46631</th>\n",
       "      <td>Mercedes-Benz</td>\n",
       "      <td>c 180</td>\n",
       "      <td>Mercedes-Benz CLA 35 AMG Mercedes-AMG CLA35 Pa...</td>\n",
       "      <td>['19.374 km', 'Automatik', '01/2021', 'Benzin'...</td>\n",
       "      <td>57890</td>\n",
       "      <td>Guter Preis</td>\n",
       "      <td>Mercedes-Benz CLA 35 AMG Mercedes-AMG CLA35 Pa...</td>\n",
       "      <td>True</td>\n",
       "    </tr>\n",
       "    <tr>\n",
       "      <th>46633</th>\n",
       "      <td>Mercedes-Benz</td>\n",
       "      <td>c 180</td>\n",
       "      <td>Mercedes-Benz A 200 Edition Abstandstemp. LED ...</td>\n",
       "      <td>['9.500 km', 'Automatik', '11/2022', 'Benzin',...</td>\n",
       "      <td>41550</td>\n",
       "      <td>Erhöhter Preis</td>\n",
       "      <td>Mercedes-Benz A 200 Edition Abstandstemp. LED ...</td>\n",
       "      <td>True</td>\n",
       "    </tr>\n",
       "    <tr>\n",
       "      <th>46635</th>\n",
       "      <td>Mercedes-Benz</td>\n",
       "      <td>c 180</td>\n",
       "      <td>Mercedes-Benz CLA 250 e AMG+PANO+DISTRONIC+MUL...</td>\n",
       "      <td>['9.000 km', 'Automatik', '04/2023', 'Elektro/...</td>\n",
       "      <td>52450</td>\n",
       "      <td>Keine Angabe</td>\n",
       "      <td>Mercedes-Benz CLA 250 e AMG+PANO+DISTRONIC+MUL...</td>\n",
       "      <td>True</td>\n",
       "    </tr>\n",
       "  </tbody>\n",
       "</table>\n",
       "<p>4648 rows × 8 columns</p>\n",
       "</div>"
      ],
      "text/plain": [
       "               Brand  Model   \n",
       "26675  Mercedes-Benz  c 180  \\\n",
       "26676  Mercedes-Benz  c 180   \n",
       "26677  Mercedes-Benz  c 180   \n",
       "26678  Mercedes-Benz  c 180   \n",
       "26679  Mercedes-Benz  c 180   \n",
       "...              ...    ...   \n",
       "46628  Mercedes-Benz  c 180   \n",
       "46629  Mercedes-Benz  c 180   \n",
       "46631  Mercedes-Benz  c 180   \n",
       "46633  Mercedes-Benz  c 180   \n",
       "46635  Mercedes-Benz  c 180   \n",
       "\n",
       "                                                   title   \n",
       "26675  Mercedes-Benz E 200 Lim. E 200 d 9G-Tronic Ava...  \\\n",
       "26676  Mercedes-Benz G 400 AMG Manufaktur Night Super...   \n",
       "26677                Mercedes-Benz C 250 AMG Line Autom.   \n",
       "26678           Mercedes-Benz C 220 d 4MATIC 2XAMG PAKET   \n",
       "26679  Mercedes-Benz E 300 de TAXI LIMO EQ WIDESCREEN...   \n",
       "...                                                  ...   \n",
       "46628  Mercedes-Benz GLA 250 Progressive MBUX/Pano/LE...   \n",
       "46629  Mercedes-Benz EQB 250 EasyPack/KeylessGo/360°/...   \n",
       "46631  Mercedes-Benz CLA 35 AMG Mercedes-AMG CLA35 Pa...   \n",
       "46633  Mercedes-Benz A 200 Edition Abstandstemp. LED ...   \n",
       "46635  Mercedes-Benz CLA 250 e AMG+PANO+DISTRONIC+MUL...   \n",
       "\n",
       "                                                Features   Price   \n",
       "26675  ['130.000 km', 'Automatik', '08/2020', 'Diesel...   27700  \\\n",
       "26676  ['3.500 km', 'Automatik', '01/2023', 'Diesel',...  181989   \n",
       "26677  ['182.000 km', 'Automatik', '01/2016', 'Benzin...   21700   \n",
       "26678  ['209.000 km', 'Automatik', '07/2018', 'Diesel...   21999   \n",
       "26679  ['184.400 km', 'Automatik', '07/2019', 'Elektr...   21999   \n",
       "...                                                  ...     ...   \n",
       "46628  ['16.400 km', 'Automatik', '03/2021', 'Benzin'...   46990   \n",
       "46629  ['3.000 km', 'Automatik', '02/2023', 'Elektro'...   53880   \n",
       "46631  ['19.374 km', 'Automatik', '01/2021', 'Benzin'...   57890   \n",
       "46633  ['9.500 km', 'Automatik', '11/2022', 'Benzin',...   41550   \n",
       "46635  ['9.000 km', 'Automatik', '04/2023', 'Elektro/...   52450   \n",
       "\n",
       "                  Label                                        model_check   \n",
       "26675  Sehr guter Preis  Mercedes-Benz E 200 Lim. E 200 d 9G-Tronic Ava...  \\\n",
       "26676      Keine Angabe  Mercedes-Benz G 400 AMG Manufaktur Night Super...   \n",
       "26677  Sehr guter Preis                Mercedes-Benz C 250 AMG Line Autom.   \n",
       "26678  Sehr guter Preis           Mercedes-Benz C 220 d 4MATIC 2XAMG PAKET   \n",
       "26679      Keine Angabe  Mercedes-Benz E 300 de TAXI LIMO EQ WIDESCREEN...   \n",
       "...                 ...                                                ...   \n",
       "46628      Fairer Preis  Mercedes-Benz GLA 250 Progressive MBUX/Pano/LE...   \n",
       "46629       Guter Preis  Mercedes-Benz EQB 250 EasyPack/KeylessGo/360°/...   \n",
       "46631       Guter Preis  Mercedes-Benz CLA 35 AMG Mercedes-AMG CLA35 Pa...   \n",
       "46633    Erhöhter Preis  Mercedes-Benz A 200 Edition Abstandstemp. LED ...   \n",
       "46635      Keine Angabe  Mercedes-Benz CLA 250 e AMG+PANO+DISTRONIC+MUL...   \n",
       "\n",
       "       is_different  \n",
       "26675          True  \n",
       "26676          True  \n",
       "26677          True  \n",
       "26678          True  \n",
       "26679          True  \n",
       "...             ...  \n",
       "46628          True  \n",
       "46629          True  \n",
       "46631          True  \n",
       "46633          True  \n",
       "46635          True  \n",
       "\n",
       "[4648 rows x 8 columns]"
      ]
     },
     "execution_count": 114,
     "metadata": {},
     "output_type": "execute_result"
    }
   ],
   "source": [
    "cars[cars.is_different==True]"
   ]
  },
  {
   "cell_type": "code",
   "execution_count": 115,
   "metadata": {},
   "outputs": [
    {
     "data": {
      "text/plain": [
       "Brand\n",
       "Mercedes-Benz    4648\n",
       "Name: count, dtype: int64"
      ]
     },
     "execution_count": 115,
     "metadata": {},
     "output_type": "execute_result"
    }
   ],
   "source": [
    "# Wir wollen sehen, welche Marken mehr Probleme haben\n",
    "cars[cars.is_different==True].Brand.value_counts()"
   ]
  },
  {
   "cell_type": "code",
   "execution_count": 116,
   "metadata": {},
   "outputs": [
    {
     "data": {
      "text/plain": [
       "Model\n",
       "c 180    4648\n",
       "Name: count, dtype: int64"
      ]
     },
     "execution_count": 116,
     "metadata": {},
     "output_type": "execute_result"
    }
   ],
   "source": [
    "# Sehen wir uns nun das problematische Modell an\n",
    "cars[(cars.is_different==True) & (cars.Brand==\"Mercedes-Benz\")].Model.value_counts()"
   ]
  },
  {
   "attachments": {},
   "cell_type": "markdown",
   "metadata": {},
   "source": [
    "* <font color=\"lightgreen\" size=\"4\">Prüfen wir, ob es ein anderes Modell gibt als die Modelle, die wir bei der Erstellung der Daten angegeben haben.<br> Wenn es nach diesem Vorgang Daten gibt, die wir nicht wollen, können wir diese Daten aus den Daten entfernen.</font>"
   ]
  },
  {
   "cell_type": "code",
   "execution_count": 117,
   "metadata": {},
   "outputs": [
    {
     "data": {
      "text/plain": [
       "['a 180',\n",
       " 'a 200',\n",
       " 'b 180',\n",
       " 'c 180',\n",
       " 'c 200',\n",
       " 'c 220',\n",
       " 'cla 200',\n",
       " 'e 200',\n",
       " 'e 220']"
      ]
     },
     "execution_count": 117,
     "metadata": {},
     "output_type": "execute_result"
    }
   ],
   "source": [
    "# Erstellen wir eine Liste der Mercedes-Modelle\n",
    "mercedes_models = cars[cars.Brand==\"Mercedes-Benz\"].Model.unique().tolist()\n",
    "mercedes_models"
   ]
  },
  {
   "cell_type": "code",
   "execution_count": 118,
   "metadata": {},
   "outputs": [],
   "source": [
    "# In der soeben erstellten Spalte model_check können wir die Werkzeuge in unserer Liste festlegen.\n",
    "def replace_model(x):\n",
    "    for item in mercedes_models:\n",
    "        if item.upper() in x:\n",
    "            return item\n",
    "    return x\n",
    "\n",
    "cars.loc[cars.is_different == True, 'model_check'] = cars.loc[cars.is_different == True, 'model_check'].apply(replace_model)"
   ]
  },
  {
   "cell_type": "code",
   "execution_count": 119,
   "metadata": {},
   "outputs": [
    {
     "data": {
      "text/plain": [
       "model_check\n",
       "c 220                                                                       2323\n",
       "c 200                                                                       2030\n",
       "e 220                                                                       1900\n",
       "a 200                                                                       1856\n",
       "a 180                                                                       1581\n",
       "e 200                                                                       1376\n",
       "cla 200                                                                     1248\n",
       "b 180                                                                        664\n",
       "c 180                                                                        123\n",
       "Mercedes-Benz C 300 EXCLUSIVE/Navi/AHK/Spur/ILS-LED/FS-Memory Autom.           5\n",
       "Mercedes-Benz CLA 250 4M SB AMG Line+Night+HUD+Distron+DAB+19\"                 4\n",
       "Mercedes-Benz GLC 300 4M Coupé AMG Navi Distro AHK SHD MBUX                    4\n",
       "Mercedes-Benz E 300 Coupé AMG Line 2x+Comand+360°+Multib+Distr                 4\n",
       "Mercedes-Benz E 300 de TAXI LIMO EQ WIDESCREEN/STDHZG/LED/NAVI                 4\n",
       "Mercedes-Benz AMG GT 63  Cp. 4M Keramik Burmester 3D AeroPak SHD               3\n",
       "Mercedes-Benz G SL 43 AMG SPEEDSHIFT MCT 9G                                    3\n",
       "Mercedes-Benz CLA 250 SB AMG Line+Night+volldigi+Kam+Pano+19\"                  3\n",
       "Mercedes-Benz EQA 250 LED Kamera Laderaump Spurhalt-Ass PTS Temp               3\n",
       "Mercedes-Benz GLA 250 DCT 4Matic AMG Line Pano LED Nav Kam360                  3\n",
       "Mercedes-Benz G 63 AMG Sportpaket COMAND AHK Distronic Leder PTS               3\n",
       "Mercedes-Benz GLA 220 d 4M Progressive Leder MBeam Pano Burm.                  3\n",
       "Mercedes-Benz A 250 e AMG Sport LED Navi Spurh.-Ass. DAB SH                    3\n",
       "Mercedes-Benz A 250 e Progressive LED Kamera Spurhalt-Ass PTS                  3\n",
       "Mercedes-Benz A 45 AMG A 45 S 4M Lim Kompakt Drivers+Pano+360°+MultiBeam       3\n",
       "Mercedes-Benz B 200 Progressive LED AHK Laderaump Spurhalt-Ass                 2\n",
       "Mercedes-Benz CLA 250 e SB AMG Burmester 360°Kam HUD Multibeam                 2\n",
       "Mercedes-Benz A 250 e AMG Multibeam Night Keyl-GO Kamera PTS                   2\n",
       "Mercedes-Benz E 350 e Avantgarde*AHK*AUTOMATIK*TEILLEDER*LED*                  2\n",
       "Mercedes-Benz C 250 Dist+Asist/AHK/St.Hzg/Sitzbelüf/Burmester/Keyle            2\n",
       "Mercedes-Benz CLA 220 Coupé 4M AMG Line+Night+LED+Kam+NaviPrem                 2\n",
       "Name: count, dtype: int64"
      ]
     },
     "execution_count": 119,
     "metadata": {},
     "output_type": "execute_result"
    }
   ],
   "source": [
    "# Wir fanden heraus, dass Modelle, die wir nicht wollten, in den Daten gefangen waren.\n",
    "cars[cars.Brand==\"Mercedes-Benz\"].model_check.value_counts().sort_values(ascending=False).head(30)"
   ]
  },
  {
   "cell_type": "code",
   "execution_count": 120,
   "metadata": {},
   "outputs": [],
   "source": [
    "# Wir filtern nach den Werten in der Spalte \"model\", aber nicht in der Spalte \"model_check\", \n",
    "# und entfernen die Zeilen, die wir nicht haben wollen, aus den Daten.\n",
    "cars = cars[cars['model_check'].isin(cars.Model.unique())]"
   ]
  },
  {
   "attachments": {},
   "cell_type": "markdown",
   "metadata": {},
   "source": [
    "* <font color=\"lightgreen\" size=\"4\"> Wir haben die gewünschten Operationen auf dieser Spalte durchgeführt.<Br> Jetzt können wir die neu erstellten \"model_check\" und \"is_different\" Spalten aus den Daten entfernen.<Br> Die \"title\" Spalte werden wir jedoch in den Daten behalten.<Br><Br>\n",
    "Es gibt etwa 102.873 verschiedene Werte in dieser Spalte, aus denen einige Daten extrahiert werden können,<Br> die den Preis beeinflussen können. Es ist jedoch schwierig, ein Muster zu finden, da es sich um einen Bereich handelt,<Br> in dem Benutzer angemeldet sind. Daher kann ein Bereich, in dem der Benutzer aktiv ist, die Daten falsch manipulieren.<Br> Lassen Sie diese Spalte daher in unserer ML-Anwendung unverändert.</font>"
   ]
  },
  {
   "cell_type": "code",
   "execution_count": 121,
   "metadata": {},
   "outputs": [],
   "source": [
    "cars.drop([\"model_check\", \"is_different\"], axis=1, inplace=True)"
   ]
  },
  {
   "cell_type": "markdown",
   "metadata": {},
   "source": [
    "### <a class = \"anchor\" id = \"feature\"> Spalte Feature </a>\n",
    "\n",
    "* [Home](#content)"
   ]
  },
  {
   "cell_type": "code",
   "execution_count": 122,
   "metadata": {},
   "outputs": [
    {
     "data": {
      "text/plain": [
       "Features\n",
       "['- km', 'Automatik', '- (Erstzulassung)', 'Benzin', '206 kW (280 PS)', '170 g/km (komb.) | 7,4 l/100 km (komb.)']        49\n",
       "['- km', 'Automatik', '- (Erstzulassung)', 'Benzin', '140 kW (190 PS)', '135 g/km (komb.) | 5,9 l/100 km (komb.)']        42\n",
       "['- km', 'Automatik', '- (Erstzulassung)', 'Benzin', '110 kW (150 PS)', '131 g/km (komb.) | 5,7 l/100 km (komb.)']        39\n",
       "['- km', 'Automatik', '- (Erstzulassung)', 'Diesel', '110 kW (150 PS)', '112 g/km (komb.) | 4,3 l/100 km (komb.)']        38\n",
       "['- km', 'Automatik', '- (Erstzulassung)', 'Diesel', '147 kW (200 PS)', '127 g/km (komb.) | 4,8 l/100 km (komb.)']        36\n",
       "                                                                                                                          ..\n",
       "['169.955 km', 'Automatik', '03/2016', 'Diesel', '140 kW (190 PS)', '118 g/km (komb.) | 4,5 l/100 km (komb.)']             1\n",
       "['30.594 km', 'Schaltgetriebe', '06/2017', 'Benzin', '135 kW (184 PS)', '145 g/km (komb.) | 6,1 l/100 km (komb.)']         1\n",
       "['45.200 km', 'Automatik', '09/2017', 'Diesel', '140 kW (190 PS)', '114 g/km (komb.) | 4,3 l/100 km (komb.)']              1\n",
       "['94.427 km', 'Automatik', '10/2017', 'Diesel', '140 kW (190 PS)', '106 g/km (komb.) | 4 l/100 km (komb.)']                1\n",
       "['0 km', 'Schaltgetriebe', '- (Erstzulassung)', 'Benzin', '81 kW (110 PS)', '111 g/km (komb.) | 5,6 l/100 km (komb.)']     1\n",
       "Name: count, Length: 107468, dtype: int64"
      ]
     },
     "execution_count": 122,
     "metadata": {},
     "output_type": "execute_result"
    }
   ],
   "source": [
    "cars.Features.value_counts()"
   ]
  },
  {
   "attachments": {},
   "cell_type": "markdown",
   "metadata": {},
   "source": [
    "* <font color=\"lightgreen\" size=\"4\"> In der Spalte Merkmale finden Sie verschiedene Informationen, die wir verwenden können.</font>"
   ]
  },
  {
   "cell_type": "code",
   "execution_count": 123,
   "metadata": {},
   "outputs": [
    {
     "data": {
      "text/plain": [
       "\"['14.999 km', 'Schaltgetriebe', '05/2020', 'Benzin', '100 kW (136 PS)', '136 g/km (komb.) | 6 l/100 km (komb.)']\""
      ]
     },
     "execution_count": 123,
     "metadata": {},
     "output_type": "execute_result"
    }
   ],
   "source": [
    "# Lassen Sie uns zunächst die Listenstrukturen innerhalb der Spalte überprüfen und versuchen, ein Muster zu finden.\n",
    "cars.Features[0]"
   ]
  },
  {
   "cell_type": "code",
   "execution_count": 124,
   "metadata": {},
   "outputs": [
    {
     "data": {
      "text/plain": [
       "Features\n",
       "['€ 0,- Anzahlung', '48 Monate Laufzeit', '10.000 km/Jahr', '10 km', 'Automatik', '- (Erstzulassung)', 'Diesel', '210 kW (286 PS)', '133 g/km (komb.) | 5,1 l/100 km (komb.)']       18\n",
       "['€ 0,- Anzahlung', '60 Monate Laufzeit', '10.000 km/Jahr', '10 km', 'Automatik', '03/2023', 'Benzin', '110 kW (150 PS)', '134 g/km (komb.) | 5,8 l/100 km (komb.)']                 18\n",
       "['€ 0,- Anzahlung', '60 Monate Laufzeit', '10.000 km/Jahr', '1.000 km', 'Automatik', '04/2023', 'Benzin', '110 kW (150 PS)', '114 g/km (komb.) | 5 l/100 km (komb.)']                15\n",
       "['€ 0,- Anzahlung', '60 Monate Laufzeit', '10.000 km/Jahr', '10 km', 'Automatik', '04/2023', 'Benzin', '110 kW (150 PS)', '114 g/km (komb.) | 5 l/100 km (komb.)']                   14\n",
       "['€ 0,- Anzahlung', '48 Monate Laufzeit', '10.000 km/Jahr', '10 km', 'Automatik', '- (Erstzulassung)', 'Benzin', '110 kW (150 PS)', '127 g/km (komb.) | 5,6 l/100 km (komb.)']       12\n",
       "                                                                                                                                                                                     ..\n",
       "['€ 0,- Anzahlung', '42 Monate Laufzeit', '10.000 km/Jahr', '12.418 km', 'Automatik', '08/2021', 'Diesel', '110 kW (150 PS)', '999 g/km (komb.) | 99,9 l/100 km (komb.)']             1\n",
       "['€ 0,- Anzahlung', '48 Monate Laufzeit', '10.000 km/Jahr', '12.100 km', 'Automatik', '01/2022', 'Benzin', '150 kW (204 PS)', '145 g/km (komb.) | 6,4 l/100 km (komb.)']              1\n",
       "['€ 0,- Anzahlung', '60 Monate Laufzeit', '10.000 km/Jahr', '5.594 km', 'Automatik', '05/2022', 'Benzin', '100 kW (136 PS)', '114 g/km (komb.) | 4,9 l/100 km (komb.)']               1\n",
       "['€ 0,- Anzahlung', '60 Monate Laufzeit', '10.000 km/Jahr', '33.100 km', 'Automatik', '08/2021', 'Diesel', '110 kW (150 PS)', '115 g/km (komb.) | 4,3 l/100 km (komb.)']              1\n",
       "['€ 0,- Anzahlung', '48 Monate Laufzeit', '10.000 km/Jahr', '10 km', 'Schaltgetriebe', '- (Erstzulassung)', 'Benzin', '70 kW (95 PS)', '123 g/km (komb.) | 5,4 l/100 km (komb.)']     1\n",
       "Name: count, Length: 1313, dtype: int64"
      ]
     },
     "execution_count": 124,
     "metadata": {},
     "output_type": "execute_result"
    }
   ],
   "source": [
    "cars[cars.Features.str.contains(\"Laufzeit\")].Features.value_counts()"
   ]
  },
  {
   "attachments": {},
   "cell_type": "markdown",
   "metadata": {},
   "source": [
    "* <font color=\"lightgreen\" size=\"4\"> In einigen Spalten befinden sich Informationen, die für uns nicht von Nutzen sind.<br> Wenn wir diese Informationen aus diesen Spalten entfernen, können wir leichter neue Spalten nach<br> unseren Wünschen aus der Spalte \"Merkmale\" erstellen.</font>"
   ]
  },
  {
   "cell_type": "code",
   "execution_count": 125,
   "metadata": {},
   "outputs": [],
   "source": [
    "# Wir können die Werte in einer Spalte in eine Liste umwandeln, so dass wir auf die Listenelemente zugreifen und neue Spalten erstellen können.\n",
    "cars.Features = cars.Features.apply(lambda x: eval (x))"
   ]
  },
  {
   "cell_type": "code",
   "execution_count": 126,
   "metadata": {},
   "outputs": [],
   "source": [
    "# Die ersten 3 Elemente von etwa 1319 der Daten in den Zellen sind mit Informationen gefüllt, die wir nicht brauchen. \n",
    "# Lassen wir diese Elemente weg und konvertieren wir die gesamte Spalte in dieselbe Struktur.\n",
    "cars.Features = cars.Features.apply(lambda x: x[3:] if \"Laufzeit\" in str(x) else x)"
   ]
  },
  {
   "cell_type": "markdown",
   "metadata": {},
   "source": [
    "* <font color=\"lightgreen\" size=\"4\">In dieser Spalte können wir Informationen wie Kilometerstand, Motor und Kraftstofftyp verwenden. Wir können neue Spalten mit diesen Informationen erstellen.</font>"
   ]
  },
  {
   "cell_type": "markdown",
   "metadata": {},
   "source": [
    "## <a class = \"anchor\" id = \"neu\"> Neue Spalten </a>\n",
    "\n",
    "[Home](#content)"
   ]
  },
  {
   "cell_type": "code",
   "execution_count": 127,
   "metadata": {},
   "outputs": [
    {
     "data": {
      "text/html": [
       "<div>\n",
       "<style scoped>\n",
       "    .dataframe tbody tr th:only-of-type {\n",
       "        vertical-align: middle;\n",
       "    }\n",
       "\n",
       "    .dataframe tbody tr th {\n",
       "        vertical-align: top;\n",
       "    }\n",
       "\n",
       "    .dataframe thead th {\n",
       "        text-align: right;\n",
       "    }\n",
       "</style>\n",
       "<table border=\"1\" class=\"dataframe\">\n",
       "  <thead>\n",
       "    <tr style=\"text-align: right;\">\n",
       "      <th></th>\n",
       "      <th>Brand</th>\n",
       "      <th>Model</th>\n",
       "      <th>title</th>\n",
       "      <th>Features</th>\n",
       "      <th>Price</th>\n",
       "      <th>Label</th>\n",
       "      <th>km</th>\n",
       "      <th>gearbox</th>\n",
       "      <th>registiration</th>\n",
       "      <th>fuel</th>\n",
       "      <th>kw</th>\n",
       "      <th>ps</th>\n",
       "    </tr>\n",
       "  </thead>\n",
       "  <tbody>\n",
       "    <tr>\n",
       "      <th>0</th>\n",
       "      <td>Mercedes-Benz</td>\n",
       "      <td>a 180</td>\n",
       "      <td>Mercedes-Benz A 180 Progressive LED/Sportsitze...</td>\n",
       "      <td>[14.999 km, Schaltgetriebe, 05/2020, Benzin, 1...</td>\n",
       "      <td>25900</td>\n",
       "      <td>Guter Preis</td>\n",
       "      <td>14.999 km</td>\n",
       "      <td>Schaltgetriebe</td>\n",
       "      <td>05/2020</td>\n",
       "      <td>Benzin</td>\n",
       "      <td>100 kW</td>\n",
       "      <td>(136 PS)</td>\n",
       "    </tr>\n",
       "    <tr>\n",
       "      <th>7</th>\n",
       "      <td>Mercedes-Benz</td>\n",
       "      <td>a 180</td>\n",
       "      <td>Mercedes-Benz A 180 7G-DCT Style NAV+LED+SHZ+DAB+</td>\n",
       "      <td>[46.750 km, Automatik, 11/2019, Benzin, 100 kW...</td>\n",
       "      <td>24749</td>\n",
       "      <td>Sehr guter Preis</td>\n",
       "      <td>46.750 km</td>\n",
       "      <td>Automatik</td>\n",
       "      <td>11/2019</td>\n",
       "      <td>Benzin</td>\n",
       "      <td>100 kW</td>\n",
       "      <td>(136 PS)</td>\n",
       "    </tr>\n",
       "    <tr>\n",
       "      <th>8</th>\n",
       "      <td>Mercedes-Benz</td>\n",
       "      <td>a 180</td>\n",
       "      <td>Mercedes-Benz A 180 \"Advanced\" AMG+PREMIUM+KAM...</td>\n",
       "      <td>[6.560 km, Automatik, 11/2022, Benzin, 100 kW ...</td>\n",
       "      <td>32995</td>\n",
       "      <td>Keine Angabe</td>\n",
       "      <td>6.560 km</td>\n",
       "      <td>Automatik</td>\n",
       "      <td>11/2022</td>\n",
       "      <td>Benzin</td>\n",
       "      <td>100 kW</td>\n",
       "      <td>(136 PS)</td>\n",
       "    </tr>\n",
       "    <tr>\n",
       "      <th>9</th>\n",
       "      <td>Mercedes-Benz</td>\n",
       "      <td>a 180</td>\n",
       "      <td>Mercedes-Benz A 180 AMG Line Limo., MBUX High ...</td>\n",
       "      <td>[16.749 km, Automatik, 01/2021, Benzin, 100 kW...</td>\n",
       "      <td>31500</td>\n",
       "      <td>Fairer Preis</td>\n",
       "      <td>16.749 km</td>\n",
       "      <td>Automatik</td>\n",
       "      <td>01/2021</td>\n",
       "      <td>Benzin</td>\n",
       "      <td>100 kW</td>\n",
       "      <td>(136 PS)</td>\n",
       "    </tr>\n",
       "    <tr>\n",
       "      <th>10</th>\n",
       "      <td>Mercedes-Benz</td>\n",
       "      <td>a 180</td>\n",
       "      <td>Mercedes-Benz A 180 AMG+NIGHT+KAMERA+LED+MBUX-...</td>\n",
       "      <td>[6.900 km, Automatik, 11/2022, Benzin, 100 kW ...</td>\n",
       "      <td>33475</td>\n",
       "      <td>Keine Angabe</td>\n",
       "      <td>6.900 km</td>\n",
       "      <td>Automatik</td>\n",
       "      <td>11/2022</td>\n",
       "      <td>Benzin</td>\n",
       "      <td>100 kW</td>\n",
       "      <td>(136 PS)</td>\n",
       "    </tr>\n",
       "  </tbody>\n",
       "</table>\n",
       "</div>"
      ],
      "text/plain": [
       "            Brand  Model                                              title   \n",
       "0   Mercedes-Benz  a 180  Mercedes-Benz A 180 Progressive LED/Sportsitze...  \\\n",
       "7   Mercedes-Benz  a 180  Mercedes-Benz A 180 7G-DCT Style NAV+LED+SHZ+DAB+   \n",
       "8   Mercedes-Benz  a 180  Mercedes-Benz A 180 \"Advanced\" AMG+PREMIUM+KAM...   \n",
       "9   Mercedes-Benz  a 180  Mercedes-Benz A 180 AMG Line Limo., MBUX High ...   \n",
       "10  Mercedes-Benz  a 180  Mercedes-Benz A 180 AMG+NIGHT+KAMERA+LED+MBUX-...   \n",
       "\n",
       "                                             Features  Price   \n",
       "0   [14.999 km, Schaltgetriebe, 05/2020, Benzin, 1...  25900  \\\n",
       "7   [46.750 km, Automatik, 11/2019, Benzin, 100 kW...  24749   \n",
       "8   [6.560 km, Automatik, 11/2022, Benzin, 100 kW ...  32995   \n",
       "9   [16.749 km, Automatik, 01/2021, Benzin, 100 kW...  31500   \n",
       "10  [6.900 km, Automatik, 11/2022, Benzin, 100 kW ...  33475   \n",
       "\n",
       "               Label         km         gearbox registiration    fuel   \n",
       "0        Guter Preis  14.999 km  Schaltgetriebe       05/2020  Benzin  \\\n",
       "7   Sehr guter Preis  46.750 km       Automatik       11/2019  Benzin   \n",
       "8       Keine Angabe   6.560 km       Automatik       11/2022  Benzin   \n",
       "9       Fairer Preis  16.749 km       Automatik       01/2021  Benzin   \n",
       "10      Keine Angabe   6.900 km       Automatik       11/2022  Benzin   \n",
       "\n",
       "         kw        ps  \n",
       "0   100 kW   (136 PS)  \n",
       "7   100 kW   (136 PS)  \n",
       "8   100 kW   (136 PS)  \n",
       "9   100 kW   (136 PS)  \n",
       "10  100 kW   (136 PS)  "
      ]
     },
     "execution_count": 127,
     "metadata": {},
     "output_type": "execute_result"
    }
   ],
   "source": [
    "cars[\"km\"] = cars.Features.apply(lambda x: x[0])\n",
    "cars[\"gearbox\"]= cars.Features.apply(lambda x: x[1])\n",
    "cars[\"registiration\"] = cars.Features.apply(lambda x: x[2])\n",
    "cars[\"fuel\"] = cars.Features.apply(lambda x: x[3])\n",
    "cars[\"kw\"] = cars.Features.apply(lambda x: x[4][:-8] if \"kW\" in x[4] else np.nan)\n",
    "cars[\"ps\"] = cars.Features.apply(lambda x: x[4][-8:] if \"PS\" in x[4] else np.nan)\n",
    "\n",
    "\n",
    "cars.head()"
   ]
  },
  {
   "cell_type": "code",
   "execution_count": 128,
   "metadata": {},
   "outputs": [],
   "source": [
    "# Die Spalte Features wird nicht mehr benötigt, sie kann aus den Daten entfernt werden.\n",
    "cars.drop(\"Features\", axis=1, inplace=True)"
   ]
  },
  {
   "cell_type": "markdown",
   "metadata": {},
   "source": [
    "### <a class = \"anchor\" id = \"km\"> Spalte KM </a>\n",
    "\n",
    "[Home](#content)"
   ]
  },
  {
   "cell_type": "code",
   "execution_count": 129,
   "metadata": {},
   "outputs": [
    {
     "data": {
      "text/plain": [
       "km\n",
       "10 km         4095\n",
       "0 km          2871\n",
       "- km          1278\n",
       "50 km          741\n",
       "20 km          578\n",
       "              ... \n",
       "54.650 km        1\n",
       "93.782 km        1\n",
       "100.290 km       1\n",
       "55.380 km        1\n",
       "1.779 km         1\n",
       "Name: count, Length: 43626, dtype: int64"
      ]
     },
     "execution_count": 129,
     "metadata": {},
     "output_type": "execute_result"
    }
   ],
   "source": [
    "cars.km.value_counts(dropna=0)"
   ]
  },
  {
   "cell_type": "code",
   "execution_count": 130,
   "metadata": {},
   "outputs": [
    {
     "data": {
      "text/html": [
       "<div>\n",
       "<style scoped>\n",
       "    .dataframe tbody tr th:only-of-type {\n",
       "        vertical-align: middle;\n",
       "    }\n",
       "\n",
       "    .dataframe tbody tr th {\n",
       "        vertical-align: top;\n",
       "    }\n",
       "\n",
       "    .dataframe thead th {\n",
       "        text-align: right;\n",
       "    }\n",
       "</style>\n",
       "<table border=\"1\" class=\"dataframe\">\n",
       "  <thead>\n",
       "    <tr style=\"text-align: right;\">\n",
       "      <th></th>\n",
       "      <th>Brand</th>\n",
       "      <th>Model</th>\n",
       "      <th>title</th>\n",
       "      <th>Price</th>\n",
       "      <th>Label</th>\n",
       "      <th>km</th>\n",
       "      <th>gearbox</th>\n",
       "      <th>registiration</th>\n",
       "      <th>fuel</th>\n",
       "      <th>kw</th>\n",
       "      <th>ps</th>\n",
       "    </tr>\n",
       "  </thead>\n",
       "  <tbody>\n",
       "    <tr>\n",
       "      <th>10360</th>\n",
       "      <td>Mercedes-Benz</td>\n",
       "      <td>a 200</td>\n",
       "      <td>Mercedes-Benz A 200 DCT AMG Line SHZ MBeam Par...</td>\n",
       "      <td>50990</td>\n",
       "      <td>Keine Angabe</td>\n",
       "      <td>- km</td>\n",
       "      <td>Automatik</td>\n",
       "      <td>- (Erstzulassung)</td>\n",
       "      <td>Benzin</td>\n",
       "      <td>120 kW</td>\n",
       "      <td>(163 PS)</td>\n",
       "    </tr>\n",
       "    <tr>\n",
       "      <th>50596</th>\n",
       "      <td>Mercedes-Benz</td>\n",
       "      <td>c 200</td>\n",
       "      <td>Mercedes-Benz C 200 Lim. 4Matic Avantgarde Mem...</td>\n",
       "      <td>54990</td>\n",
       "      <td>Keine Angabe</td>\n",
       "      <td>- km</td>\n",
       "      <td>Automatik</td>\n",
       "      <td>- (Erstzulassung)</td>\n",
       "      <td>Benzin</td>\n",
       "      <td>150 kW</td>\n",
       "      <td>(204 PS)</td>\n",
       "    </tr>\n",
       "    <tr>\n",
       "      <th>63857</th>\n",
       "      <td>Mercedes-Benz</td>\n",
       "      <td>c 220</td>\n",
       "      <td>Mercedes-Benz C 220 d 4MATIC AMG LINE NIGHTPAC...</td>\n",
       "      <td>77900</td>\n",
       "      <td>Keine Angabe</td>\n",
       "      <td>- km</td>\n",
       "      <td>Automatik</td>\n",
       "      <td>- (Erstzulassung)</td>\n",
       "      <td>Diesel</td>\n",
       "      <td>147 kW</td>\n",
       "      <td>(200 PS)</td>\n",
       "    </tr>\n",
       "    <tr>\n",
       "      <th>93730</th>\n",
       "      <td>Mercedes-Benz</td>\n",
       "      <td>e 220</td>\n",
       "      <td>Mercedes-Benz E 220 d 9G-TRONIC</td>\n",
       "      <td>51900</td>\n",
       "      <td>Keine Angabe</td>\n",
       "      <td>- km</td>\n",
       "      <td>Automatik</td>\n",
       "      <td>- (Erstzulassung)</td>\n",
       "      <td>Diesel</td>\n",
       "      <td>147 kW</td>\n",
       "      <td>(200 PS)</td>\n",
       "    </tr>\n",
       "    <tr>\n",
       "      <th>101853</th>\n",
       "      <td>Volkswagen</td>\n",
       "      <td>golf</td>\n",
       "      <td>Volkswagen Golf 8 1.5 TSI Winterpak. SOFORT</td>\n",
       "      <td>26380</td>\n",
       "      <td>Keine Angabe</td>\n",
       "      <td>- km</td>\n",
       "      <td>Schaltgetriebe</td>\n",
       "      <td>- (Erstzulassung)</td>\n",
       "      <td>Benzin</td>\n",
       "      <td>110 kW</td>\n",
       "      <td>(150 PS)</td>\n",
       "    </tr>\n",
       "    <tr>\n",
       "      <th>...</th>\n",
       "      <td>...</td>\n",
       "      <td>...</td>\n",
       "      <td>...</td>\n",
       "      <td>...</td>\n",
       "      <td>...</td>\n",
       "      <td>...</td>\n",
       "      <td>...</td>\n",
       "      <td>...</td>\n",
       "      <td>...</td>\n",
       "      <td>...</td>\n",
       "      <td>...</td>\n",
       "    </tr>\n",
       "    <tr>\n",
       "      <th>720450</th>\n",
       "      <td>Skoda</td>\n",
       "      <td>kamiq</td>\n",
       "      <td>Skoda Kamiq Tour 95 PS/ LM FELGEN/SHZ/GARANTIE</td>\n",
       "      <td>23491</td>\n",
       "      <td>Keine Angabe</td>\n",
       "      <td>- km</td>\n",
       "      <td>Schaltgetriebe</td>\n",
       "      <td>- (Erstzulassung)</td>\n",
       "      <td>Benzin</td>\n",
       "      <td>70 kW</td>\n",
       "      <td>(95 PS)</td>\n",
       "    </tr>\n",
       "    <tr>\n",
       "      <th>720451</th>\n",
       "      <td>Skoda</td>\n",
       "      <td>kamiq</td>\n",
       "      <td>Skoda Kamiq Tour 1.0 TSI/ 95 PS/EPH/GARANTIE</td>\n",
       "      <td>23691</td>\n",
       "      <td>Keine Angabe</td>\n",
       "      <td>- km</td>\n",
       "      <td>Schaltgetriebe</td>\n",
       "      <td>- (Erstzulassung)</td>\n",
       "      <td>Benzin</td>\n",
       "      <td>70 kW</td>\n",
       "      <td>(95 PS)</td>\n",
       "    </tr>\n",
       "    <tr>\n",
       "      <th>720460</th>\n",
       "      <td>Skoda</td>\n",
       "      <td>kamiq</td>\n",
       "      <td>Skoda Kamiq ACTIVE 1,0 TSI/95 PS/SMARTLINK/SHZ</td>\n",
       "      <td>21980</td>\n",
       "      <td>Keine Angabe</td>\n",
       "      <td>- km</td>\n",
       "      <td>Schaltgetriebe</td>\n",
       "      <td>- (Erstzulassung)</td>\n",
       "      <td>Benzin</td>\n",
       "      <td>70 kW</td>\n",
       "      <td>(95 PS)</td>\n",
       "    </tr>\n",
       "    <tr>\n",
       "      <th>720529</th>\n",
       "      <td>Skoda</td>\n",
       "      <td>kamiq</td>\n",
       "      <td>Skoda Kamiq 1.0 TSI Monte Carlo Navi/Pano/5 Jahre</td>\n",
       "      <td>27990</td>\n",
       "      <td>Keine Angabe</td>\n",
       "      <td>- km</td>\n",
       "      <td>Schaltgetriebe</td>\n",
       "      <td>- (Erstzulassung)</td>\n",
       "      <td>Benzin</td>\n",
       "      <td>81 kW</td>\n",
       "      <td>(110 PS)</td>\n",
       "    </tr>\n",
       "    <tr>\n",
       "      <th>724834</th>\n",
       "      <td>Skoda</td>\n",
       "      <td>kamiq</td>\n",
       "      <td>Skoda Kamiq 1.0 TSI Tour 25950.-bei Inzahlungn...</td>\n",
       "      <td>26750</td>\n",
       "      <td>Keine Angabe</td>\n",
       "      <td>- km</td>\n",
       "      <td>Schaltgetriebe</td>\n",
       "      <td>- (Erstzulassung)</td>\n",
       "      <td>Benzin</td>\n",
       "      <td>81 kW</td>\n",
       "      <td>(110 PS)</td>\n",
       "    </tr>\n",
       "  </tbody>\n",
       "</table>\n",
       "<p>1278 rows × 11 columns</p>\n",
       "</div>"
      ],
      "text/plain": [
       "                Brand  Model   \n",
       "10360   Mercedes-Benz  a 200  \\\n",
       "50596   Mercedes-Benz  c 200   \n",
       "63857   Mercedes-Benz  c 220   \n",
       "93730   Mercedes-Benz  e 220   \n",
       "101853     Volkswagen   golf   \n",
       "...               ...    ...   \n",
       "720450          Skoda  kamiq   \n",
       "720451          Skoda  kamiq   \n",
       "720460          Skoda  kamiq   \n",
       "720529          Skoda  kamiq   \n",
       "724834          Skoda  kamiq   \n",
       "\n",
       "                                                    title  Price   \n",
       "10360   Mercedes-Benz A 200 DCT AMG Line SHZ MBeam Par...  50990  \\\n",
       "50596   Mercedes-Benz C 200 Lim. 4Matic Avantgarde Mem...  54990   \n",
       "63857   Mercedes-Benz C 220 d 4MATIC AMG LINE NIGHTPAC...  77900   \n",
       "93730                     Mercedes-Benz E 220 d 9G-TRONIC  51900   \n",
       "101853        Volkswagen Golf 8 1.5 TSI Winterpak. SOFORT  26380   \n",
       "...                                                   ...    ...   \n",
       "720450     Skoda Kamiq Tour 95 PS/ LM FELGEN/SHZ/GARANTIE  23491   \n",
       "720451       Skoda Kamiq Tour 1.0 TSI/ 95 PS/EPH/GARANTIE  23691   \n",
       "720460     Skoda Kamiq ACTIVE 1,0 TSI/95 PS/SMARTLINK/SHZ  21980   \n",
       "720529  Skoda Kamiq 1.0 TSI Monte Carlo Navi/Pano/5 Jahre  27990   \n",
       "724834  Skoda Kamiq 1.0 TSI Tour 25950.-bei Inzahlungn...  26750   \n",
       "\n",
       "               Label    km         gearbox      registiration    fuel   \n",
       "10360   Keine Angabe  - km       Automatik  - (Erstzulassung)  Benzin  \\\n",
       "50596   Keine Angabe  - km       Automatik  - (Erstzulassung)  Benzin   \n",
       "63857   Keine Angabe  - km       Automatik  - (Erstzulassung)  Diesel   \n",
       "93730   Keine Angabe  - km       Automatik  - (Erstzulassung)  Diesel   \n",
       "101853  Keine Angabe  - km  Schaltgetriebe  - (Erstzulassung)  Benzin   \n",
       "...              ...   ...             ...                ...     ...   \n",
       "720450  Keine Angabe  - km  Schaltgetriebe  - (Erstzulassung)  Benzin   \n",
       "720451  Keine Angabe  - km  Schaltgetriebe  - (Erstzulassung)  Benzin   \n",
       "720460  Keine Angabe  - km  Schaltgetriebe  - (Erstzulassung)  Benzin   \n",
       "720529  Keine Angabe  - km  Schaltgetriebe  - (Erstzulassung)  Benzin   \n",
       "724834  Keine Angabe  - km  Schaltgetriebe  - (Erstzulassung)  Benzin   \n",
       "\n",
       "             kw        ps  \n",
       "10360   120 kW   (163 PS)  \n",
       "50596   150 kW   (204 PS)  \n",
       "63857   147 kW   (200 PS)  \n",
       "93730   147 kW   (200 PS)  \n",
       "101853  110 kW   (150 PS)  \n",
       "...         ...       ...  \n",
       "720450    70 kW   (95 PS)  \n",
       "720451    70 kW   (95 PS)  \n",
       "720460    70 kW   (95 PS)  \n",
       "720529   81 kW   (110 PS)  \n",
       "724834   81 kW   (110 PS)  \n",
       "\n",
       "[1278 rows x 11 columns]"
      ]
     },
     "execution_count": 130,
     "metadata": {},
     "output_type": "execute_result"
    }
   ],
   "source": [
    "cars[cars.km==\"- km\"]"
   ]
  },
  {
   "attachments": {},
   "cell_type": "markdown",
   "metadata": {},
   "source": [
    "* <font color=\"lightgreen\" size=\"4\">Bei der Untersuchung des Standorts haben wir festgestellt,<br> dass diese Fahrzeuge 0 km lang sind, so dass wir diesen Wert auf 0 ändern können.</font>"
   ]
  },
  {
   "cell_type": "code",
   "execution_count": 131,
   "metadata": {},
   "outputs": [
    {
     "data": {
      "text/plain": [
       "km\n",
       "10        4095\n",
       "0         2871\n",
       "0         1278\n",
       "50         741\n",
       "20         578\n",
       "          ... \n",
       "54650        1\n",
       "93782        1\n",
       "100290       1\n",
       "55380        1\n",
       "1779         1\n",
       "Name: count, Length: 43626, dtype: int64"
      ]
     },
     "execution_count": 131,
     "metadata": {},
     "output_type": "execute_result"
    }
   ],
   "source": [
    "# Lassen wir die Zahlen stehen und entfernen wir die restlichen Zeichen aus der Spalte.\n",
    "cars.km = cars.km.apply(lambda x: re.sub(r'\\D', '', x) if \"- km\" not in x else 0)\n",
    "cars.km.value_counts(dropna=0)"
   ]
  },
  {
   "cell_type": "code",
   "execution_count": 132,
   "metadata": {},
   "outputs": [
    {
     "data": {
      "text/plain": [
       "km\n",
       "0    2871\n",
       "Name: count, dtype: int64"
      ]
     },
     "execution_count": 132,
     "metadata": {},
     "output_type": "execute_result"
    }
   ],
   "source": [
    "cars[cars.km== \"0\"].km.value_counts()"
   ]
  },
  {
   "cell_type": "code",
   "execution_count": 133,
   "metadata": {},
   "outputs": [
    {
     "data": {
      "text/plain": [
       "km\n",
       "0         4149\n",
       "10        4095\n",
       "50         741\n",
       "20         578\n",
       "15         552\n",
       "          ... \n",
       "54650        1\n",
       "93782        1\n",
       "100290       1\n",
       "55380        1\n",
       "1779         1\n",
       "Name: count, Length: 43625, dtype: int64"
      ]
     },
     "execution_count": 133,
     "metadata": {},
     "output_type": "execute_result"
    }
   ],
   "source": [
    "# Da es sich bei den bereits in den Daten vorhandenen Nullen um String-Werte handelt, \n",
    "# wurden zwei separate 0-Werte erstellt. Ändern wir nun den Datentyp der Spalte.\n",
    "cars.km = cars.km.astype(\"int\")\n",
    "cars.km.value_counts(dropna=0)"
   ]
  },
  {
   "cell_type": "markdown",
   "metadata": {},
   "source": [
    "### <a class = \"anchor\" id = \"gear\"> Spalte Gearbox </a>\n",
    "\n",
    "[Home](#content)"
   ]
  },
  {
   "cell_type": "code",
   "execution_count": 134,
   "metadata": {},
   "outputs": [
    {
     "data": {
      "text/plain": [
       "gearbox\n",
       "Automatik         81027\n",
       "Schaltgetriebe    42242\n",
       "- Getriebe          149\n",
       "Halbautomatik        19\n",
       "Name: count, dtype: int64"
      ]
     },
     "execution_count": 134,
     "metadata": {},
     "output_type": "execute_result"
    }
   ],
   "source": [
    "cars.gearbox.value_counts(dropna=0)"
   ]
  },
  {
   "cell_type": "code",
   "execution_count": 135,
   "metadata": {},
   "outputs": [
    {
     "data": {
      "text/plain": [
       "gearbox\n",
       "Automatik         81027\n",
       "Schaltgetriebe    42391\n",
       "Halbautomatik        19\n",
       "Name: count, dtype: int64"
      ]
     },
     "execution_count": 135,
     "metadata": {},
     "output_type": "execute_result"
    }
   ],
   "source": [
    "# Wir können auch die Spalte Label beschriften.\n",
    "cars.gearbox = cars.gearbox.replace(\"- Getriebe\", \"Schaltgetriebe\")\n",
    "cars.gearbox.value_counts(dropna=0)"
   ]
  },
  {
   "cell_type": "markdown",
   "metadata": {},
   "source": [
    "### <a class = \"anchor\" id = \"registration\"> Spalte Registration </a>\n",
    "\n",
    "[Home](#content)"
   ]
  },
  {
   "cell_type": "code",
   "execution_count": 136,
   "metadata": {},
   "outputs": [
    {
     "data": {
      "text/plain": [
       "registiration\n",
       "- (Erstzulassung)    7704\n",
       "03/2022              2693\n",
       "02/2022              2678\n",
       "06/2022              2622\n",
       "05/2022              2405\n",
       "                     ... \n",
       "05/2023               312\n",
       "02/2015               301\n",
       "08/2015               296\n",
       "01/2015               277\n",
       "08/2023                 6\n",
       "Name: count, Length: 103, dtype: int64"
      ]
     },
     "execution_count": 136,
     "metadata": {},
     "output_type": "execute_result"
    }
   ],
   "source": [
    "cars.registiration.value_counts(dropna=0)"
   ]
  },
  {
   "cell_type": "code",
   "execution_count": 137,
   "metadata": {},
   "outputs": [
    {
     "name": "stdout",
     "output_type": "stream",
     "text": [
      "reg_month\n",
      "03    13059\n",
      "02    11118\n",
      "01    10617\n",
      "11     9680\n",
      "06     9599\n",
      "04     9590\n",
      "12     9440\n",
      "07     9326\n",
      "10     8750\n",
      "05     8634\n",
      "08     8036\n",
      "09     7884\n",
      "0      7704\n",
      "Name: count, dtype: int64\n",
      "reg_year\n",
      "2022    24450\n",
      "2019    20915\n",
      "2021    19261\n",
      "2020    17680\n",
      "2018    11437\n",
      "0        7704\n",
      "2017     6598\n",
      "2023     5920\n",
      "2016     5132\n",
      "2015     4340\n",
      "Name: count, dtype: int64\n"
     ]
    }
   ],
   "source": [
    "# Trennen Sie die Werte für Jahr und Monat in getrennte Spalten. Dies wird die Verwendung in zukünftigen Modellen effizienter machen.\n",
    "cars['reg_month'] = cars['registiration'].apply(lambda x: x.split('/')[0] if x != \"- (Erstzulassung)\" else 0)\n",
    "cars['reg_year'] = cars['registiration'].apply(lambda x: x.split('/')[1] if x != \"- (Erstzulassung)\" else 0)\n",
    "\n",
    "print(cars['reg_month'].value_counts())\n",
    "print(cars['reg_year'].value_counts())"
   ]
  },
  {
   "cell_type": "markdown",
   "metadata": {},
   "source": [
    "### <a class = \"anchor\" id = \"fuel\"> Spalte Fuel </a>\n",
    "\n",
    "[Home](#content)"
   ]
  },
  {
   "cell_type": "code",
   "execution_count": 138,
   "metadata": {},
   "outputs": [
    {
     "data": {
      "text/plain": [
       "fuel\n",
       "Benzin            66225\n",
       "Diesel            50162\n",
       "Elektro/Benzin     6204\n",
       "Elektro/Diesel      334\n",
       "Erdgas (CNG)        231\n",
       "Elektro             167\n",
       "Sonstige             81\n",
       "Autogas (LPG)        21\n",
       "- Kraftstoff         12\n",
       "Name: count, dtype: int64"
      ]
     },
     "execution_count": 138,
     "metadata": {},
     "output_type": "execute_result"
    }
   ],
   "source": [
    "cars.fuel.value_counts(dropna=0)"
   ]
  },
  {
   "attachments": {},
   "cell_type": "markdown",
   "metadata": {},
   "source": [
    "* <font color=\"lightgreen\" size=\"4\">In dieser Rubrik gibt es einige Unklarheiten. Zum Beispiel werden einige Fahrzeuge<br> als Benziner oder Diesel eingetragen, obwohl sie Hybridfahrzeuge sind. Das ist verständlich, wenn man sich die<br> Titelspalte ansieht. Ähnliche Fehler gibt es auch bei einigen Elektroautos. In Zukunft müssen wir<br> jedoch einen Kategorisierungsprozess durchführen, um diese Spalte sowohl für Visualisierungs-<br> als auch für ML-Anwendungen effizienter nutzen zu können.</font>"
   ]
  },
  {
   "cell_type": "code",
   "execution_count": 139,
   "metadata": {},
   "outputs": [
    {
     "data": {
      "text/html": [
       "<div>\n",
       "<style scoped>\n",
       "    .dataframe tbody tr th:only-of-type {\n",
       "        vertical-align: middle;\n",
       "    }\n",
       "\n",
       "    .dataframe tbody tr th {\n",
       "        vertical-align: top;\n",
       "    }\n",
       "\n",
       "    .dataframe thead th {\n",
       "        text-align: right;\n",
       "    }\n",
       "</style>\n",
       "<table border=\"1\" class=\"dataframe\">\n",
       "  <thead>\n",
       "    <tr style=\"text-align: right;\">\n",
       "      <th></th>\n",
       "      <th>Brand</th>\n",
       "      <th>Model</th>\n",
       "      <th>title</th>\n",
       "      <th>Price</th>\n",
       "      <th>Label</th>\n",
       "      <th>km</th>\n",
       "      <th>gearbox</th>\n",
       "      <th>registiration</th>\n",
       "      <th>fuel</th>\n",
       "      <th>kw</th>\n",
       "      <th>ps</th>\n",
       "      <th>reg_month</th>\n",
       "      <th>reg_year</th>\n",
       "    </tr>\n",
       "  </thead>\n",
       "  <tbody>\n",
       "    <tr>\n",
       "      <th>104979</th>\n",
       "      <td>Volkswagen</td>\n",
       "      <td>golf</td>\n",
       "      <td>Volkswagen Golf VII *ERDGAS/BENZIN* PAN-DACH *...</td>\n",
       "      <td>19980</td>\n",
       "      <td>Sehr guter Preis</td>\n",
       "      <td>56000</td>\n",
       "      <td>Automatik</td>\n",
       "      <td>10/2019</td>\n",
       "      <td>Benzin</td>\n",
       "      <td>96 kW</td>\n",
       "      <td>(131 PS)</td>\n",
       "      <td>10</td>\n",
       "      <td>2019</td>\n",
       "    </tr>\n",
       "    <tr>\n",
       "      <th>110362</th>\n",
       "      <td>Volkswagen</td>\n",
       "      <td>golf</td>\n",
       "      <td>Volkswagen Golf VII *ERDGAS/BENZIN *3x vorhand...</td>\n",
       "      <td>18980</td>\n",
       "      <td>Sehr guter Preis</td>\n",
       "      <td>68000</td>\n",
       "      <td>Automatik</td>\n",
       "      <td>10/2019</td>\n",
       "      <td>Benzin</td>\n",
       "      <td>96 kW</td>\n",
       "      <td>(131 PS)</td>\n",
       "      <td>10</td>\n",
       "      <td>2019</td>\n",
       "    </tr>\n",
       "    <tr>\n",
       "      <th>357564</th>\n",
       "      <td>Audi</td>\n",
       "      <td>a4</td>\n",
       "      <td>Audi A4 g-tron design Avant (8W5)  ERDGAS + Be...</td>\n",
       "      <td>22900</td>\n",
       "      <td>Fairer Preis</td>\n",
       "      <td>110900</td>\n",
       "      <td>Automatik</td>\n",
       "      <td>06/2018</td>\n",
       "      <td>Benzin</td>\n",
       "      <td>125 kW</td>\n",
       "      <td>(170 PS)</td>\n",
       "      <td>06</td>\n",
       "      <td>2018</td>\n",
       "    </tr>\n",
       "    <tr>\n",
       "      <th>375886</th>\n",
       "      <td>Audi</td>\n",
       "      <td>a5</td>\n",
       "      <td>Audi A5 SPORT*S-LINE*G-TRON-ERDGAS*LED*LEDER*TOP</td>\n",
       "      <td>26970</td>\n",
       "      <td>Sehr guter Preis</td>\n",
       "      <td>73220</td>\n",
       "      <td>Automatik</td>\n",
       "      <td>08/2018</td>\n",
       "      <td>Benzin</td>\n",
       "      <td>125 kW</td>\n",
       "      <td>(170 PS)</td>\n",
       "      <td>08</td>\n",
       "      <td>2018</td>\n",
       "    </tr>\n",
       "    <tr>\n",
       "      <th>375887</th>\n",
       "      <td>Audi</td>\n",
       "      <td>a5</td>\n",
       "      <td>Audi A5 SPORT*S-LINE*G-TRON-ERDGAS-CNG*LED*LED...</td>\n",
       "      <td>26970</td>\n",
       "      <td>Sehr guter Preis</td>\n",
       "      <td>73220</td>\n",
       "      <td>Automatik</td>\n",
       "      <td>08/2018</td>\n",
       "      <td>Erdgas (CNG)</td>\n",
       "      <td>125 kW</td>\n",
       "      <td>(170 PS)</td>\n",
       "      <td>08</td>\n",
       "      <td>2018</td>\n",
       "    </tr>\n",
       "    <tr>\n",
       "      <th>718074</th>\n",
       "      <td>Skoda</td>\n",
       "      <td>kamiq</td>\n",
       "      <td>Skoda Kamiq 1.0 CNG G-TEC ERDGAS STYLE LED PAN...</td>\n",
       "      <td>17790</td>\n",
       "      <td>Keine Angabe</td>\n",
       "      <td>46043</td>\n",
       "      <td>Schaltgetriebe</td>\n",
       "      <td>03/2021</td>\n",
       "      <td>Erdgas (CNG)</td>\n",
       "      <td>66 kW</td>\n",
       "      <td>(90 PS)</td>\n",
       "      <td>03</td>\n",
       "      <td>2021</td>\n",
       "    </tr>\n",
       "  </tbody>\n",
       "</table>\n",
       "</div>"
      ],
      "text/plain": [
       "             Brand  Model                                              title   \n",
       "104979  Volkswagen   golf  Volkswagen Golf VII *ERDGAS/BENZIN* PAN-DACH *...  \\\n",
       "110362  Volkswagen   golf  Volkswagen Golf VII *ERDGAS/BENZIN *3x vorhand...   \n",
       "357564        Audi     a4  Audi A4 g-tron design Avant (8W5)  ERDGAS + Be...   \n",
       "375886        Audi     a5   Audi A5 SPORT*S-LINE*G-TRON-ERDGAS*LED*LEDER*TOP   \n",
       "375887        Audi     a5  Audi A5 SPORT*S-LINE*G-TRON-ERDGAS-CNG*LED*LED...   \n",
       "718074       Skoda  kamiq  Skoda Kamiq 1.0 CNG G-TEC ERDGAS STYLE LED PAN...   \n",
       "\n",
       "        Price             Label      km         gearbox registiration   \n",
       "104979  19980  Sehr guter Preis   56000       Automatik       10/2019  \\\n",
       "110362  18980  Sehr guter Preis   68000       Automatik       10/2019   \n",
       "357564  22900      Fairer Preis  110900       Automatik       06/2018   \n",
       "375886  26970  Sehr guter Preis   73220       Automatik       08/2018   \n",
       "375887  26970  Sehr guter Preis   73220       Automatik       08/2018   \n",
       "718074  17790      Keine Angabe   46043  Schaltgetriebe       03/2021   \n",
       "\n",
       "                fuel       kw        ps reg_month reg_year  \n",
       "104979        Benzin   96 kW   (131 PS)        10     2019  \n",
       "110362        Benzin   96 kW   (131 PS)        10     2019  \n",
       "357564        Benzin  125 kW   (170 PS)        06     2018  \n",
       "375886        Benzin  125 kW   (170 PS)        08     2018  \n",
       "375887  Erdgas (CNG)  125 kW   (170 PS)        08     2018  \n",
       "718074  Erdgas (CNG)    66 kW   (90 PS)        03     2021  "
      ]
     },
     "execution_count": 139,
     "metadata": {},
     "output_type": "execute_result"
    }
   ],
   "source": [
    "# Dieses Auto, das eigentlich ein Gasauto ist, hat in einigen Werten in der Kraftstoffspalte \"Sonstige\".\n",
    "# In anderen ist es als \"Benzin\" aufgeführt. Diese Autos sollten eigentlich in die Kategorie der Gasautos fallen.\n",
    "cars[cars.title.str.contains(\"ERDGAS\")]"
   ]
  },
  {
   "cell_type": "code",
   "execution_count": 140,
   "metadata": {},
   "outputs": [
    {
     "data": {
      "text/plain": [
       "fuel\n",
       "Benzin            66221\n",
       "Diesel            50162\n",
       "Elektro/Benzin     6204\n",
       "Elektro/Diesel      334\n",
       "Gas                 256\n",
       "Elektro             167\n",
       "Sonstige             81\n",
       "- Kraftstoff         12\n",
       "Name: count, dtype: int64"
      ]
     },
     "execution_count": 140,
     "metadata": {},
     "output_type": "execute_result"
    }
   ],
   "source": [
    "# Ordnen wir diese Fahrzeuge der Kategorie \"GAS\" innerhalb der Kraftstoffart zu.\n",
    "cars.fuel = cars.apply((lambda row: \"Gas\" if \"ERDGAS\" in row[\"title\"] else row[\"fuel\"]), axis=1)\n",
    "cars.fuel = cars.fuel.replace({\"Erdgas (CNG)\":\"Gas\", \"Autogas (LPG)\":\"Gas\"})\n",
    "cars.fuel.value_counts()"
   ]
  },
  {
   "cell_type": "code",
   "execution_count": 141,
   "metadata": {},
   "outputs": [
    {
     "data": {
      "text/plain": [
       "title\n",
       "Audi Q3 45 TFSIe Sline*Alcantara*Komfortschlüssel*20Zoll*M      3\n",
       "Volkswagen T-Roc T-ROC 1.5 TSI DSG                              3\n",
       "BMW 520 e Touring Aut. M Sport *NEU bei BMW Hofmann*            3\n",
       "Ford Kuga Plug-In Hybrid ST-Line X/Kamera/ACC                   2\n",
       "Audi A1 citycarver 35 TFSI S-tronic SONOS/LED/NAVI+/KAMERA      2\n",
       "                                                               ..\n",
       "Ford Kuga 2.5 Duratec PHEV Plug-In Hybrid TITANIUM X            1\n",
       "Ford Kuga 2.5 Duratec PHEV TITANIUM AHK+NAVI+DAB+iACC+WINTER    1\n",
       "Ford Kuga Plug-In Hybrid Titanium X / ACC / LED                 1\n",
       "Volkswagen Golf VIII 1.4 GTE eHybrid, Kamera, Navi, LED, ACC    1\n",
       "Opel Crossland Elegance 1.2DIT 96kW(130PS)(AT6)                 1\n",
       "Name: count, Length: 72, dtype: int64"
      ]
     },
     "execution_count": 141,
     "metadata": {},
     "output_type": "execute_result"
    }
   ],
   "source": [
    "# Wenn wir die Titelspalte untersuchen, sehen wir, dass einige Autos, die eigentlich Hybrid sind, als Sonstige\" aufgeführt sind.\n",
    "cars[cars.fuel==\"Sonstige\"].title.value_counts()"
   ]
  },
  {
   "cell_type": "code",
   "execution_count": 142,
   "metadata": {},
   "outputs": [
    {
     "data": {
      "text/plain": [
       "fuel\n",
       "Elektro/Benzin    1743\n",
       "Benzin             534\n",
       "Diesel             218\n",
       "Elektro/Diesel      50\n",
       "Sonstige            28\n",
       "Elektro              1\n",
       "- Kraftstoff         1\n",
       "Name: count, dtype: int64"
      ]
     },
     "execution_count": 142,
     "metadata": {},
     "output_type": "execute_result"
    }
   ],
   "source": [
    "cars[cars.title.str.contains(\"Hybrid\")].fuel.value_counts()"
   ]
  },
  {
   "cell_type": "code",
   "execution_count": 143,
   "metadata": {},
   "outputs": [
    {
     "data": {
      "text/plain": [
       "title\n",
       "Ford Kuga Plug-In Hybrid ST-Line X/Kamera/ACC                                  2\n",
       "Volkswagen Golf VIII 1.4 GTE eHybrid, Kamera, Navi, LED, ACC                   1\n",
       "Opel Astra Plug-In-Hybrid GS Line                                              1\n",
       "Opel Grandland X Plug-in-Hybrid4 1.6 DI Start/Stop Aut INNOVATION              1\n",
       "Opel Grandland X Ultimate 1.6 Hybrid4 *AHK*Garantie*8 Reifen*                  1\n",
       "Opel Grandland X Plug-in-Hybrid4 Edition +UMFANGREICHE AUSSTATTUNG+            1\n",
       "Opel Grandland X 1.6 Turbo Hybrid Elegance (EURO 6d)                           1\n",
       "Opel Grandland X Ultimate Plug-in-Hybrid 4                                     1\n",
       "Opel Grandland X Ultimate Plug-in-Hybrid-Leder, LED, Navi,                     1\n",
       "Opel Grandland X 1.6 Turbo Hybrid Ultimate (EURO 6d)                           1\n",
       "Opel Grandland Hybrid GSe 1.6DIT AWD 221kW(300PS)(AT)                          1\n",
       "Opel Grandland Plug-in-Hybrid Ultimate *AUTOMATIK*RFK*SHZ*...                  1\n",
       "Opel Grandland Hybrid Ultimate 1.6 Turbo 225                                   1\n",
       "Opel Astra Plug-In-Hybrid GS Line Navi, 360 Kamera,...                         1\n",
       "Ford Kuga Plug-In Hybrid ST-Line X*Pano*19 Zoll*Head Up*                       1\n",
       "Volkswagen Golf GTE eHybrid/LED Plus/Navi/AHK                                  1\n",
       "Ford Kuga Plug-In Hybrid ST-Line X LED+iACC+STYLING-P+WINTER                   1\n",
       "Ford Kuga Plug-In Hybrid Vignale / HeadUp / B&O                                1\n",
       "Ford Kuga Plug-In Hybrid Vignale/LED/Kamera                                    1\n",
       "Ford Kuga 2.5 Duratec Plug in Hybrid Elektro ST-LINE X                         1\n",
       "Ford Kuga Plug-In Hybrid Titanium X / ACC / LED                                1\n",
       "Ford Kuga 2.5 Duratec PHEV Plug-In Hybrid TITANIUM X                           1\n",
       "BMW 330 330 e Touring Aut. Plug in Hybrid /Advantage                           1\n",
       "Volkswagen Tiguan Life eHybrid (AX1)                                           1\n",
       "Volkswagen Passat Variant Passat Variant 1.4 TSI Plug-In-Hybrid DSG GTE LED    1\n",
       "Volkswagen Golf 1.4 eHybrid OPF DSG Style Navi ACC MatrixLED RFK               1\n",
       "Opel Grandland X Plug-in-Hybrid4, 1.6 DI, Ultimate, -Aktionspreis-             1\n",
       "Name: count, dtype: int64"
      ]
     },
     "execution_count": 143,
     "metadata": {},
     "output_type": "execute_result"
    }
   ],
   "source": [
    "cars[(cars.fuel==\"Sonstige\") & (cars.title.str.contains(\"Hybrid\"))].title.value_counts()"
   ]
  },
  {
   "cell_type": "code",
   "execution_count": 144,
   "metadata": {},
   "outputs": [
    {
     "data": {
      "text/plain": [
       "fuel\n",
       "Benzin          65687\n",
       "Diesel          49944\n",
       "Hybrid           7320\n",
       "Gas               256\n",
       "Elektro           166\n",
       "Sonstige           53\n",
       "- Kraftstoff       11\n",
       "Name: count, dtype: int64"
      ]
     },
     "execution_count": 144,
     "metadata": {},
     "output_type": "execute_result"
    }
   ],
   "source": [
    "# Ändern wir die Kraftstoffarten \"Elektro/Diesel\", \"Elektro/Benzin\" und die Kraftstoffarten der Fahrzeuge, \n",
    "# die wir als Hybrid identifiziert haben, in Hybrid.\n",
    "cars.fuel = cars.apply((lambda row: \"Hybrid\" if \"Hybrid\" in row[\"title\"] else row[\"fuel\"]), axis=1)\n",
    "cars.fuel = cars.fuel.apply(lambda x: \"Hybrid\" if x in [\"Elektro/Diesel\", \"Elektro/Benzin\"] else x)\n",
    "cars.fuel.value_counts()"
   ]
  },
  {
   "cell_type": "code",
   "execution_count": 145,
   "metadata": {},
   "outputs": [
    {
     "data": {
      "text/plain": [
       "title\n",
       "Audi Q3 45 TFSIe Sline*Alcantara*Komfortschlüssel*20Zoll*M       3\n",
       "Volkswagen T-Roc T-ROC 1.5 TSI DSG                               3\n",
       "BMW 520 e Touring Aut. M Sport *NEU bei BMW Hofmann*             3\n",
       "BMW 530 e Touring, Business Package, elektr. AHK, Connecte       2\n",
       "Audi A1 citycarver 35 TFSI S-tronic SONOS/LED/NAVI+/KAMERA       2\n",
       "Volkswagen Golf Golf VII Lim. 1.5 TSI Highline #LED#AHK#ACC#     1\n",
       "Opel Astra Ultimate PHeV 1.6T 132 kW(180 PS)(AT8)                1\n",
       "Ford Kuga 2.5 Duratec PHEV TITANIUM AHK+NAVI+DAB+iACC+WINTER     1\n",
       "Ford Kuga 2.5 Duratec PHEV ST-LINE X; Kamera;Sitzheizung v+h     1\n",
       "Ford Kuga 2.5 Duratec PHEV Titanium CVT+AHK                      1\n",
       "Ford Kuga ST LINE X                                              1\n",
       "Ford Kuga 2.5 Duratec PHEV TITANIUM                              1\n",
       "Ford Kuga Kuga 2.5 Duratec PHEV ST-LINE X                        1\n",
       "Ford Kuga Kuga 2.5 PHEV TITANIUM Plug in Navi Allwetter Sh       1\n",
       "Opel Astra Elegance PHeV 1.6T 133kW(180PS)(AT8)                  1\n",
       "Opel Astra Elegance 1.2Turbo 96kW(130PS)(MT6)                    1\n",
       "Opel Astra Ultimate PHeV 133kW(180PS) 1.6T(AT8)                  1\n",
       "Ford EcoSport 1.0 EcoBoost ST-LINE                               1\n",
       "Opel Corsa 3T 1,4 Edition*CarPlay,SHZ,PDC*                       1\n",
       "Opel Insignia ST Ultimate 2.0D 147kW(200PS)(AT9)                 1\n",
       "Opel Mokka , ULTIMATE 1.2 Direct Injection Turbo, 96kW ( Ulti    1\n",
       "Opel Mokka Ultimate 1.2DIT 96kW(130PS)(AT8)                      1\n",
       "Opel Grandland Grandland GSE 4x4, Wireless Charging,             1\n",
       "Opel Grandland X ELEGANCE PHEV AWD +BI-COLOR+LED-MATRIX          1\n",
       "Ford Focus 1,0 EcoBoost 92kW Cool & Conn. Tur. Auto              1\n",
       "Audi Q3 45 TFSIe Sportback S tronic line                         1\n",
       "Audi Q3 45 TFSIe Sportback S tronic  (AHK, ACC, 5J. ...)         1\n",
       "Audi A3 Sportback Attraction/Automatik/CNG/Benzin                1\n",
       "Volkswagen Golf 1.2 TSI 63kW BMT CUP NAVI                        1\n",
       "Volkswagen Polo 1.0 TGI \"Highline\"                               1\n",
       "BMW 330 e M Sport Plug in 19 Zoll AHK H/K HuD Laser DAB          1\n",
       "BMW 330 330e Touring xDrive*M-Paket*Laser*PaDa*Top               1\n",
       "BMW 530 530e xDrive Touring Aut. M Sportpaket                    1\n",
       "Audi A3 sportback, e-tron, sport, AHK, Kamera                    1\n",
       "Audi A3 A3 45 TFSIe Sportback S tronic S line                    1\n",
       "Audi A3 45 Tfsi e S-line B&O LED-Matrix ACC Anhängerkup          1\n",
       "Volkswagen Golf 1.5 TSI ACT OPF BlueM. Highline Variant          1\n",
       "Audi A3 A3 40 TFSIe Sportback S tronic S line                    1\n",
       "Audi A4 Avant 40 g-tron 2.0/Prof Navi/Kamera/Garantie            1\n",
       "Audi A6 Avant 55 TFSIe quattro - Vollausstattung                 1\n",
       "Audi A7 Sportback 45 TFSI NAVI,SHZ,LED UPE 64.330,-              1\n",
       "Audi A8 60 e quattro *Laser*HUD*STHZG*Voll*                      1\n",
       "Audi Q5 55 TFSI e quattro S line Matrix Navi B&O ACC             1\n",
       "Audi Q3 45 TFSIe Sportback S tronic                              1\n",
       "Opel Crossland Elegance 1.2DIT 96kW(130PS)(AT6)                  1\n",
       "Name: count, dtype: int64"
      ]
     },
     "execution_count": 145,
     "metadata": {},
     "output_type": "execute_result"
    }
   ],
   "source": [
    "# Versuchen wir, ein weiteres Muster zu erkennen und die Daten in der Spalte ein wenig zu korrigieren.\n",
    "cars[cars.fuel==\"Sonstige\"].title.value_counts()"
   ]
  },
  {
   "attachments": {},
   "cell_type": "markdown",
   "metadata": {},
   "source": [
    "* <font color=\"lightgreen\" size=\"4\">Der Ausdruck \"e\" erregt hier unsere Aufmerksamkeit. Im Internet haben wir festgestellt, dass BMW 530e, 330e usw. Hybridfahrzeuge sind. Daher können wir diesen Ausdruck verwenden und die Kraftstoffarten dieser Fahrzeuge als Hybrid bezeichnen.</font>"
   ]
  },
  {
   "cell_type": "code",
   "execution_count": 146,
   "metadata": {},
   "outputs": [
    {
     "data": {
      "text/plain": [
       "Model\n",
       "q5      294\n",
       "a3      146\n",
       "a6      138\n",
       "q3       84\n",
       "a7       66\n",
       "a8       55\n",
       "q7       40\n",
       "x5       14\n",
       "x3        8\n",
       "x1        6\n",
       "golf      3\n",
       "330       3\n",
       "530       2\n",
       "x2        2\n",
       "520       1\n",
       "Name: count, dtype: int64"
      ]
     },
     "execution_count": 146,
     "metadata": {},
     "output_type": "execute_result"
    }
   ],
   "source": [
    "cars[cars.title.str.contains(\" e \") & (cars.fuel==\"Hybrid\")].Model.value_counts()"
   ]
  },
  {
   "cell_type": "code",
   "execution_count": 147,
   "metadata": {},
   "outputs": [
    {
     "data": {
      "text/plain": [
       "Model\n",
       "a3    1\n",
       "a8    1\n",
       "q5    1\n",
       "Name: count, dtype: int64"
      ]
     },
     "execution_count": 147,
     "metadata": {},
     "output_type": "execute_result"
    }
   ],
   "source": [
    "cars[cars.title.str.contains(\" e \") & (cars.fuel==\"Sonstige\")].Model.value_counts()"
   ]
  },
  {
   "cell_type": "code",
   "execution_count": 148,
   "metadata": {},
   "outputs": [
    {
     "data": {
      "text/plain": [
       "fuel\n",
       "Benzin          65687\n",
       "Diesel          49944\n",
       "Hybrid           7323\n",
       "Gas               256\n",
       "Elektro           166\n",
       "Sonstige           50\n",
       "- Kraftstoff       11\n",
       "Name: count, dtype: int64"
      ]
     },
     "execution_count": 148,
     "metadata": {},
     "output_type": "execute_result"
    }
   ],
   "source": [
    "cars.loc[(cars[\"title\"].str.contains(\" e \")) & (cars[\"fuel\"] == \"Sonstige\"), \"fuel\"] = \"Hybrid\" # loc fonksiyonu içinde sağlanan hücreleri Hybride çeviriyor.\n",
    "cars.fuel.value_counts(dropna=0)"
   ]
  },
  {
   "cell_type": "code",
   "execution_count": 149,
   "metadata": {},
   "outputs": [
    {
     "data": {
      "text/plain": [
       "title\n",
       "Volkswagen T-Roc T-ROC 1.5 TSI DSG                               3\n",
       "Audi Q3 45 TFSIe Sline*Alcantara*Komfortschlüssel*20Zoll*M       3\n",
       "BMW 520 e Touring Aut. M Sport *NEU bei BMW Hofmann*             3\n",
       "BMW 530 e Touring, Business Package, elektr. AHK, Connecte       2\n",
       "Audi A1 citycarver 35 TFSI S-tronic SONOS/LED/NAVI+/KAMERA       2\n",
       "Volkswagen Golf Golf VII Lim. 1.5 TSI Highline #LED#AHK#ACC#     1\n",
       "Opel Astra Elegance 1.2Turbo 96kW(130PS)(MT6)                    1\n",
       "Ford Kuga 2.5 Duratec PHEV Titanium CVT+AHK                      1\n",
       "Ford Kuga ST LINE X                                              1\n",
       "Ford Kuga 2.5 Duratec PHEV TITANIUM                              1\n",
       "Ford Kuga Kuga 2.5 Duratec PHEV ST-LINE X                        1\n",
       "Ford Kuga Kuga 2.5 PHEV TITANIUM Plug in Navi Allwetter Sh       1\n",
       "Opel Astra Ultimate PHeV 1.6T 132 kW(180 PS)(AT8)                1\n",
       "Opel Corsa 3T 1,4 Edition*CarPlay,SHZ,PDC*                       1\n",
       "Opel Astra Ultimate PHeV 133kW(180PS) 1.6T(AT8)                  1\n",
       "Opel Astra Elegance PHeV 1.6T 133kW(180PS)(AT8)                  1\n",
       "Ford Kuga 2.5 Duratec PHEV TITANIUM AHK+NAVI+DAB+iACC+WINTER     1\n",
       "Opel Insignia ST Ultimate 2.0D 147kW(200PS)(AT9)                 1\n",
       "Opel Mokka , ULTIMATE 1.2 Direct Injection Turbo, 96kW ( Ulti    1\n",
       "Opel Mokka Ultimate 1.2DIT 96kW(130PS)(AT8)                      1\n",
       "Opel Grandland Grandland GSE 4x4, Wireless Charging,             1\n",
       "Opel Grandland X ELEGANCE PHEV AWD +BI-COLOR+LED-MATRIX          1\n",
       "Ford Kuga 2.5 Duratec PHEV ST-LINE X; Kamera;Sitzheizung v+h     1\n",
       "Audi Q3 45 TFSIe Sportback S tronic  (AHK, ACC, 5J. ...)         1\n",
       "Ford Focus 1,0 EcoBoost 92kW Cool & Conn. Tur. Auto              1\n",
       "Ford EcoSport 1.0 EcoBoost ST-LINE                               1\n",
       "Volkswagen Golf 1.2 TSI 63kW BMT CUP NAVI                        1\n",
       "Volkswagen Polo 1.0 TGI \"Highline\"                               1\n",
       "BMW 330 e M Sport Plug in 19 Zoll AHK H/K HuD Laser DAB          1\n",
       "BMW 330 330e Touring xDrive*M-Paket*Laser*PaDa*Top               1\n",
       "BMW 530 530e xDrive Touring Aut. M Sportpaket                    1\n",
       "Audi A3 sportback, e-tron, sport, AHK, Kamera                    1\n",
       "Audi A3 A3 45 TFSIe Sportback S tronic S line                    1\n",
       "Audi A3 Sportback Attraction/Automatik/CNG/Benzin                1\n",
       "Audi A3 A3 40 TFSIe Sportback S tronic S line                    1\n",
       "Audi A4 Avant 40 g-tron 2.0/Prof Navi/Kamera/Garantie            1\n",
       "Audi A6 Avant 55 TFSIe quattro - Vollausstattung                 1\n",
       "Audi A7 Sportback 45 TFSI NAVI,SHZ,LED UPE 64.330,-              1\n",
       "Audi Q3 45 TFSIe Sportback S tronic                              1\n",
       "Audi Q3 45 TFSIe Sportback S tronic line                         1\n",
       "Volkswagen Golf 1.5 TSI ACT OPF BlueM. Highline Variant          1\n",
       "Opel Crossland Elegance 1.2DIT 96kW(130PS)(AT6)                  1\n",
       "Name: count, dtype: int64"
      ]
     },
     "execution_count": 149,
     "metadata": {},
     "output_type": "execute_result"
    }
   ],
   "source": [
    "cars[cars.fuel==\"Sonstige\"].title.value_counts()"
   ]
  },
  {
   "cell_type": "code",
   "execution_count": 150,
   "metadata": {},
   "outputs": [
    {
     "data": {
      "text/plain": [
       "fuel\n",
       "Benzin          65686\n",
       "Diesel          49944\n",
       "Hybrid           7326\n",
       "Gas               256\n",
       "Elektro           166\n",
       "Sonstige           48\n",
       "- Kraftstoff       11\n",
       "Name: count, dtype: int64"
      ]
     },
     "execution_count": 150,
     "metadata": {},
     "output_type": "execute_result"
    }
   ],
   "source": [
    "pattern = r\"\\b(330[ ]?e|530[ ]?e|520[ ]?e)\\b\"\n",
    "cars.loc[cars[\"title\"].str.contains(pattern, flags=re.IGNORECASE), \"fuel\"] = \"Hybrid\"\n",
    "# flags=re.IGNORECASE\" schaltet die Unterscheidung zwischen Groß- und Kleinschreibung aus.\n",
    "cars.fuel.value_counts()\n"
   ]
  },
  {
   "cell_type": "code",
   "execution_count": 151,
   "metadata": {},
   "outputs": [
    {
     "data": {
      "text/plain": [
       "title\n",
       "Volkswagen T-Roc T-ROC 1.5 TSI DSG                               3\n",
       "Audi Q3 45 TFSIe Sline*Alcantara*Komfortschlüssel*20Zoll*M       3\n",
       "BMW 520 e Touring Aut. M Sport *NEU bei BMW Hofmann*             3\n",
       "BMW 530 e Touring, Business Package, elektr. AHK, Connecte       2\n",
       "Audi A1 citycarver 35 TFSI S-tronic SONOS/LED/NAVI+/KAMERA       2\n",
       "Volkswagen Golf Golf VII Lim. 1.5 TSI Highline #LED#AHK#ACC#     1\n",
       "Opel Astra Ultimate PHeV 133kW(180PS) 1.6T(AT8)                  1\n",
       "Ford Kuga ST LINE X                                              1\n",
       "Ford Kuga 2.5 Duratec PHEV TITANIUM                              1\n",
       "Ford Kuga Kuga 2.5 Duratec PHEV ST-LINE X                        1\n",
       "Ford Kuga Kuga 2.5 PHEV TITANIUM Plug in Navi Allwetter Sh       1\n",
       "Opel Astra Ultimate PHeV 1.6T 132 kW(180 PS)(AT8)                1\n",
       "Opel Astra Elegance 1.2Turbo 96kW(130PS)(MT6)                    1\n",
       "Opel Corsa 3T 1,4 Edition*CarPlay,SHZ,PDC*                       1\n",
       "Opel Astra Elegance PHeV 1.6T 133kW(180PS)(AT8)                  1\n",
       "Ford Kuga 2.5 Duratec PHEV ST-LINE X; Kamera;Sitzheizung v+h     1\n",
       "Opel Insignia ST Ultimate 2.0D 147kW(200PS)(AT9)                 1\n",
       "Opel Mokka , ULTIMATE 1.2 Direct Injection Turbo, 96kW ( Ulti    1\n",
       "Opel Mokka Ultimate 1.2DIT 96kW(130PS)(AT8)                      1\n",
       "Opel Grandland Grandland GSE 4x4, Wireless Charging,             1\n",
       "Opel Grandland X ELEGANCE PHEV AWD +BI-COLOR+LED-MATRIX          1\n",
       "Ford Kuga 2.5 Duratec PHEV Titanium CVT+AHK                      1\n",
       "Ford EcoSport 1.0 EcoBoost ST-LINE                               1\n",
       "Ford Kuga 2.5 Duratec PHEV TITANIUM AHK+NAVI+DAB+iACC+WINTER     1\n",
       "Audi A3 A3 40 TFSIe Sportback S tronic S line                    1\n",
       "Volkswagen Golf 1.2 TSI 63kW BMT CUP NAVI                        1\n",
       "Volkswagen Polo 1.0 TGI \"Highline\"                               1\n",
       "BMW 330 e M Sport Plug in 19 Zoll AHK H/K HuD Laser DAB          1\n",
       "Audi A3 sportback, e-tron, sport, AHK, Kamera                    1\n",
       "Audi A3 A3 45 TFSIe Sportback S tronic S line                    1\n",
       "Audi A3 Sportback Attraction/Automatik/CNG/Benzin                1\n",
       "Audi A4 Avant 40 g-tron 2.0/Prof Navi/Kamera/Garantie            1\n",
       "Ford Focus 1,0 EcoBoost 92kW Cool & Conn. Tur. Auto              1\n",
       "Audi A6 Avant 55 TFSIe quattro - Vollausstattung                 1\n",
       "Audi A7 Sportback 45 TFSI NAVI,SHZ,LED UPE 64.330,-              1\n",
       "Audi Q3 45 TFSIe Sportback S tronic                              1\n",
       "Audi Q3 45 TFSIe Sportback S tronic line                         1\n",
       "Audi Q3 45 TFSIe Sportback S tronic  (AHK, ACC, 5J. ...)         1\n",
       "Volkswagen Golf 1.5 TSI ACT OPF BlueM. Highline Variant          1\n",
       "Opel Crossland Elegance 1.2DIT 96kW(130PS)(AT6)                  1\n",
       "Name: count, dtype: int64"
      ]
     },
     "execution_count": 151,
     "metadata": {},
     "output_type": "execute_result"
    }
   ],
   "source": [
    "cars[cars.fuel==\"Sonstige\"].title.value_counts()"
   ]
  },
  {
   "attachments": {},
   "cell_type": "markdown",
   "metadata": {},
   "source": [
    "* <font color=\"lightgreen\" size=\"4\">Als wir diese Fahrzeuge untersuchten, konnten wir keine besonderen Merkmale feststellen,<br> so dass diese Fahrzeuge alle Benzin, Elektro, Hybrid oder Diesel sein können. Aus diesem Grund haben wir diese Werte nanisiert.<br> Wir werden Werte wie Modell, ab, etc. als Basis nehmen und diese Spalte auf diese Weise füllen.<br> Da die Zeilen mit dem Ausdruck Kraftstoff in der gleichen Situation sind, werden wir den gleichen Prozess auf diese Zeilen anwenden.</font>"
   ]
  },
  {
   "cell_type": "code",
   "execution_count": 152,
   "metadata": {},
   "outputs": [
    {
     "data": {
      "text/plain": [
       "fuel\n",
       "Benzin     65686\n",
       "Diesel     49944\n",
       "Hybrid      7326\n",
       "Gas          256\n",
       "Elektro      166\n",
       "NaN           59\n",
       "Name: count, dtype: int64"
      ]
     },
     "execution_count": 152,
     "metadata": {},
     "output_type": "execute_result"
    }
   ],
   "source": [
    "cars.fuel = cars.fuel.replace({\"Sonstige\": np.nan, \"- Kraftstoff\": np.nan})\n",
    "cars.fuel.value_counts(dropna=0)"
   ]
  },
  {
   "cell_type": "markdown",
   "metadata": {},
   "source": [
    "### <a class = \"anchor\" id = \"kw\"> Spalte KW </a>\n",
    "\n",
    "[Home](#content)"
   ]
  },
  {
   "cell_type": "code",
   "execution_count": 153,
   "metadata": {},
   "outputs": [
    {
     "data": {
      "text/plain": [
       "kw\n",
       "110 kW     25772\n",
       "140 kW     11133\n",
       "96 kW       6871\n",
       "81 kW       6295\n",
       "92 kW       4190\n",
       "           ...  \n",
       "295 kW         1\n",
       "211 kW         1\n",
       "274 kW         1\n",
       "278 kW         1\n",
       "89 kW          1\n",
       "Name: count, Length: 171, dtype: int64"
      ]
     },
     "execution_count": 153,
     "metadata": {},
     "output_type": "execute_result"
    }
   ],
   "source": [
    "cars.kw.value_counts(dropna=0)"
   ]
  },
  {
   "cell_type": "code",
   "execution_count": 154,
   "metadata": {},
   "outputs": [
    {
     "data": {
      "text/plain": [
       "kw\n",
       "110    25772\n",
       "140    11133\n",
       "96      6871\n",
       "81      6295\n",
       "92      4190\n",
       "       ...  \n",
       "295        1\n",
       "211        1\n",
       "274        1\n",
       "278        1\n",
       "89         1\n",
       "Name: count, Length: 171, dtype: int64"
      ]
     },
     "execution_count": 154,
     "metadata": {},
     "output_type": "execute_result"
    }
   ],
   "source": [
    "cars.kw = cars.kw.apply(lambda x: re.sub(r'\\D', '', x))\n",
    "cars.kw.value_counts(dropna=0)"
   ]
  },
  {
   "cell_type": "code",
   "execution_count": 155,
   "metadata": {},
   "outputs": [
    {
     "data": {
      "text/html": [
       "<div>\n",
       "<style scoped>\n",
       "    .dataframe tbody tr th:only-of-type {\n",
       "        vertical-align: middle;\n",
       "    }\n",
       "\n",
       "    .dataframe tbody tr th {\n",
       "        vertical-align: top;\n",
       "    }\n",
       "\n",
       "    .dataframe thead th {\n",
       "        text-align: right;\n",
       "    }\n",
       "</style>\n",
       "<table border=\"1\" class=\"dataframe\">\n",
       "  <thead>\n",
       "    <tr style=\"text-align: right;\">\n",
       "      <th></th>\n",
       "      <th>Brand</th>\n",
       "      <th>Model</th>\n",
       "      <th>title</th>\n",
       "      <th>Price</th>\n",
       "      <th>Label</th>\n",
       "      <th>km</th>\n",
       "      <th>gearbox</th>\n",
       "      <th>registiration</th>\n",
       "      <th>fuel</th>\n",
       "      <th>kw</th>\n",
       "      <th>ps</th>\n",
       "      <th>reg_month</th>\n",
       "      <th>reg_year</th>\n",
       "    </tr>\n",
       "  </thead>\n",
       "  <tbody>\n",
       "    <tr>\n",
       "      <th>90361</th>\n",
       "      <td>Mercedes-Benz</td>\n",
       "      <td>e 220</td>\n",
       "      <td>Mercedes-Benz E 220 d Kombi AMG Line*Widescree...</td>\n",
       "      <td>49900</td>\n",
       "      <td>Keine Angabe</td>\n",
       "      <td>17900</td>\n",
       "      <td>Automatik</td>\n",
       "      <td>06/2022</td>\n",
       "      <td>Diesel</td>\n",
       "      <td></td>\n",
       "      <td>W (- PS)</td>\n",
       "      <td>06</td>\n",
       "      <td>2022</td>\n",
       "    </tr>\n",
       "    <tr>\n",
       "      <th>103641</th>\n",
       "      <td>Volkswagen</td>\n",
       "      <td>golf</td>\n",
       "      <td>Volkswagen Golf GTD 2.0TDI+DSG+ACC+\"Black St\"+...</td>\n",
       "      <td>39911</td>\n",
       "      <td>Keine Angabe</td>\n",
       "      <td>9810</td>\n",
       "      <td>Automatik</td>\n",
       "      <td>04/2022</td>\n",
       "      <td>Diesel</td>\n",
       "      <td></td>\n",
       "      <td>W (- PS)</td>\n",
       "      <td>04</td>\n",
       "      <td>2022</td>\n",
       "    </tr>\n",
       "    <tr>\n",
       "      <th>118384</th>\n",
       "      <td>Volkswagen</td>\n",
       "      <td>golf gti</td>\n",
       "      <td>Volkswagen Golf GTI 8 2.0 TSI DSG ALU 18 H+K NAVI</td>\n",
       "      <td>39950</td>\n",
       "      <td>Keine Angabe</td>\n",
       "      <td>100</td>\n",
       "      <td>Automatik</td>\n",
       "      <td>- (Erstzulassung)</td>\n",
       "      <td>Benzin</td>\n",
       "      <td></td>\n",
       "      <td>W (- PS)</td>\n",
       "      <td>0</td>\n",
       "      <td>0</td>\n",
       "    </tr>\n",
       "    <tr>\n",
       "      <th>118403</th>\n",
       "      <td>Volkswagen</td>\n",
       "      <td>golf gti</td>\n",
       "      <td>Volkswagen Golf GTI 8 2.0 TSI DSG ALU 18 H+K NAVI</td>\n",
       "      <td>39950</td>\n",
       "      <td>Keine Angabe</td>\n",
       "      <td>1200</td>\n",
       "      <td>Automatik</td>\n",
       "      <td>01/2023</td>\n",
       "      <td>Benzin</td>\n",
       "      <td></td>\n",
       "      <td>W (- PS)</td>\n",
       "      <td>01</td>\n",
       "      <td>2023</td>\n",
       "    </tr>\n",
       "    <tr>\n",
       "      <th>150288</th>\n",
       "      <td>Volkswagen</td>\n",
       "      <td>passat variant</td>\n",
       "      <td>Volkswagen Passat Variant 2.0 TSI DSG BUSINESS...</td>\n",
       "      <td>28170</td>\n",
       "      <td>Keine Angabe</td>\n",
       "      <td>59417</td>\n",
       "      <td>Automatik</td>\n",
       "      <td>11/2019</td>\n",
       "      <td>Benzin</td>\n",
       "      <td></td>\n",
       "      <td>W (- PS)</td>\n",
       "      <td>11</td>\n",
       "      <td>2019</td>\n",
       "    </tr>\n",
       "    <tr>\n",
       "      <th>167757</th>\n",
       "      <td>Volkswagen</td>\n",
       "      <td>tiguan</td>\n",
       "      <td>Volkswagen Tiguan R-Line 2.0 TSI OPF DSG 4MOTI...</td>\n",
       "      <td>59095</td>\n",
       "      <td>Keine Angabe</td>\n",
       "      <td>0</td>\n",
       "      <td>Automatik</td>\n",
       "      <td>- (Erstzulassung)</td>\n",
       "      <td>Benzin</td>\n",
       "      <td></td>\n",
       "      <td>W (- PS)</td>\n",
       "      <td>0</td>\n",
       "      <td>0</td>\n",
       "    </tr>\n",
       "    <tr>\n",
       "      <th>199628</th>\n",
       "      <td>Volkswagen</td>\n",
       "      <td>polo</td>\n",
       "      <td>Volkswagen Polo Style 1,0 l TSI</td>\n",
       "      <td>26090</td>\n",
       "      <td>Keine Angabe</td>\n",
       "      <td>0</td>\n",
       "      <td>Schaltgetriebe</td>\n",
       "      <td>- (Erstzulassung)</td>\n",
       "      <td>Benzin</td>\n",
       "      <td></td>\n",
       "      <td>W (- PS)</td>\n",
       "      <td>0</td>\n",
       "      <td>0</td>\n",
       "    </tr>\n",
       "    <tr>\n",
       "      <th>220331</th>\n",
       "      <td>BMW</td>\n",
       "      <td>118</td>\n",
       "      <td>BMW 118 i</td>\n",
       "      <td>42375</td>\n",
       "      <td>Keine Angabe</td>\n",
       "      <td>0</td>\n",
       "      <td>Schaltgetriebe</td>\n",
       "      <td>- (Erstzulassung)</td>\n",
       "      <td>Benzin</td>\n",
       "      <td></td>\n",
       "      <td>W (- PS)</td>\n",
       "      <td>0</td>\n",
       "      <td>0</td>\n",
       "    </tr>\n",
       "    <tr>\n",
       "      <th>220599</th>\n",
       "      <td>BMW</td>\n",
       "      <td>118</td>\n",
       "      <td>BMW 118 i</td>\n",
       "      <td>41505</td>\n",
       "      <td>Keine Angabe</td>\n",
       "      <td>0</td>\n",
       "      <td>Schaltgetriebe</td>\n",
       "      <td>- (Erstzulassung)</td>\n",
       "      <td>Benzin</td>\n",
       "      <td></td>\n",
       "      <td>W (- PS)</td>\n",
       "      <td>0</td>\n",
       "      <td>0</td>\n",
       "    </tr>\n",
       "    <tr>\n",
       "      <th>220601</th>\n",
       "      <td>BMW</td>\n",
       "      <td>118</td>\n",
       "      <td>BMW 118 i</td>\n",
       "      <td>44475</td>\n",
       "      <td>Keine Angabe</td>\n",
       "      <td>0</td>\n",
       "      <td>Automatik</td>\n",
       "      <td>- (Erstzulassung)</td>\n",
       "      <td>Benzin</td>\n",
       "      <td></td>\n",
       "      <td>W (- PS)</td>\n",
       "      <td>0</td>\n",
       "      <td>0</td>\n",
       "    </tr>\n",
       "    <tr>\n",
       "      <th>220602</th>\n",
       "      <td>BMW</td>\n",
       "      <td>118</td>\n",
       "      <td>BMW 118 i</td>\n",
       "      <td>45865</td>\n",
       "      <td>Keine Angabe</td>\n",
       "      <td>0</td>\n",
       "      <td>Automatik</td>\n",
       "      <td>- (Erstzulassung)</td>\n",
       "      <td>Benzin</td>\n",
       "      <td></td>\n",
       "      <td>W (- PS)</td>\n",
       "      <td>0</td>\n",
       "      <td>0</td>\n",
       "    </tr>\n",
       "    <tr>\n",
       "      <th>222144</th>\n",
       "      <td>BMW</td>\n",
       "      <td>118</td>\n",
       "      <td>BMW 118 118i 8-Fach Klimaauto Parksensoren 1.5...</td>\n",
       "      <td>15880</td>\n",
       "      <td>Keine Angabe</td>\n",
       "      <td>67529</td>\n",
       "      <td>Schaltgetriebe</td>\n",
       "      <td>01/2018</td>\n",
       "      <td>Benzin</td>\n",
       "      <td></td>\n",
       "      <td>W (- PS)</td>\n",
       "      <td>01</td>\n",
       "      <td>2018</td>\n",
       "    </tr>\n",
       "    <tr>\n",
       "      <th>232280</th>\n",
       "      <td>BMW</td>\n",
       "      <td>218</td>\n",
       "      <td>BMW 218 d A Gran Coupe</td>\n",
       "      <td>44490</td>\n",
       "      <td>Keine Angabe</td>\n",
       "      <td>0</td>\n",
       "      <td>Automatik</td>\n",
       "      <td>- (Erstzulassung)</td>\n",
       "      <td>Diesel</td>\n",
       "      <td></td>\n",
       "      <td>W (- PS)</td>\n",
       "      <td>0</td>\n",
       "      <td>0</td>\n",
       "    </tr>\n",
       "    <tr>\n",
       "      <th>255781</th>\n",
       "      <td>BMW</td>\n",
       "      <td>330</td>\n",
       "      <td>BMW 330 d A xDrive Touring</td>\n",
       "      <td>78390</td>\n",
       "      <td>Keine Angabe</td>\n",
       "      <td>0</td>\n",
       "      <td>Automatik</td>\n",
       "      <td>- (Erstzulassung)</td>\n",
       "      <td>Diesel</td>\n",
       "      <td></td>\n",
       "      <td>W (- PS)</td>\n",
       "      <td>0</td>\n",
       "      <td>0</td>\n",
       "    </tr>\n",
       "    <tr>\n",
       "      <th>255798</th>\n",
       "      <td>BMW</td>\n",
       "      <td>330</td>\n",
       "      <td>BMW 330 d A xDrive Touring</td>\n",
       "      <td>87079</td>\n",
       "      <td>Keine Angabe</td>\n",
       "      <td>0</td>\n",
       "      <td>Automatik</td>\n",
       "      <td>- (Erstzulassung)</td>\n",
       "      <td>Diesel</td>\n",
       "      <td></td>\n",
       "      <td>W (- PS)</td>\n",
       "      <td>0</td>\n",
       "      <td>0</td>\n",
       "    </tr>\n",
       "    <tr>\n",
       "      <th>256464</th>\n",
       "      <td>BMW</td>\n",
       "      <td>330</td>\n",
       "      <td>BMW 330 d A xDrive Touring</td>\n",
       "      <td>81495</td>\n",
       "      <td>Keine Angabe</td>\n",
       "      <td>0</td>\n",
       "      <td>Automatik</td>\n",
       "      <td>- (Erstzulassung)</td>\n",
       "      <td>Diesel</td>\n",
       "      <td></td>\n",
       "      <td>W (- PS)</td>\n",
       "      <td>0</td>\n",
       "      <td>0</td>\n",
       "    </tr>\n",
       "    <tr>\n",
       "      <th>262775</th>\n",
       "      <td>BMW</td>\n",
       "      <td>420</td>\n",
       "      <td>BMW 420 420d A Gran Coupé</td>\n",
       "      <td>77599</td>\n",
       "      <td>Keine Angabe</td>\n",
       "      <td>0</td>\n",
       "      <td>Automatik</td>\n",
       "      <td>- (Erstzulassung)</td>\n",
       "      <td>Benzin</td>\n",
       "      <td></td>\n",
       "      <td>W (- PS)</td>\n",
       "      <td>0</td>\n",
       "      <td>0</td>\n",
       "    </tr>\n",
       "    <tr>\n",
       "      <th>262776</th>\n",
       "      <td>BMW</td>\n",
       "      <td>420</td>\n",
       "      <td>BMW 420 i A Cabrio</td>\n",
       "      <td>77969</td>\n",
       "      <td>Keine Angabe</td>\n",
       "      <td>0</td>\n",
       "      <td>Automatik</td>\n",
       "      <td>- (Erstzulassung)</td>\n",
       "      <td>Benzin</td>\n",
       "      <td></td>\n",
       "      <td>W (- PS)</td>\n",
       "      <td>0</td>\n",
       "      <td>0</td>\n",
       "    </tr>\n",
       "    <tr>\n",
       "      <th>263213</th>\n",
       "      <td>BMW</td>\n",
       "      <td>420</td>\n",
       "      <td>BMW 420 420d A Gran Coupé</td>\n",
       "      <td>57990</td>\n",
       "      <td>Keine Angabe</td>\n",
       "      <td>1000</td>\n",
       "      <td>Automatik</td>\n",
       "      <td>05/2023</td>\n",
       "      <td>Diesel</td>\n",
       "      <td></td>\n",
       "      <td>W (- PS)</td>\n",
       "      <td>05</td>\n",
       "      <td>2023</td>\n",
       "    </tr>\n",
       "    <tr>\n",
       "      <th>264060</th>\n",
       "      <td>BMW</td>\n",
       "      <td>420</td>\n",
       "      <td>BMW 420 420i A Gran Coupé</td>\n",
       "      <td>62409</td>\n",
       "      <td>Keine Angabe</td>\n",
       "      <td>0</td>\n",
       "      <td>Automatik</td>\n",
       "      <td>- (Erstzulassung)</td>\n",
       "      <td>Benzin</td>\n",
       "      <td></td>\n",
       "      <td>W (- PS)</td>\n",
       "      <td>0</td>\n",
       "      <td>0</td>\n",
       "    </tr>\n",
       "    <tr>\n",
       "      <th>264420</th>\n",
       "      <td>BMW</td>\n",
       "      <td>420</td>\n",
       "      <td>BMW 420 i A Cabrio</td>\n",
       "      <td>67995</td>\n",
       "      <td>Keine Angabe</td>\n",
       "      <td>0</td>\n",
       "      <td>Automatik</td>\n",
       "      <td>- (Erstzulassung)</td>\n",
       "      <td>Benzin</td>\n",
       "      <td></td>\n",
       "      <td>W (- PS)</td>\n",
       "      <td>0</td>\n",
       "      <td>0</td>\n",
       "    </tr>\n",
       "    <tr>\n",
       "      <th>264436</th>\n",
       "      <td>BMW</td>\n",
       "      <td>420</td>\n",
       "      <td>BMW 420 420d A xDrive Gran Coupé</td>\n",
       "      <td>54990</td>\n",
       "      <td>Keine Angabe</td>\n",
       "      <td>2694</td>\n",
       "      <td>Automatik</td>\n",
       "      <td>03/2023</td>\n",
       "      <td>Diesel</td>\n",
       "      <td></td>\n",
       "      <td>W (- PS)</td>\n",
       "      <td>03</td>\n",
       "      <td>2023</td>\n",
       "    </tr>\n",
       "    <tr>\n",
       "      <th>264440</th>\n",
       "      <td>BMW</td>\n",
       "      <td>420</td>\n",
       "      <td>BMW 420 420d A xDrive Gran Coupé</td>\n",
       "      <td>64990</td>\n",
       "      <td>Keine Angabe</td>\n",
       "      <td>0</td>\n",
       "      <td>Automatik</td>\n",
       "      <td>- (Erstzulassung)</td>\n",
       "      <td>Diesel</td>\n",
       "      <td></td>\n",
       "      <td>W (- PS)</td>\n",
       "      <td>0</td>\n",
       "      <td>0</td>\n",
       "    </tr>\n",
       "    <tr>\n",
       "      <th>264647</th>\n",
       "      <td>BMW</td>\n",
       "      <td>420</td>\n",
       "      <td>BMW 420 420d A Gran Coupé</td>\n",
       "      <td>59990</td>\n",
       "      <td>Keine Angabe</td>\n",
       "      <td>0</td>\n",
       "      <td>Automatik</td>\n",
       "      <td>- (Erstzulassung)</td>\n",
       "      <td>Diesel</td>\n",
       "      <td></td>\n",
       "      <td>W (- PS)</td>\n",
       "      <td>0</td>\n",
       "      <td>0</td>\n",
       "    </tr>\n",
       "    <tr>\n",
       "      <th>264648</th>\n",
       "      <td>BMW</td>\n",
       "      <td>420</td>\n",
       "      <td>BMW 420 i A Cabrio</td>\n",
       "      <td>81919</td>\n",
       "      <td>Keine Angabe</td>\n",
       "      <td>0</td>\n",
       "      <td>Automatik</td>\n",
       "      <td>- (Erstzulassung)</td>\n",
       "      <td>Benzin</td>\n",
       "      <td></td>\n",
       "      <td>W (- PS)</td>\n",
       "      <td>0</td>\n",
       "      <td>0</td>\n",
       "    </tr>\n",
       "    <tr>\n",
       "      <th>266292</th>\n",
       "      <td>BMW</td>\n",
       "      <td>420</td>\n",
       "      <td>BMW 420 i A Coupé</td>\n",
       "      <td>54795</td>\n",
       "      <td>Keine Angabe</td>\n",
       "      <td>0</td>\n",
       "      <td>Automatik</td>\n",
       "      <td>- (Erstzulassung)</td>\n",
       "      <td>Benzin</td>\n",
       "      <td></td>\n",
       "      <td>W (- PS)</td>\n",
       "      <td>0</td>\n",
       "      <td>0</td>\n",
       "    </tr>\n",
       "    <tr>\n",
       "      <th>266298</th>\n",
       "      <td>BMW</td>\n",
       "      <td>420</td>\n",
       "      <td>BMW 420 420i A Gran Coupé</td>\n",
       "      <td>58495</td>\n",
       "      <td>Keine Angabe</td>\n",
       "      <td>0</td>\n",
       "      <td>Automatik</td>\n",
       "      <td>- (Erstzulassung)</td>\n",
       "      <td>Benzin</td>\n",
       "      <td></td>\n",
       "      <td>W (- PS)</td>\n",
       "      <td>0</td>\n",
       "      <td>0</td>\n",
       "    </tr>\n",
       "    <tr>\n",
       "      <th>267423</th>\n",
       "      <td>BMW</td>\n",
       "      <td>420</td>\n",
       "      <td>BMW 420 420i A Gran Coupé</td>\n",
       "      <td>63079</td>\n",
       "      <td>Keine Angabe</td>\n",
       "      <td>0</td>\n",
       "      <td>Automatik</td>\n",
       "      <td>- (Erstzulassung)</td>\n",
       "      <td>Benzin</td>\n",
       "      <td></td>\n",
       "      <td>W (- PS)</td>\n",
       "      <td>0</td>\n",
       "      <td>0</td>\n",
       "    </tr>\n",
       "    <tr>\n",
       "      <th>267803</th>\n",
       "      <td>BMW</td>\n",
       "      <td>420</td>\n",
       "      <td>BMW 420 420d A Gran Coupé</td>\n",
       "      <td>66049</td>\n",
       "      <td>Keine Angabe</td>\n",
       "      <td>0</td>\n",
       "      <td>Automatik</td>\n",
       "      <td>- (Erstzulassung)</td>\n",
       "      <td>Diesel</td>\n",
       "      <td></td>\n",
       "      <td>W (- PS)</td>\n",
       "      <td>0</td>\n",
       "      <td>0</td>\n",
       "    </tr>\n",
       "    <tr>\n",
       "      <th>267846</th>\n",
       "      <td>BMW</td>\n",
       "      <td>420</td>\n",
       "      <td>BMW 420 420i A Gran Coupé</td>\n",
       "      <td>58149</td>\n",
       "      <td>Keine Angabe</td>\n",
       "      <td>0</td>\n",
       "      <td>Automatik</td>\n",
       "      <td>- (Erstzulassung)</td>\n",
       "      <td>Benzin</td>\n",
       "      <td></td>\n",
       "      <td>W (- PS)</td>\n",
       "      <td>0</td>\n",
       "      <td>0</td>\n",
       "    </tr>\n",
       "    <tr>\n",
       "      <th>267852</th>\n",
       "      <td>BMW</td>\n",
       "      <td>420</td>\n",
       "      <td>BMW 420 420d A Gran Coupé</td>\n",
       "      <td>65499</td>\n",
       "      <td>Keine Angabe</td>\n",
       "      <td>0</td>\n",
       "      <td>Automatik</td>\n",
       "      <td>- (Erstzulassung)</td>\n",
       "      <td>Benzin</td>\n",
       "      <td></td>\n",
       "      <td>W (- PS)</td>\n",
       "      <td>0</td>\n",
       "      <td>0</td>\n",
       "    </tr>\n",
       "    <tr>\n",
       "      <th>270732</th>\n",
       "      <td>BMW</td>\n",
       "      <td>520</td>\n",
       "      <td>BMW 520 d A Touring</td>\n",
       "      <td>77990</td>\n",
       "      <td>Keine Angabe</td>\n",
       "      <td>0</td>\n",
       "      <td>Automatik</td>\n",
       "      <td>- (Erstzulassung)</td>\n",
       "      <td>Diesel</td>\n",
       "      <td></td>\n",
       "      <td>W (- PS)</td>\n",
       "      <td>0</td>\n",
       "      <td>0</td>\n",
       "    </tr>\n",
       "    <tr>\n",
       "      <th>272356</th>\n",
       "      <td>BMW</td>\n",
       "      <td>520</td>\n",
       "      <td>BMW 520 i A Touring</td>\n",
       "      <td>68995</td>\n",
       "      <td>Keine Angabe</td>\n",
       "      <td>0</td>\n",
       "      <td>Automatik</td>\n",
       "      <td>- (Erstzulassung)</td>\n",
       "      <td>Benzin</td>\n",
       "      <td></td>\n",
       "      <td>W (- PS)</td>\n",
       "      <td>0</td>\n",
       "      <td>0</td>\n",
       "    </tr>\n",
       "    <tr>\n",
       "      <th>274552</th>\n",
       "      <td>BMW</td>\n",
       "      <td>520</td>\n",
       "      <td>BMW 520 d A xDrive Touring</td>\n",
       "      <td>69900</td>\n",
       "      <td>Keine Angabe</td>\n",
       "      <td>2996</td>\n",
       "      <td>Automatik</td>\n",
       "      <td>03/2023</td>\n",
       "      <td>Diesel</td>\n",
       "      <td></td>\n",
       "      <td>W (- PS)</td>\n",
       "      <td>03</td>\n",
       "      <td>2023</td>\n",
       "    </tr>\n",
       "    <tr>\n",
       "      <th>280455</th>\n",
       "      <td>BMW</td>\n",
       "      <td>530</td>\n",
       "      <td>BMW 530 d A xDrive Touring</td>\n",
       "      <td>88995</td>\n",
       "      <td>Keine Angabe</td>\n",
       "      <td>0</td>\n",
       "      <td>Automatik</td>\n",
       "      <td>- (Erstzulassung)</td>\n",
       "      <td>Diesel</td>\n",
       "      <td></td>\n",
       "      <td>W (- PS)</td>\n",
       "      <td>0</td>\n",
       "      <td>0</td>\n",
       "    </tr>\n",
       "    <tr>\n",
       "      <th>283161</th>\n",
       "      <td>BMW</td>\n",
       "      <td>530</td>\n",
       "      <td>BMW 530 i A xDrive Touring</td>\n",
       "      <td>83959</td>\n",
       "      <td>Keine Angabe</td>\n",
       "      <td>0</td>\n",
       "      <td>Automatik</td>\n",
       "      <td>- (Erstzulassung)</td>\n",
       "      <td>Benzin</td>\n",
       "      <td></td>\n",
       "      <td>W (- PS)</td>\n",
       "      <td>0</td>\n",
       "      <td>0</td>\n",
       "    </tr>\n",
       "    <tr>\n",
       "      <th>293848</th>\n",
       "      <td>BMW</td>\n",
       "      <td>x1</td>\n",
       "      <td>BMW X1 sDrive18d A</td>\n",
       "      <td>50995</td>\n",
       "      <td>Keine Angabe</td>\n",
       "      <td>0</td>\n",
       "      <td>Automatik</td>\n",
       "      <td>- (Erstzulassung)</td>\n",
       "      <td>Diesel</td>\n",
       "      <td></td>\n",
       "      <td>W (- PS)</td>\n",
       "      <td>0</td>\n",
       "      <td>0</td>\n",
       "    </tr>\n",
       "    <tr>\n",
       "      <th>320081</th>\n",
       "      <td>BMW</td>\n",
       "      <td>x5</td>\n",
       "      <td>BMW X5 xDrive40d A</td>\n",
       "      <td>132089</td>\n",
       "      <td>Keine Angabe</td>\n",
       "      <td>0</td>\n",
       "      <td>Automatik</td>\n",
       "      <td>- (Erstzulassung)</td>\n",
       "      <td>Diesel</td>\n",
       "      <td></td>\n",
       "      <td>W (- PS)</td>\n",
       "      <td>0</td>\n",
       "      <td>0</td>\n",
       "    </tr>\n",
       "    <tr>\n",
       "      <th>320860</th>\n",
       "      <td>BMW</td>\n",
       "      <td>x5</td>\n",
       "      <td>BMW X5 xDrive40d A</td>\n",
       "      <td>130159</td>\n",
       "      <td>Keine Angabe</td>\n",
       "      <td>0</td>\n",
       "      <td>Automatik</td>\n",
       "      <td>- (Erstzulassung)</td>\n",
       "      <td>Diesel</td>\n",
       "      <td></td>\n",
       "      <td>W (- PS)</td>\n",
       "      <td>0</td>\n",
       "      <td>0</td>\n",
       "    </tr>\n",
       "    <tr>\n",
       "      <th>332497</th>\n",
       "      <td>Audi</td>\n",
       "      <td>a1</td>\n",
       "      <td>Audi A1 Sportback S line 30 TFSI 81(110) +NAVI...</td>\n",
       "      <td>31290</td>\n",
       "      <td>Keine Angabe</td>\n",
       "      <td>3000</td>\n",
       "      <td>Automatik</td>\n",
       "      <td>02/2023</td>\n",
       "      <td>Benzin</td>\n",
       "      <td></td>\n",
       "      <td>W (- PS)</td>\n",
       "      <td>02</td>\n",
       "      <td>2023</td>\n",
       "    </tr>\n",
       "    <tr>\n",
       "      <th>334479</th>\n",
       "      <td>Audi</td>\n",
       "      <td>a1</td>\n",
       "      <td>Audi A1 SB 35 TFSI S Tronic 2 x S Line/LED/Nav...</td>\n",
       "      <td>35990</td>\n",
       "      <td>Keine Angabe</td>\n",
       "      <td>0</td>\n",
       "      <td>Automatik</td>\n",
       "      <td>- (Erstzulassung)</td>\n",
       "      <td>Benzin</td>\n",
       "      <td></td>\n",
       "      <td>W (- PS)</td>\n",
       "      <td>0</td>\n",
       "      <td>0</td>\n",
       "    </tr>\n",
       "    <tr>\n",
       "      <th>357700</th>\n",
       "      <td>Audi</td>\n",
       "      <td>a4</td>\n",
       "      <td>Audi A4 Avant 3.0 TDI S4 quattro 347PK Leer AC...</td>\n",
       "      <td>59900</td>\n",
       "      <td>Keine Angabe</td>\n",
       "      <td>50103</td>\n",
       "      <td>Automatik</td>\n",
       "      <td>09/2020</td>\n",
       "      <td>Hybrid</td>\n",
       "      <td></td>\n",
       "      <td>W (- PS)</td>\n",
       "      <td>09</td>\n",
       "      <td>2020</td>\n",
       "    </tr>\n",
       "    <tr>\n",
       "      <th>394081</th>\n",
       "      <td>Audi</td>\n",
       "      <td>a6</td>\n",
       "      <td>Audi A6 Avant design 40 TDI Aut quatt/CAM /AHK...</td>\n",
       "      <td>34880</td>\n",
       "      <td>Keine Angabe</td>\n",
       "      <td>74373</td>\n",
       "      <td>Automatik</td>\n",
       "      <td>03/2021</td>\n",
       "      <td>Diesel</td>\n",
       "      <td></td>\n",
       "      <td>W (- PS)</td>\n",
       "      <td>03</td>\n",
       "      <td>2021</td>\n",
       "    </tr>\n",
       "    <tr>\n",
       "      <th>405003</th>\n",
       "      <td>Audi</td>\n",
       "      <td>a7</td>\n",
       "      <td>Audi A7 Sportback 50 TDI quattro B&amp;O Panodak M...</td>\n",
       "      <td>56900</td>\n",
       "      <td>Keine Angabe</td>\n",
       "      <td>159980</td>\n",
       "      <td>Automatik</td>\n",
       "      <td>04/2018</td>\n",
       "      <td>Hybrid</td>\n",
       "      <td></td>\n",
       "      <td>W (- PS)</td>\n",
       "      <td>04</td>\n",
       "      <td>2018</td>\n",
       "    </tr>\n",
       "    <tr>\n",
       "      <th>437246</th>\n",
       "      <td>Audi</td>\n",
       "      <td>q3</td>\n",
       "      <td>Audi Q3 SB 35 TFSI S Tronic 2 x S Line/LED/SON...</td>\n",
       "      <td>52990</td>\n",
       "      <td>Keine Angabe</td>\n",
       "      <td>0</td>\n",
       "      <td>Automatik</td>\n",
       "      <td>- (Erstzulassung)</td>\n",
       "      <td>Benzin</td>\n",
       "      <td></td>\n",
       "      <td>W (- PS)</td>\n",
       "      <td>0</td>\n",
       "      <td>0</td>\n",
       "    </tr>\n",
       "    <tr>\n",
       "      <th>440688</th>\n",
       "      <td>Audi</td>\n",
       "      <td>q3</td>\n",
       "      <td>Audi Q3 SB 35 TFSI 2 x S Line/LED/AHK/ACC/Kame...</td>\n",
       "      <td>54990</td>\n",
       "      <td>Keine Angabe</td>\n",
       "      <td>0</td>\n",
       "      <td>Automatik</td>\n",
       "      <td>- (Erstzulassung)</td>\n",
       "      <td>Benzin</td>\n",
       "      <td></td>\n",
       "      <td>W (- PS)</td>\n",
       "      <td>0</td>\n",
       "      <td>0</td>\n",
       "    </tr>\n",
       "    <tr>\n",
       "      <th>442479</th>\n",
       "      <td>Audi</td>\n",
       "      <td>q3</td>\n",
       "      <td>Audi Q3 SB 35 TFSI S Tronic 2 x S Line/Matrix/...</td>\n",
       "      <td>56490</td>\n",
       "      <td>Keine Angabe</td>\n",
       "      <td>0</td>\n",
       "      <td>Automatik</td>\n",
       "      <td>- (Erstzulassung)</td>\n",
       "      <td>Benzin</td>\n",
       "      <td></td>\n",
       "      <td>W (- PS)</td>\n",
       "      <td>0</td>\n",
       "      <td>0</td>\n",
       "    </tr>\n",
       "    <tr>\n",
       "      <th>453343</th>\n",
       "      <td>Ford</td>\n",
       "      <td>ecosport</td>\n",
       "      <td>Ford EcoSport 1.0 Ecoboost ST-Line</td>\n",
       "      <td>25850</td>\n",
       "      <td>Keine Angabe</td>\n",
       "      <td>5</td>\n",
       "      <td>Schaltgetriebe</td>\n",
       "      <td>02/2023</td>\n",
       "      <td>Benzin</td>\n",
       "      <td></td>\n",
       "      <td>W (- PS)</td>\n",
       "      <td>02</td>\n",
       "      <td>2023</td>\n",
       "    </tr>\n",
       "    <tr>\n",
       "      <th>477995</th>\n",
       "      <td>Ford</td>\n",
       "      <td>focus</td>\n",
       "      <td>Ford Focus Turnier  1,5 TDCi Cool &amp; Connect Mo...</td>\n",
       "      <td>14550</td>\n",
       "      <td>Keine Angabe</td>\n",
       "      <td>129874</td>\n",
       "      <td>Schaltgetriebe</td>\n",
       "      <td>08/2019</td>\n",
       "      <td>Diesel</td>\n",
       "      <td></td>\n",
       "      <td>W (- PS)</td>\n",
       "      <td>08</td>\n",
       "      <td>2019</td>\n",
       "    </tr>\n",
       "    <tr>\n",
       "      <th>538544</th>\n",
       "      <td>Opel</td>\n",
       "      <td>astra</td>\n",
       "      <td>Opel Astra K Sports Tourer Business  Navi*LED*...</td>\n",
       "      <td>12650</td>\n",
       "      <td>Keine Angabe</td>\n",
       "      <td>99998</td>\n",
       "      <td>Schaltgetriebe</td>\n",
       "      <td>05/2018</td>\n",
       "      <td>Diesel</td>\n",
       "      <td></td>\n",
       "      <td>W (- PS)</td>\n",
       "      <td>05</td>\n",
       "      <td>2018</td>\n",
       "    </tr>\n",
       "    <tr>\n",
       "      <th>551312</th>\n",
       "      <td>Opel</td>\n",
       "      <td>corsa</td>\n",
       "      <td>Opel Corsa F GS-Line 1.2 **Allwetter/PDC/Sitzh...</td>\n",
       "      <td>18790</td>\n",
       "      <td>Keine Angabe</td>\n",
       "      <td>20553</td>\n",
       "      <td>Schaltgetriebe</td>\n",
       "      <td>01/2022</td>\n",
       "      <td>Benzin</td>\n",
       "      <td></td>\n",
       "      <td>W (- PS)</td>\n",
       "      <td>01</td>\n",
       "      <td>2022</td>\n",
       "    </tr>\n",
       "    <tr>\n",
       "      <th>620335</th>\n",
       "      <td>Opel</td>\n",
       "      <td>crossland</td>\n",
       "      <td>Opel Crossland X Edition **Klimaautomatik/Sitz...</td>\n",
       "      <td>14950</td>\n",
       "      <td>Keine Angabe</td>\n",
       "      <td>39921</td>\n",
       "      <td>Schaltgetriebe</td>\n",
       "      <td>11/2019</td>\n",
       "      <td>Benzin</td>\n",
       "      <td></td>\n",
       "      <td>W (- PS)</td>\n",
       "      <td>11</td>\n",
       "      <td>2019</td>\n",
       "    </tr>\n",
       "  </tbody>\n",
       "</table>\n",
       "</div>"
      ],
      "text/plain": [
       "                Brand           Model   \n",
       "90361   Mercedes-Benz           e 220  \\\n",
       "103641     Volkswagen            golf   \n",
       "118384     Volkswagen        golf gti   \n",
       "118403     Volkswagen        golf gti   \n",
       "150288     Volkswagen  passat variant   \n",
       "167757     Volkswagen          tiguan   \n",
       "199628     Volkswagen            polo   \n",
       "220331            BMW             118   \n",
       "220599            BMW             118   \n",
       "220601            BMW             118   \n",
       "220602            BMW             118   \n",
       "222144            BMW             118   \n",
       "232280            BMW             218   \n",
       "255781            BMW             330   \n",
       "255798            BMW             330   \n",
       "256464            BMW             330   \n",
       "262775            BMW             420   \n",
       "262776            BMW             420   \n",
       "263213            BMW             420   \n",
       "264060            BMW             420   \n",
       "264420            BMW             420   \n",
       "264436            BMW             420   \n",
       "264440            BMW             420   \n",
       "264647            BMW             420   \n",
       "264648            BMW             420   \n",
       "266292            BMW             420   \n",
       "266298            BMW             420   \n",
       "267423            BMW             420   \n",
       "267803            BMW             420   \n",
       "267846            BMW             420   \n",
       "267852            BMW             420   \n",
       "270732            BMW             520   \n",
       "272356            BMW             520   \n",
       "274552            BMW             520   \n",
       "280455            BMW             530   \n",
       "283161            BMW             530   \n",
       "293848            BMW              x1   \n",
       "320081            BMW              x5   \n",
       "320860            BMW              x5   \n",
       "332497           Audi              a1   \n",
       "334479           Audi              a1   \n",
       "357700           Audi              a4   \n",
       "394081           Audi              a6   \n",
       "405003           Audi              a7   \n",
       "437246           Audi              q3   \n",
       "440688           Audi              q3   \n",
       "442479           Audi              q3   \n",
       "453343           Ford        ecosport   \n",
       "477995           Ford           focus   \n",
       "538544           Opel           astra   \n",
       "551312           Opel           corsa   \n",
       "620335           Opel       crossland   \n",
       "\n",
       "                                                    title   Price   \n",
       "90361   Mercedes-Benz E 220 d Kombi AMG Line*Widescree...   49900  \\\n",
       "103641  Volkswagen Golf GTD 2.0TDI+DSG+ACC+\"Black St\"+...   39911   \n",
       "118384  Volkswagen Golf GTI 8 2.0 TSI DSG ALU 18 H+K NAVI   39950   \n",
       "118403  Volkswagen Golf GTI 8 2.0 TSI DSG ALU 18 H+K NAVI   39950   \n",
       "150288  Volkswagen Passat Variant 2.0 TSI DSG BUSINESS...   28170   \n",
       "167757  Volkswagen Tiguan R-Line 2.0 TSI OPF DSG 4MOTI...   59095   \n",
       "199628                    Volkswagen Polo Style 1,0 l TSI   26090   \n",
       "220331                                          BMW 118 i   42375   \n",
       "220599                                          BMW 118 i   41505   \n",
       "220601                                          BMW 118 i   44475   \n",
       "220602                                          BMW 118 i   45865   \n",
       "222144  BMW 118 118i 8-Fach Klimaauto Parksensoren 1.5...   15880   \n",
       "232280                             BMW 218 d A Gran Coupe   44490   \n",
       "255781                         BMW 330 d A xDrive Touring   78390   \n",
       "255798                         BMW 330 d A xDrive Touring   87079   \n",
       "256464                         BMW 330 d A xDrive Touring   81495   \n",
       "262775                          BMW 420 420d A Gran Coupé   77599   \n",
       "262776                                 BMW 420 i A Cabrio   77969   \n",
       "263213                          BMW 420 420d A Gran Coupé   57990   \n",
       "264060                          BMW 420 420i A Gran Coupé   62409   \n",
       "264420                                 BMW 420 i A Cabrio   67995   \n",
       "264436                   BMW 420 420d A xDrive Gran Coupé   54990   \n",
       "264440                   BMW 420 420d A xDrive Gran Coupé   64990   \n",
       "264647                          BMW 420 420d A Gran Coupé   59990   \n",
       "264648                                 BMW 420 i A Cabrio   81919   \n",
       "266292                                  BMW 420 i A Coupé   54795   \n",
       "266298                          BMW 420 420i A Gran Coupé   58495   \n",
       "267423                          BMW 420 420i A Gran Coupé   63079   \n",
       "267803                          BMW 420 420d A Gran Coupé   66049   \n",
       "267846                          BMW 420 420i A Gran Coupé   58149   \n",
       "267852                          BMW 420 420d A Gran Coupé   65499   \n",
       "270732                                BMW 520 d A Touring   77990   \n",
       "272356                                BMW 520 i A Touring   68995   \n",
       "274552                         BMW 520 d A xDrive Touring   69900   \n",
       "280455                         BMW 530 d A xDrive Touring   88995   \n",
       "283161                         BMW 530 i A xDrive Touring   83959   \n",
       "293848                                 BMW X1 sDrive18d A   50995   \n",
       "320081                                 BMW X5 xDrive40d A  132089   \n",
       "320860                                 BMW X5 xDrive40d A  130159   \n",
       "332497  Audi A1 Sportback S line 30 TFSI 81(110) +NAVI...   31290   \n",
       "334479  Audi A1 SB 35 TFSI S Tronic 2 x S Line/LED/Nav...   35990   \n",
       "357700  Audi A4 Avant 3.0 TDI S4 quattro 347PK Leer AC...   59900   \n",
       "394081  Audi A6 Avant design 40 TDI Aut quatt/CAM /AHK...   34880   \n",
       "405003  Audi A7 Sportback 50 TDI quattro B&O Panodak M...   56900   \n",
       "437246  Audi Q3 SB 35 TFSI S Tronic 2 x S Line/LED/SON...   52990   \n",
       "440688  Audi Q3 SB 35 TFSI 2 x S Line/LED/AHK/ACC/Kame...   54990   \n",
       "442479  Audi Q3 SB 35 TFSI S Tronic 2 x S Line/Matrix/...   56490   \n",
       "453343                 Ford EcoSport 1.0 Ecoboost ST-Line   25850   \n",
       "477995  Ford Focus Turnier  1,5 TDCi Cool & Connect Mo...   14550   \n",
       "538544  Opel Astra K Sports Tourer Business  Navi*LED*...   12650   \n",
       "551312  Opel Corsa F GS-Line 1.2 **Allwetter/PDC/Sitzh...   18790   \n",
       "620335  Opel Crossland X Edition **Klimaautomatik/Sitz...   14950   \n",
       "\n",
       "               Label      km         gearbox      registiration    fuel kw   \n",
       "90361   Keine Angabe   17900       Automatik            06/2022  Diesel     \\\n",
       "103641  Keine Angabe    9810       Automatik            04/2022  Diesel      \n",
       "118384  Keine Angabe     100       Automatik  - (Erstzulassung)  Benzin      \n",
       "118403  Keine Angabe    1200       Automatik            01/2023  Benzin      \n",
       "150288  Keine Angabe   59417       Automatik            11/2019  Benzin      \n",
       "167757  Keine Angabe       0       Automatik  - (Erstzulassung)  Benzin      \n",
       "199628  Keine Angabe       0  Schaltgetriebe  - (Erstzulassung)  Benzin      \n",
       "220331  Keine Angabe       0  Schaltgetriebe  - (Erstzulassung)  Benzin      \n",
       "220599  Keine Angabe       0  Schaltgetriebe  - (Erstzulassung)  Benzin      \n",
       "220601  Keine Angabe       0       Automatik  - (Erstzulassung)  Benzin      \n",
       "220602  Keine Angabe       0       Automatik  - (Erstzulassung)  Benzin      \n",
       "222144  Keine Angabe   67529  Schaltgetriebe            01/2018  Benzin      \n",
       "232280  Keine Angabe       0       Automatik  - (Erstzulassung)  Diesel      \n",
       "255781  Keine Angabe       0       Automatik  - (Erstzulassung)  Diesel      \n",
       "255798  Keine Angabe       0       Automatik  - (Erstzulassung)  Diesel      \n",
       "256464  Keine Angabe       0       Automatik  - (Erstzulassung)  Diesel      \n",
       "262775  Keine Angabe       0       Automatik  - (Erstzulassung)  Benzin      \n",
       "262776  Keine Angabe       0       Automatik  - (Erstzulassung)  Benzin      \n",
       "263213  Keine Angabe    1000       Automatik            05/2023  Diesel      \n",
       "264060  Keine Angabe       0       Automatik  - (Erstzulassung)  Benzin      \n",
       "264420  Keine Angabe       0       Automatik  - (Erstzulassung)  Benzin      \n",
       "264436  Keine Angabe    2694       Automatik            03/2023  Diesel      \n",
       "264440  Keine Angabe       0       Automatik  - (Erstzulassung)  Diesel      \n",
       "264647  Keine Angabe       0       Automatik  - (Erstzulassung)  Diesel      \n",
       "264648  Keine Angabe       0       Automatik  - (Erstzulassung)  Benzin      \n",
       "266292  Keine Angabe       0       Automatik  - (Erstzulassung)  Benzin      \n",
       "266298  Keine Angabe       0       Automatik  - (Erstzulassung)  Benzin      \n",
       "267423  Keine Angabe       0       Automatik  - (Erstzulassung)  Benzin      \n",
       "267803  Keine Angabe       0       Automatik  - (Erstzulassung)  Diesel      \n",
       "267846  Keine Angabe       0       Automatik  - (Erstzulassung)  Benzin      \n",
       "267852  Keine Angabe       0       Automatik  - (Erstzulassung)  Benzin      \n",
       "270732  Keine Angabe       0       Automatik  - (Erstzulassung)  Diesel      \n",
       "272356  Keine Angabe       0       Automatik  - (Erstzulassung)  Benzin      \n",
       "274552  Keine Angabe    2996       Automatik            03/2023  Diesel      \n",
       "280455  Keine Angabe       0       Automatik  - (Erstzulassung)  Diesel      \n",
       "283161  Keine Angabe       0       Automatik  - (Erstzulassung)  Benzin      \n",
       "293848  Keine Angabe       0       Automatik  - (Erstzulassung)  Diesel      \n",
       "320081  Keine Angabe       0       Automatik  - (Erstzulassung)  Diesel      \n",
       "320860  Keine Angabe       0       Automatik  - (Erstzulassung)  Diesel      \n",
       "332497  Keine Angabe    3000       Automatik            02/2023  Benzin      \n",
       "334479  Keine Angabe       0       Automatik  - (Erstzulassung)  Benzin      \n",
       "357700  Keine Angabe   50103       Automatik            09/2020  Hybrid      \n",
       "394081  Keine Angabe   74373       Automatik            03/2021  Diesel      \n",
       "405003  Keine Angabe  159980       Automatik            04/2018  Hybrid      \n",
       "437246  Keine Angabe       0       Automatik  - (Erstzulassung)  Benzin      \n",
       "440688  Keine Angabe       0       Automatik  - (Erstzulassung)  Benzin      \n",
       "442479  Keine Angabe       0       Automatik  - (Erstzulassung)  Benzin      \n",
       "453343  Keine Angabe       5  Schaltgetriebe            02/2023  Benzin      \n",
       "477995  Keine Angabe  129874  Schaltgetriebe            08/2019  Diesel      \n",
       "538544  Keine Angabe   99998  Schaltgetriebe            05/2018  Diesel      \n",
       "551312  Keine Angabe   20553  Schaltgetriebe            01/2022  Benzin      \n",
       "620335  Keine Angabe   39921  Schaltgetriebe            11/2019  Benzin      \n",
       "\n",
       "              ps reg_month reg_year  \n",
       "90361   W (- PS)        06     2022  \n",
       "103641  W (- PS)        04     2022  \n",
       "118384  W (- PS)         0        0  \n",
       "118403  W (- PS)        01     2023  \n",
       "150288  W (- PS)        11     2019  \n",
       "167757  W (- PS)         0        0  \n",
       "199628  W (- PS)         0        0  \n",
       "220331  W (- PS)         0        0  \n",
       "220599  W (- PS)         0        0  \n",
       "220601  W (- PS)         0        0  \n",
       "220602  W (- PS)         0        0  \n",
       "222144  W (- PS)        01     2018  \n",
       "232280  W (- PS)         0        0  \n",
       "255781  W (- PS)         0        0  \n",
       "255798  W (- PS)         0        0  \n",
       "256464  W (- PS)         0        0  \n",
       "262775  W (- PS)         0        0  \n",
       "262776  W (- PS)         0        0  \n",
       "263213  W (- PS)        05     2023  \n",
       "264060  W (- PS)         0        0  \n",
       "264420  W (- PS)         0        0  \n",
       "264436  W (- PS)        03     2023  \n",
       "264440  W (- PS)         0        0  \n",
       "264647  W (- PS)         0        0  \n",
       "264648  W (- PS)         0        0  \n",
       "266292  W (- PS)         0        0  \n",
       "266298  W (- PS)         0        0  \n",
       "267423  W (- PS)         0        0  \n",
       "267803  W (- PS)         0        0  \n",
       "267846  W (- PS)         0        0  \n",
       "267852  W (- PS)         0        0  \n",
       "270732  W (- PS)         0        0  \n",
       "272356  W (- PS)         0        0  \n",
       "274552  W (- PS)        03     2023  \n",
       "280455  W (- PS)         0        0  \n",
       "283161  W (- PS)         0        0  \n",
       "293848  W (- PS)         0        0  \n",
       "320081  W (- PS)         0        0  \n",
       "320860  W (- PS)         0        0  \n",
       "332497  W (- PS)        02     2023  \n",
       "334479  W (- PS)         0        0  \n",
       "357700  W (- PS)        09     2020  \n",
       "394081  W (- PS)        03     2021  \n",
       "405003  W (- PS)        04     2018  \n",
       "437246  W (- PS)         0        0  \n",
       "440688  W (- PS)         0        0  \n",
       "442479  W (- PS)         0        0  \n",
       "453343  W (- PS)        02     2023  \n",
       "477995  W (- PS)        08     2019  \n",
       "538544  W (- PS)        05     2018  \n",
       "551312  W (- PS)        01     2022  \n",
       "620335  W (- PS)        11     2019  "
      ]
     },
     "execution_count": 155,
     "metadata": {},
     "output_type": "execute_result"
    }
   ],
   "source": [
    "cars[cars.kw==\"\"]"
   ]
  },
  {
   "cell_type": "code",
   "execution_count": 156,
   "metadata": {},
   "outputs": [],
   "source": [
    "# Nachdem wir die Zeichen in der Spalte verworfen haben, stellen wir fest, dass einige Zeilen völlig leer sind. \n",
    "# Ersetzen wir diese Zeilen durch Nan-Werte.\n",
    "cars.kw = cars.kw.replace(\"\", np.nan)"
   ]
  },
  {
   "cell_type": "markdown",
   "metadata": {},
   "source": [
    "### <a class = \"anchor\" id = \"ps\"> Spalte PS </a>\n",
    "\n",
    "[Home](#content)"
   ]
  },
  {
   "cell_type": "code",
   "execution_count": 157,
   "metadata": {},
   "outputs": [
    {
     "data": {
      "text/plain": [
       "ps\n",
       "(150 PS)    25772\n",
       "(190 PS)    11133\n",
       "(131 PS)     6871\n",
       "(110 PS)     6295\n",
       "(125 PS)     4190\n",
       "            ...  \n",
       "(401 PS)        1\n",
       "(287 PS)        1\n",
       "(373 PS)        1\n",
       "(378 PS)        1\n",
       "(121 PS)        1\n",
       "Name: count, Length: 171, dtype: int64"
      ]
     },
     "execution_count": 157,
     "metadata": {},
     "output_type": "execute_result"
    }
   ],
   "source": [
    "cars.ps.value_counts(dropna=0)"
   ]
  },
  {
   "cell_type": "code",
   "execution_count": 158,
   "metadata": {},
   "outputs": [],
   "source": [
    "# Als wir die leeren Werte in der kw-Spalte überprüft haben, haben wir gesehen, dass dieselben Zeilen in der ps-Spalte leer waren,\n",
    "# Wenn wir diese Zeilen konvertieren, machen wir die nicht-numerischen Zeilen direkt zu Nan-Werten.\n",
    "\n",
    "cars.ps = cars.ps.apply(lambda x: re.sub(r'\\D', '', x) if \"W (- PS)\" not in x else np.nan)"
   ]
  },
  {
   "attachments": {},
   "cell_type": "markdown",
   "metadata": {},
   "source": [
    "***\n",
    "***\n",
    "\n",
    "# <a class = \"anchor\" id = \"tm\"> Behandlung fehlender Werte </a>\n",
    "\n",
    "<span style=\"font-size: 25px;\">[*Home*](#content)</span>"
   ]
  },
  {
   "cell_type": "code",
   "execution_count": 159,
   "metadata": {},
   "outputs": [
    {
     "data": {
      "text/plain": [
       "Brand             0\n",
       "Model             0\n",
       "title             0\n",
       "Price             0\n",
       "Label             0\n",
       "km                0\n",
       "gearbox           0\n",
       "registiration     0\n",
       "fuel             59\n",
       "kw               52\n",
       "ps               52\n",
       "reg_month         0\n",
       "reg_year          0\n",
       "dtype: int64"
      ]
     },
     "execution_count": 159,
     "metadata": {},
     "output_type": "execute_result"
    }
   ],
   "source": [
    "# Nachdem wir alle Spalten bereinigt haben, beginnen wir den Kampf gegen fehlende Daten.\n",
    "cars.isna().sum()"
   ]
  },
  {
   "attachments": {},
   "cell_type": "markdown",
   "metadata": {},
   "source": [
    "<font color=\"lightgreen\" size=\"4\">Beim Bereinigen der Daten haben wir einige Punkte gesehen und identifiziert. Zum Beispiel ist die Kraftstoffspalte mit Informationen wie dem Automodell, Sch, kW-Wert usw. verknüpft. In diesem Fall können wir folgendes tun: Wir können unsere Daten entsprechend der geeigneten Spalten gruppieren und die wenigen NaN-Werte gemäß den Werten in den gebildeten Gruppen ausfüllen.\n",
    "\n",
    "Eine zweite Methode könnte die Bottom-Top-Auffüllungsmethode sein. Denn wenn wir die Daten abrufen, tun wir dies bereits in einer bestimmten Reihenfolge. Daher kann es vorkommen, dass die darüberliegende und die darunterliegende Zeile miteinander zusammenhängen.</font>\n",
    "\n",
    "<font color=\"lightblue\" size=\"5\">Die Verwendung des k-nächste-Nachbarn (kNN) Algorithmus in den beiden oben genannten Fällen wird ein effizientes Ergebnis liefern. Wir verwenden diese Methode insbesondere für die Spalten \"kw\" und \"ps\", die numerische Werte enthalten. Wir können auch die Kraftstoffspalte kennzeichnen und mit diesem Algorithmus ausfüllen.</font>"
   ]
  },
  {
   "cell_type": "code",
   "execution_count": 160,
   "metadata": {},
   "outputs": [
    {
     "data": {
      "text/plain": [
       "Brand             0\n",
       "Model             0\n",
       "title             0\n",
       "Price             0\n",
       "Label             0\n",
       "km                0\n",
       "gearbox           0\n",
       "registiration     0\n",
       "fuel             59\n",
       "kw                0\n",
       "ps                0\n",
       "reg_month         0\n",
       "reg_year          0\n",
       "dtype: int64"
      ]
     },
     "execution_count": 160,
     "metadata": {},
     "output_type": "execute_result"
    }
   ],
   "source": [
    "from sklearn.impute import KNNImputer\n",
    "# für Spalte kw and ps\n",
    "nan_values = cars[[\"kw\", \"ps\"]]\n",
    "imputer = KNNImputer(n_neighbors=5)\n",
    "car_filled = imputer.fit_transform(nan_values)\n",
    "\n",
    "cars[['kw', 'ps']] = car_filled\n",
    "\n",
    "cars.isna().sum()"
   ]
  },
  {
   "cell_type": "code",
   "execution_count": 161,
   "metadata": {},
   "outputs": [],
   "source": [
    "cars.fuel.fillna(method=\"bfill\", inplace=True)"
   ]
  },
  {
   "cell_type": "code",
   "execution_count": 162,
   "metadata": {},
   "outputs": [
    {
     "data": {
      "text/plain": [
       "158"
      ]
     },
     "execution_count": 162,
     "metadata": {},
     "output_type": "execute_result"
    }
   ],
   "source": [
    "# Prüfen wir ein letztes Mal, ob sich eine Zeile wiederholt\n",
    "cars.duplicated().sum()"
   ]
  },
  {
   "cell_type": "code",
   "execution_count": 163,
   "metadata": {},
   "outputs": [],
   "source": [
    "cars.drop_duplicates(inplace=True)"
   ]
  },
  {
   "cell_type": "code",
   "execution_count": 164,
   "metadata": {},
   "outputs": [
    {
     "data": {
      "text/html": [
       "<div>\n",
       "<style scoped>\n",
       "    .dataframe tbody tr th:only-of-type {\n",
       "        vertical-align: middle;\n",
       "    }\n",
       "\n",
       "    .dataframe tbody tr th {\n",
       "        vertical-align: top;\n",
       "    }\n",
       "\n",
       "    .dataframe thead th {\n",
       "        text-align: right;\n",
       "    }\n",
       "</style>\n",
       "<table border=\"1\" class=\"dataframe\">\n",
       "  <thead>\n",
       "    <tr style=\"text-align: right;\">\n",
       "      <th></th>\n",
       "      <th>Brand</th>\n",
       "      <th>Model</th>\n",
       "      <th>title</th>\n",
       "      <th>Price</th>\n",
       "      <th>Label</th>\n",
       "      <th>km</th>\n",
       "      <th>gearbox</th>\n",
       "      <th>registiration</th>\n",
       "      <th>fuel</th>\n",
       "      <th>kw</th>\n",
       "      <th>ps</th>\n",
       "      <th>reg_month</th>\n",
       "      <th>reg_year</th>\n",
       "    </tr>\n",
       "  </thead>\n",
       "  <tbody>\n",
       "    <tr>\n",
       "      <th>0</th>\n",
       "      <td>Mercedes-Benz</td>\n",
       "      <td>a 180</td>\n",
       "      <td>Mercedes-Benz A 180 Progressive LED/Sportsitze...</td>\n",
       "      <td>25900</td>\n",
       "      <td>Guter Preis</td>\n",
       "      <td>14999</td>\n",
       "      <td>Schaltgetriebe</td>\n",
       "      <td>05/2020</td>\n",
       "      <td>Benzin</td>\n",
       "      <td>100.0</td>\n",
       "      <td>136.0</td>\n",
       "      <td>05</td>\n",
       "      <td>2020</td>\n",
       "    </tr>\n",
       "    <tr>\n",
       "      <th>7</th>\n",
       "      <td>Mercedes-Benz</td>\n",
       "      <td>a 180</td>\n",
       "      <td>Mercedes-Benz A 180 7G-DCT Style NAV+LED+SHZ+DAB+</td>\n",
       "      <td>24749</td>\n",
       "      <td>Sehr guter Preis</td>\n",
       "      <td>46750</td>\n",
       "      <td>Automatik</td>\n",
       "      <td>11/2019</td>\n",
       "      <td>Benzin</td>\n",
       "      <td>100.0</td>\n",
       "      <td>136.0</td>\n",
       "      <td>11</td>\n",
       "      <td>2019</td>\n",
       "    </tr>\n",
       "    <tr>\n",
       "      <th>8</th>\n",
       "      <td>Mercedes-Benz</td>\n",
       "      <td>a 180</td>\n",
       "      <td>Mercedes-Benz A 180 \"Advanced\" AMG+PREMIUM+KAM...</td>\n",
       "      <td>32995</td>\n",
       "      <td>Keine Angabe</td>\n",
       "      <td>6560</td>\n",
       "      <td>Automatik</td>\n",
       "      <td>11/2022</td>\n",
       "      <td>Benzin</td>\n",
       "      <td>100.0</td>\n",
       "      <td>136.0</td>\n",
       "      <td>11</td>\n",
       "      <td>2022</td>\n",
       "    </tr>\n",
       "    <tr>\n",
       "      <th>9</th>\n",
       "      <td>Mercedes-Benz</td>\n",
       "      <td>a 180</td>\n",
       "      <td>Mercedes-Benz A 180 AMG Line Limo., MBUX High ...</td>\n",
       "      <td>31500</td>\n",
       "      <td>Fairer Preis</td>\n",
       "      <td>16749</td>\n",
       "      <td>Automatik</td>\n",
       "      <td>01/2021</td>\n",
       "      <td>Benzin</td>\n",
       "      <td>100.0</td>\n",
       "      <td>136.0</td>\n",
       "      <td>01</td>\n",
       "      <td>2021</td>\n",
       "    </tr>\n",
       "    <tr>\n",
       "      <th>10</th>\n",
       "      <td>Mercedes-Benz</td>\n",
       "      <td>a 180</td>\n",
       "      <td>Mercedes-Benz A 180 AMG+NIGHT+KAMERA+LED+MBUX-...</td>\n",
       "      <td>33475</td>\n",
       "      <td>Keine Angabe</td>\n",
       "      <td>6900</td>\n",
       "      <td>Automatik</td>\n",
       "      <td>11/2022</td>\n",
       "      <td>Benzin</td>\n",
       "      <td>100.0</td>\n",
       "      <td>136.0</td>\n",
       "      <td>11</td>\n",
       "      <td>2022</td>\n",
       "    </tr>\n",
       "  </tbody>\n",
       "</table>\n",
       "</div>"
      ],
      "text/plain": [
       "            Brand  Model                                              title   \n",
       "0   Mercedes-Benz  a 180  Mercedes-Benz A 180 Progressive LED/Sportsitze...  \\\n",
       "7   Mercedes-Benz  a 180  Mercedes-Benz A 180 7G-DCT Style NAV+LED+SHZ+DAB+   \n",
       "8   Mercedes-Benz  a 180  Mercedes-Benz A 180 \"Advanced\" AMG+PREMIUM+KAM...   \n",
       "9   Mercedes-Benz  a 180  Mercedes-Benz A 180 AMG Line Limo., MBUX High ...   \n",
       "10  Mercedes-Benz  a 180  Mercedes-Benz A 180 AMG+NIGHT+KAMERA+LED+MBUX-...   \n",
       "\n",
       "    Price             Label     km         gearbox registiration    fuel   \n",
       "0   25900       Guter Preis  14999  Schaltgetriebe       05/2020  Benzin  \\\n",
       "7   24749  Sehr guter Preis  46750       Automatik       11/2019  Benzin   \n",
       "8   32995      Keine Angabe   6560       Automatik       11/2022  Benzin   \n",
       "9   31500      Fairer Preis  16749       Automatik       01/2021  Benzin   \n",
       "10  33475      Keine Angabe   6900       Automatik       11/2022  Benzin   \n",
       "\n",
       "       kw     ps reg_month reg_year  \n",
       "0   100.0  136.0        05     2020  \n",
       "7   100.0  136.0        11     2019  \n",
       "8   100.0  136.0        11     2022  \n",
       "9   100.0  136.0        01     2021  \n",
       "10  100.0  136.0        11     2022  "
      ]
     },
     "execution_count": 164,
     "metadata": {},
     "output_type": "execute_result"
    }
   ],
   "source": [
    "# Werfen wir noch einen letzten Blick auf die Daten.\n",
    "cars.head()"
   ]
  },
  {
   "cell_type": "code",
   "execution_count": 165,
   "metadata": {},
   "outputs": [
    {
     "name": "stdout",
     "output_type": "stream",
     "text": [
      "<class 'pandas.core.frame.DataFrame'>\n",
      "Index: 123279 entries, 0 to 725148\n",
      "Data columns (total 13 columns):\n",
      " #   Column         Non-Null Count   Dtype  \n",
      "---  ------         --------------   -----  \n",
      " 0   Brand          123279 non-null  object \n",
      " 1   Model          123279 non-null  object \n",
      " 2   title          123279 non-null  object \n",
      " 3   Price          123279 non-null  int32  \n",
      " 4   Label          123279 non-null  object \n",
      " 5   km             123279 non-null  int32  \n",
      " 6   gearbox        123279 non-null  object \n",
      " 7   registiration  123279 non-null  object \n",
      " 8   fuel           123279 non-null  object \n",
      " 9   kw             123279 non-null  float64\n",
      " 10  ps             123279 non-null  float64\n",
      " 11  reg_month      123279 non-null  object \n",
      " 12  reg_year       123279 non-null  object \n",
      "dtypes: float64(2), int32(2), object(9)\n",
      "memory usage: 12.2+ MB\n"
     ]
    }
   ],
   "source": [
    "cars.info()"
   ]
  },
  {
   "attachments": {},
   "cell_type": "markdown",
   "metadata": {},
   "source": [
    "<font color=\"lightgreen\" size=\"4\">Bei der Scraping-Operation der Daten habe ich einen Fehler gefunden, den ich für die Struktur der Website halte. Die \"schadstoff\" Spalte wurde falsch heruntergeladen. Aufgrund dieser Situation möchte ich die \"schadstoff\" Spalte entfernen und überprüfen, ob es doppelte Werte gibt.</font>"
   ]
  },
  {
   "cell_type": "markdown",
   "metadata": {},
   "source": [
    "***"
   ]
  },
  {
   "attachments": {},
   "cell_type": "markdown",
   "metadata": {},
   "source": [
    "* <font color=\"lightgreen\" size=\"4\"> Wir sind mit der Datenbereinigung fertig, jetzt speichern wir die endgültigen Daten in einer neuen csv-Datei.</font>"
   ]
  },
  {
   "cell_type": "code",
   "execution_count": 166,
   "metadata": {},
   "outputs": [],
   "source": [
    "cars.to_csv(\"cars_EDA.csv\", index=False)"
   ]
  },
  {
   "cell_type": "markdown",
   "metadata": {},
   "source": [
    "***\n",
    "***\n",
    "# <a class = \"anchor\" id = \"auswertung\"> Auswertung </a>\n",
    "\n",
    "<span style=\"font-size: 25px;\">[*Home*](#content)</span>"
   ]
  },
  {
   "cell_type": "markdown",
   "metadata": {},
   "source": [
    "Wir haben die Datenbereinigung für die von der Auto Scout-Website gescrapten Daten abgeschlossen. Aufgrund der Struktur der Website gibt es maximal 20 Seiten mit jeweils 20 Fahrzeugdaten, um so viele Fahrzeuginformationen wie möglich zu erhalten. Wir haben festgestellt, dass es im Datensatz viele wiederholte Informationen gibt. Nach einer detaillierten EDA-Analyse wurde der Datensatz für die Verwendung mit ML-Modellen vorbereitet."
   ]
  }
 ],
 "metadata": {
  "kernelspec": {
   "display_name": "venv",
   "language": "python",
   "name": "python3"
  },
  "language_info": {
   "codemirror_mode": {
    "name": "ipython",
    "version": 3
   },
   "file_extension": ".py",
   "mimetype": "text/x-python",
   "name": "python",
   "nbconvert_exporter": "python",
   "pygments_lexer": "ipython3",
   "version": "3.9.13"
  },
  "orig_nbformat": 4
 },
 "nbformat": 4,
 "nbformat_minor": 2
}
